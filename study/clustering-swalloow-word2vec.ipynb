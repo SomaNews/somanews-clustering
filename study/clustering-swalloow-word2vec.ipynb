{
 "cells": [
  {
   "cell_type": "markdown",
   "metadata": {},
   "source": [
    "# Study script of Word2Vec models"
   ]
  },
  {
   "cell_type": "code",
   "execution_count": 3,
   "metadata": {
    "collapsed": false
   },
   "outputs": [],
   "source": [
    "import numpy as np\n",
    "import pandas as pd"
   ]
  },
  {
   "cell_type": "markdown",
   "metadata": {},
   "source": [
    "## Load Data"
   ]
  },
  {
   "cell_type": "code",
   "execution_count": 6,
   "metadata": {
    "collapsed": true
   },
   "outputs": [],
   "source": [
    "from pymongo import MongoClient"
   ]
  },
  {
   "cell_type": "code",
   "execution_count": 7,
   "metadata": {
    "collapsed": true
   },
   "outputs": [],
   "source": [
    "client = MongoClient('localhost', 27017)\n",
    "db = client.get_database('somanews')\n",
    "articles = db.get_collection('articles')"
   ]
  },
  {
   "cell_type": "code",
   "execution_count": 9,
   "metadata": {
    "collapsed": true
   },
   "outputs": [],
   "source": [
    "train = pd.DataFrame(list(articles.find()))\n",
    "client.close()"
   ]
  },
  {
   "cell_type": "code",
   "execution_count": 10,
   "metadata": {
    "collapsed": false,
    "scrolled": true
   },
   "outputs": [
    {
     "data": {
      "text/html": [
       "<div>\n",
       "<table border=\"1\" class=\"dataframe\">\n",
       "  <thead>\n",
       "    <tr style=\"text-align: right;\">\n",
       "      <th></th>\n",
       "      <th>category</th>\n",
       "      <th>content</th>\n",
       "      <th>provider</th>\n",
       "      <th>publishedAt</th>\n",
       "      <th>title</th>\n",
       "    </tr>\n",
       "  </thead>\n",
       "  <tbody>\n",
       "    <tr>\n",
       "      <th>0</th>\n",
       "      <td>사회 &gt; 카드뉴스</td>\n",
       "      <td>과연 진실은... \\n[ 조선일보 카드뉴스가 더 보고 싶다면 ?] \\n\\n[ 조선일...</td>\n",
       "      <td>chosun</td>\n",
       "      <td>2016-09-21 19:28:00</td>\n",
       "      <td>[카드뉴스] 대통령은 왜 흙을 밟지 않았을까요?</td>\n",
       "    </tr>\n",
       "    <tr>\n",
       "      <th>1</th>\n",
       "      <td>사회 &gt; 카드뉴스</td>\n",
       "      <td>'세기의 연인'이라 불렸던 커플\\n\\n[ 조선일보 카드뉴스가 더 보고 싶다면 ?] ...</td>\n",
       "      <td>chosun</td>\n",
       "      <td>2016-09-21 19:10:00</td>\n",
       "      <td>[카드뉴스] '브란젤리나'의 시작과 끝</td>\n",
       "    </tr>\n",
       "    <tr>\n",
       "      <th>2</th>\n",
       "      <td>사회 &gt; 카드뉴스</td>\n",
       "      <td>당신의 목소리는 그 누구의 목소리보다 귀하게 쓰였습니다.  기사보기 : https:...</td>\n",
       "      <td>chosun</td>\n",
       "      <td>2016-09-21 19:03:00</td>\n",
       "      <td>[카드뉴스] 목소리를 가장 귀하게 쓴 한 성우 지망생</td>\n",
       "    </tr>\n",
       "    <tr>\n",
       "      <th>3</th>\n",
       "      <td>문화 &gt; 오늘의 운세</td>\n",
       "      <td>36년생 정도를 지키면 무난한 날. 48년생 결정할 일 결정하도록. 60년생 가뭄에...</td>\n",
       "      <td>chosun</td>\n",
       "      <td>2016-09-21 18:00:00</td>\n",
       "      <td>[오늘의 운세] 9월 22일 목요일(음력 8월 22일 丁未)</td>\n",
       "    </tr>\n",
       "    <tr>\n",
       "      <th>4</th>\n",
       "      <td>스포츠ㆍ연예 &gt; 스포츠 &gt; 종합</td>\n",
       "      <td></td>\n",
       "      <td>chosun</td>\n",
       "      <td>2016-09-21 03:00:00</td>\n",
       "      <td>[오늘의 경기] 2016년 9월 21일</td>\n",
       "    </tr>\n",
       "  </tbody>\n",
       "</table>\n",
       "</div>"
      ],
      "text/plain": [
       "            category                                            content  \\\n",
       "0          사회 > 카드뉴스  과연 진실은... \\n[ 조선일보 카드뉴스가 더 보고 싶다면 ?] \\n\\n[ 조선일...   \n",
       "1          사회 > 카드뉴스  '세기의 연인'이라 불렸던 커플\\n\\n[ 조선일보 카드뉴스가 더 보고 싶다면 ?] ...   \n",
       "2          사회 > 카드뉴스  당신의 목소리는 그 누구의 목소리보다 귀하게 쓰였습니다.  기사보기 : https:...   \n",
       "3        문화 > 오늘의 운세  36년생 정도를 지키면 무난한 날. 48년생 결정할 일 결정하도록. 60년생 가뭄에...   \n",
       "4  스포츠ㆍ연예 > 스포츠 > 종합                                                      \n",
       "\n",
       "  provider         publishedAt                              title  \n",
       "0   chosun 2016-09-21 19:28:00         [카드뉴스] 대통령은 왜 흙을 밟지 않았을까요?  \n",
       "1   chosun 2016-09-21 19:10:00              [카드뉴스] '브란젤리나'의 시작과 끝  \n",
       "2   chosun 2016-09-21 19:03:00      [카드뉴스] 목소리를 가장 귀하게 쓴 한 성우 지망생  \n",
       "3   chosun 2016-09-21 18:00:00  [오늘의 운세] 9월 22일 목요일(음력 8월 22일 丁未)  \n",
       "4   chosun 2016-09-21 03:00:00              [오늘의 경기] 2016년 9월 21일  "
      ]
     },
     "execution_count": 10,
     "metadata": {},
     "output_type": "execute_result"
    }
   ],
   "source": [
    "train = train.drop(['_id', 'author', 'description', 'link', 'imageURL', 'providerNewsID'], axis=1)\n",
    "train.head()"
   ]
  },
  {
   "cell_type": "code",
   "execution_count": 11,
   "metadata": {
    "collapsed": false
   },
   "outputs": [
    {
     "data": {
      "text/plain": [
       "0   2016-09-21 19:28:00\n",
       "1   2016-09-21 19:10:00\n",
       "2   2016-09-21 19:03:00\n",
       "3   2016-09-21 18:00:00\n",
       "4   2016-09-21 03:00:00\n",
       "Name: publishedAt, dtype: datetime64[ns]"
      ]
     },
     "execution_count": 11,
     "metadata": {},
     "output_type": "execute_result"
    }
   ],
   "source": [
    "train = train[pd.to_datetime(train.publishedAt).dt.year == 2016]\n",
    "train.publishedAt.head()"
   ]
  },
  {
   "cell_type": "markdown",
   "metadata": {},
   "source": [
    "## Preprocessing\n",
    "1. Remove stopwords (regex, hanja)\n",
    "2. POS Tagging with KoNLPy, Mecab\n",
    "3. NNP to English"
   ]
  },
  {
   "cell_type": "code",
   "execution_count": 54,
   "metadata": {
    "collapsed": false
   },
   "outputs": [],
   "source": [
    "import datetime\n",
    "from konlpy.tag import Twitter\n",
    "from konlpy.corpus import kobill\n",
    "import hanja\n",
    "import re"
   ]
  },
  {
   "cell_type": "code",
   "execution_count": 14,
   "metadata": {
    "collapsed": false
   },
   "outputs": [
    {
     "name": "stdout",
     "output_type": "stream",
     "text": [
      "<class 'pandas.core.frame.DataFrame'>\n",
      "Int64Index: 3068 entries, 2471 to 20909\n",
      "Data columns (total 5 columns):\n",
      "category       3068 non-null object\n",
      "content        3068 non-null object\n",
      "provider       3068 non-null object\n",
      "publishedAt    3068 non-null datetime64[ns]\n",
      "title          3068 non-null object\n",
      "dtypes: datetime64[ns](1), object(4)\n",
      "memory usage: 143.8+ KB\n"
     ]
    }
   ],
   "source": [
    "dstart = datetime.date(2016,8,29)\n",
    "dend = dstart + datetime.timedelta(weeks=1)\n",
    "train = train[(train[\"publishedAt\"] > dstart) & (train[\"publishedAt\"] < dend)]\n",
    "train.info()"
   ]
  },
  {
   "cell_type": "code",
   "execution_count": 68,
   "metadata": {
    "collapsed": false
   },
   "outputs": [
    {
     "name": "stdout",
     "output_type": "stream",
     "text": [
      "[u'\\ub124']\n"
     ]
    }
   ],
   "source": [
    "twitter = Twitter()\n",
    "print twitter.nouns(u'네, 안녕하세요')"
   ]
  },
  {
   "cell_type": "code",
   "execution_count": 69,
   "metadata": {
    "collapsed": true
   },
   "outputs": [],
   "source": [
    "pos = lambda d: ['/'.join(p) for p in twitter.nouns(d)]"
   ]
  },
  {
   "cell_type": "code",
   "execution_count": 70,
   "metadata": {
    "collapsed": false
   },
   "outputs": [],
   "source": [
    "docs_ko = [kobill.open(i).read() for i in kobill.fileids()]\n",
    "texts_ko = [pos(doc) for doc in docs_ko]"
   ]
  },
  {
   "cell_type": "markdown",
   "metadata": {},
   "source": [
    "## Training\n",
    "Word Embedding : Word2Vec"
   ]
  },
  {
   "cell_type": "code",
   "execution_count": 71,
   "metadata": {
    "collapsed": false
   },
   "outputs": [],
   "source": [
    "from gensim.models import word2vec\n",
    "from konlpy.utils import pprint"
   ]
  },
  {
   "cell_type": "code",
   "execution_count": 72,
   "metadata": {
    "collapsed": true
   },
   "outputs": [],
   "source": [
    "wv_model_ko = word2vec.Word2Vec(texts_ko)\n",
    "wv_model_ko.init_sims(replace=True)\n",
    "wv_model_ko.save('ko_word2vec.model')"
   ]
  },
  {
   "cell_type": "code",
   "execution_count": 73,
   "metadata": {
    "collapsed": false
   },
   "outputs": [
    {
     "name": "stdout",
     "output_type": "stream",
     "text": [
      "[(경/우, 0.9996417164802551),\n",
      " (제, 0.9996381998062134),\n",
      " (등, 0.9996241331100464),\n",
      " (결/혼, 0.9996216893196106),\n",
      " (파/견, 0.9996136426925659),\n",
      " (년, 0.9996079206466675),\n",
      " (이/상, 0.9996066093444824),\n",
      " (신, 0.9995951056480408),\n",
      " (의, 0.9995935559272766),\n",
      " (관/련, 0.9995920062065125)]\n",
      "[(제, 0.9996270537376404),\n",
      " (파/견, 0.999594509601593),\n",
      " (결/혼, 0.9995840787887573),\n",
      " (및, 0.9995807409286499),\n",
      " (경/우, 0.9995760917663574),\n",
      " (항, 0.9995741248130798),\n",
      " (등, 0.9995730519294739),\n",
      " (예/고, 0.9995695948600769),\n",
      " (안, 0.9995682239532471),\n",
      " (의, 0.9995660781860352)]\n"
     ]
    }
   ],
   "source": [
    "pprint(wv_model_ko.most_similar(pos(u'정부')))\n",
    "pprint(wv_model_ko.most_similar(pos(u'초등학교')))"
   ]
  }
 ],
 "metadata": {
  "kernelspec": {
   "display_name": "Python 2",
   "language": "python",
   "name": "python2"
  },
  "language_info": {
   "codemirror_mode": {
    "name": "ipython",
    "version": 2
   },
   "file_extension": ".py",
   "mimetype": "text/x-python",
   "name": "python",
   "nbconvert_exporter": "python",
   "pygments_lexer": "ipython2",
   "version": "2.7.11"
  }
 },
 "nbformat": 4,
 "nbformat_minor": 1
}
