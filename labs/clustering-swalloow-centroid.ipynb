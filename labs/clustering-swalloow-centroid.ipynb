{
 "cells": [
  {
   "cell_type": "markdown",
   "metadata": {},
   "source": [
    "# Test script for SomaNews Clustering\n",
    "By Datetime : 2016-08-29 ~ 2016-09-05"
   ]
  },
  {
   "cell_type": "code",
   "execution_count": 1,
   "metadata": {
    "collapsed": false
   },
   "outputs": [],
   "source": [
    "import numpy as np\n",
    "import pandas as pd"
   ]
  },
  {
   "cell_type": "markdown",
   "metadata": {
    "collapsed": true
   },
   "source": [
    "## Load Data\n",
    "Load Data from database"
   ]
  },
  {
   "cell_type": "code",
   "execution_count": 2,
   "metadata": {
    "collapsed": false
   },
   "outputs": [
    {
     "data": {
      "text/html": [
       "<div>\n",
       "<table border=\"1\" class=\"dataframe\">\n",
       "  <thead>\n",
       "    <tr style=\"text-align: right;\">\n",
       "      <th></th>\n",
       "      <th>category</th>\n",
       "      <th>content</th>\n",
       "      <th>provider</th>\n",
       "      <th>publishedAt</th>\n",
       "      <th>title</th>\n",
       "    </tr>\n",
       "    <tr>\n",
       "      <th>publishedAt</th>\n",
       "      <th></th>\n",
       "      <th></th>\n",
       "      <th></th>\n",
       "      <th></th>\n",
       "      <th></th>\n",
       "    </tr>\n",
       "  </thead>\n",
       "  <tbody>\n",
       "    <tr>\n",
       "      <th>2016-09-04 23:28:00</th>\n",
       "      <td>경제</td>\n",
       "      <td>모든 사물이 인터넷으로 연결된다는 사물인터넷(IoT·Internet of Thing...</td>\n",
       "      <td>chosun</td>\n",
       "      <td>2016-09-04 23:28:00</td>\n",
       "      <td>電氣 저장했다 꺼내 쓰는 ESS… 4년 뒤 150억달러 시장 선다</td>\n",
       "    </tr>\n",
       "    <tr>\n",
       "      <th>2016-09-04 23:24:00</th>\n",
       "      <td>nativeAD &gt; 기업뉴스</td>\n",
       "      <td>지난달 말 산업통상자원부는 ESS 관련 산업 도약을 위해 민·관·학계가 함께하는 '...</td>\n",
       "      <td>chosun</td>\n",
       "      <td>2016-09-04 23:24:00</td>\n",
       "      <td>ESS 할인 요금제 기간 10년으로</td>\n",
       "    </tr>\n",
       "    <tr>\n",
       "      <th>2016-09-04 23:20:00</th>\n",
       "      <td>경제</td>\n",
       "      <td>정유업계에 긴장감이 돌고 있다. 올 상반기에는 세계 경기 불황 속에서도 사상 최고 ...</td>\n",
       "      <td>chosun</td>\n",
       "      <td>2016-09-04 23:20:00</td>\n",
       "      <td>중국發 공급과잉·低유가 먹구름… 잘나가던 정유업계 긴장</td>\n",
       "    </tr>\n",
       "    <tr>\n",
       "      <th>2016-09-04 22:54:00</th>\n",
       "      <td>경제</td>\n",
       "      <td>지난 3일(현지 시각) 오후 유럽 최대 가전박람회 'IFA 2016'이 열리고 있는...</td>\n",
       "      <td>chosun</td>\n",
       "      <td>2016-09-04 22:54:00</td>\n",
       "      <td>레고 로봇·스마트 캐디·게임 칫솔… 獨서 빛나는 작은 기업들</td>\n",
       "    </tr>\n",
       "    <tr>\n",
       "      <th>2016-09-04 22:52:00</th>\n",
       "      <td>nativeAD &gt; LG전자</td>\n",
       "      <td>\"기술력에 대한 자신감이 없다면 우리 가전제품의 핵심 부품을 다른 경쟁 업체에 판매...</td>\n",
       "      <td>chosun</td>\n",
       "      <td>2016-09-04 22:52:00</td>\n",
       "      <td>\"경쟁社에 핵심부품 파는 건, 기술력에 자신감 있기 때문\"</td>\n",
       "    </tr>\n",
       "  </tbody>\n",
       "</table>\n",
       "</div>"
      ],
      "text/plain": [
       "                            category  \\\n",
       "publishedAt                            \n",
       "2016-09-04 23:28:00               경제   \n",
       "2016-09-04 23:24:00  nativeAD > 기업뉴스   \n",
       "2016-09-04 23:20:00               경제   \n",
       "2016-09-04 22:54:00               경제   \n",
       "2016-09-04 22:52:00  nativeAD > LG전자   \n",
       "\n",
       "                                                               content  \\\n",
       "publishedAt                                                              \n",
       "2016-09-04 23:28:00  모든 사물이 인터넷으로 연결된다는 사물인터넷(IoT·Internet of Thing...   \n",
       "2016-09-04 23:24:00  지난달 말 산업통상자원부는 ESS 관련 산업 도약을 위해 민·관·학계가 함께하는 '...   \n",
       "2016-09-04 23:20:00  정유업계에 긴장감이 돌고 있다. 올 상반기에는 세계 경기 불황 속에서도 사상 최고 ...   \n",
       "2016-09-04 22:54:00  지난 3일(현지 시각) 오후 유럽 최대 가전박람회 'IFA 2016'이 열리고 있는...   \n",
       "2016-09-04 22:52:00  \"기술력에 대한 자신감이 없다면 우리 가전제품의 핵심 부품을 다른 경쟁 업체에 판매...   \n",
       "\n",
       "                    provider         publishedAt  \\\n",
       "publishedAt                                        \n",
       "2016-09-04 23:28:00   chosun 2016-09-04 23:28:00   \n",
       "2016-09-04 23:24:00   chosun 2016-09-04 23:24:00   \n",
       "2016-09-04 23:20:00   chosun 2016-09-04 23:20:00   \n",
       "2016-09-04 22:54:00   chosun 2016-09-04 22:54:00   \n",
       "2016-09-04 22:52:00   chosun 2016-09-04 22:52:00   \n",
       "\n",
       "                                                    title  \n",
       "publishedAt                                                \n",
       "2016-09-04 23:28:00  電氣 저장했다 꺼내 쓰는 ESS… 4년 뒤 150억달러 시장 선다  \n",
       "2016-09-04 23:24:00                   ESS 할인 요금제 기간 10년으로  \n",
       "2016-09-04 23:20:00        중국發 공급과잉·低유가 먹구름… 잘나가던 정유업계 긴장  \n",
       "2016-09-04 22:54:00     레고 로봇·스마트 캐디·게임 칫솔… 獨서 빛나는 작은 기업들  \n",
       "2016-09-04 22:52:00      \"경쟁社에 핵심부품 파는 건, 기술력에 자신감 있기 때문\"  "
      ]
     },
     "execution_count": 2,
     "metadata": {},
     "output_type": "execute_result"
    }
   ],
   "source": [
    "train = pd.read_pickle(\"../datastore/weekly.p\")\n",
    "train = train.drop(['newsNum'], axis=1)\n",
    "train.head()"
   ]
  },
  {
   "cell_type": "markdown",
   "metadata": {},
   "source": [
    "## Preprocessing\n",
    "0. Datetime (16-09-11 ~ 16-09-17)\n",
    "1. Remove stopwords (regex, hanja)\n",
    "2. POS Tagging with KoNLPy, Mecab"
   ]
  },
  {
   "cell_type": "code",
   "execution_count": 15,
   "metadata": {
    "collapsed": true
   },
   "outputs": [],
   "source": [
    "import datetime\n",
    "from konlpy.tag import Mecab\n",
    "import hanja\n",
    "import cnouns\n",
    "import re"
   ]
  },
  {
   "cell_type": "code",
   "execution_count": 4,
   "metadata": {
    "collapsed": false
   },
   "outputs": [
    {
     "name": "stdout",
     "output_type": "stream",
     "text": [
      "[('네', 'IC'), (',', 'SC'), ('안녕', 'NNG'), ('하', 'XSV'), ('세요', 'EP+EF'), ('나', 'NP'), ('는', 'JX'), ('정답', 'NNG')]\n"
     ]
    }
   ],
   "source": [
    "mecab = Mecab()\n",
    "print(mecab.pos(u'네, 안녕하세요 나는 정답'))"
   ]
  },
  {
   "cell_type": "code",
   "execution_count": 5,
   "metadata": {
    "collapsed": true
   },
   "outputs": [],
   "source": [
    "def text_cleaning(text):\n",
    "    text = hanja.translate(text, 'substitution')\n",
    "    text = re.sub('[^가-힝0-9a-zA-Z\\\\s]', '', text)\n",
    "    text = text.replace(u\"카드뉴스\", '').replace(u\"조선일보\", '')\n",
    "    return text"
   ]
  },
  {
   "cell_type": "markdown",
   "metadata": {},
   "source": [
    "### POS Tagging\n",
    "일반명사, 고유명사, 외국어 (NNG, NNP, SL)"
   ]
  },
  {
   "cell_type": "code",
   "execution_count": 18,
   "metadata": {
    "collapsed": false
   },
   "outputs": [],
   "source": [
    "train['title'] = train['title'].apply(lambda text: text_cleaning(text))\n",
    "title = [cnouns.tokenize(each[1]['title']) for each in train.iterrows()]\n"
   ]
  },
  {
   "cell_type": "code",
   "execution_count": 20,
   "metadata": {
    "collapsed": false
   },
   "outputs": [],
   "source": [
    "train['content'] = train['content'].apply(lambda text: text_cleaning(text))\n",
    "content = [cnouns.tokenize(each[1]['content']) for each in train.iterrows()]"
   ]
  },
  {
   "cell_type": "markdown",
   "metadata": {},
   "source": [
    "## Training\n",
    "K-Means Algorithm"
   ]
  },
  {
   "cell_type": "code",
   "execution_count": 21,
   "metadata": {
    "collapsed": false,
    "scrolled": true
   },
   "outputs": [],
   "source": [
    "from sklearn.feature_extraction.text import TfidfVectorizer\n",
    "from sklearn.cluster import KMeans, MiniBatchKMeans\n",
    "from time import time"
   ]
  },
  {
   "cell_type": "code",
   "execution_count": 25,
   "metadata": {
    "collapsed": false,
    "scrolled": false
   },
   "outputs": [],
   "source": [
    "vectorizer = TfidfVectorizer(lowercase=False)\n",
    "x_list = vectorizer.fit_transform(title)"
   ]
  },
  {
   "cell_type": "code",
   "execution_count": 26,
   "metadata": {
    "collapsed": false
   },
   "outputs": [],
   "source": [
    "vectorizer = TfidfVectorizer(lowercase=False)\n",
    "x_list2 = vectorizer.fit_transform(content)"
   ]
  },
  {
   "cell_type": "markdown",
   "metadata": {},
   "source": [
    "### Scoring"
   ]
  },
  {
   "cell_type": "code",
   "execution_count": 27,
   "metadata": {
    "collapsed": true
   },
   "outputs": [],
   "source": [
    "from sklearn.metrics import silhouette_samples, silhouette_score\n",
    "from scipy.spatial.distance import cdist, pdist"
   ]
  },
  {
   "cell_type": "markdown",
   "metadata": {},
   "source": [
    "### Best Silhoutte Score"
   ]
  },
  {
   "cell_type": "code",
   "execution_count": 28,
   "metadata": {
    "collapsed": true
   },
   "outputs": [],
   "source": [
    "best_score = 0.0\n",
    "best_k = 0"
   ]
  },
  {
   "cell_type": "code",
   "execution_count": 31,
   "metadata": {
    "collapsed": false
   },
   "outputs": [
    {
     "name": "stdout",
     "output_type": "stream",
     "text": [
      "In Clusters = 25 , Score is : 0.013\n",
      "In Clusters = 26 , Score is : 0.015\n",
      "In Clusters = 27 , Score is : 0.016\n",
      "In Clusters = 28 , Score is : 0.014\n",
      "In Clusters = 29 , Score is : 0.016\n",
      "In Clusters = 30 , Score is : 0.014\n",
      "In Clusters = 31 , Score is : 0.013\n",
      "In Clusters = 32 , Score is : 0.016\n",
      "In Clusters = 33 , Score is : 0.016\n",
      "In Clusters = 34 , Score is : 0.015\n",
      "In Clusters = 29 , Best score is : 0.016\n"
     ]
    }
   ],
   "source": [
    "for k in range(25, 35):\n",
    "    km = KMeans(n_clusters=k, n_jobs=-1).fit(x_list)\n",
    "    score = silhouette_score(x_list, km.labels_)\n",
    "    if best_score < score:\n",
    "        best_score = score\n",
    "        best_k = k\n",
    "    print(\"In Clusters =\", k, \", Score is : %0.3f\" % score)\n",
    "print(\"In Clusters =\", best_k, \", Best score is : %0.3f\" % best_score)"
   ]
  },
  {
   "cell_type": "markdown",
   "metadata": {},
   "source": [
    "### TODO: Using Elbow method"
   ]
  },
  {
   "cell_type": "code",
   "execution_count": 32,
   "metadata": {
    "collapsed": true
   },
   "outputs": [],
   "source": [
    "def elbow(df, n):\n",
    "    kMeansVar = [KMeans(n_clusters=k).fit(df) for k in range(1, n)]\n",
    "    centroids = [X.cluster_centers_ for X in kMeansVar]\n",
    "    k_euclid = [cdist(df, cent) for cent in centroids]\n",
    "    dist = [np.min(ke, axis=1) for ke in k_euclid]\n",
    "    wcss = [sum(d**2) for d in dist]\n",
    "    tss = sum(pdist(df)**2)/df.shape[0]\n",
    "    bss = tss - wcss\n",
    "    plt.plot(bss)\n",
    "    plt.show()"
   ]
  },
  {
   "cell_type": "markdown",
   "metadata": {},
   "source": [
    "### K-Means Algorithm"
   ]
  },
  {
   "cell_type": "code",
   "execution_count": 33,
   "metadata": {
    "collapsed": true
   },
   "outputs": [],
   "source": [
    "from matplotlib import pyplot"
   ]
  },
  {
   "cell_type": "code",
   "execution_count": 34,
   "metadata": {
    "collapsed": false
   },
   "outputs": [
    {
     "name": "stdout",
     "output_type": "stream",
     "text": [
      "Done in 0.781s.\n"
     ]
    }
   ],
   "source": [
    "t0 = time()\n",
    "km = KMeans(n_clusters=best_k, n_jobs=-1).fit(x_list)\n",
    "labels = km.labels_\n",
    "centroids = km.cluster_centers_\n",
    "print(\"Done in %0.3fs.\" % (time() - t0))"
   ]
  },
  {
   "cell_type": "code",
   "execution_count": 35,
   "metadata": {
    "collapsed": false,
    "scrolled": true
   },
   "outputs": [
    {
     "name": "stdout",
     "output_type": "stream",
     "text": [
      "2926.761725945528\n"
     ]
    }
   ],
   "source": [
    "print(km.inertia_)"
   ]
  },
  {
   "cell_type": "code",
   "execution_count": 36,
   "metadata": {
    "collapsed": false
   },
   "outputs": [
    {
     "data": {
      "text/html": [
       "<div>\n",
       "<table border=\"1\" class=\"dataframe\">\n",
       "  <thead>\n",
       "    <tr style=\"text-align: right;\">\n",
       "      <th></th>\n",
       "      <th>category</th>\n",
       "      <th>content</th>\n",
       "      <th>provider</th>\n",
       "      <th>publishedAt</th>\n",
       "      <th>title</th>\n",
       "      <th>cluster</th>\n",
       "    </tr>\n",
       "    <tr>\n",
       "      <th>publishedAt</th>\n",
       "      <th></th>\n",
       "      <th></th>\n",
       "      <th></th>\n",
       "      <th></th>\n",
       "      <th></th>\n",
       "      <th></th>\n",
       "    </tr>\n",
       "  </thead>\n",
       "  <tbody>\n",
       "    <tr>\n",
       "      <th>2016-09-04 23:28:00</th>\n",
       "      <td>경제</td>\n",
       "      <td>모든 사물이 인터넷으로 연결된다는 사물인터넷IoTInternet of Things에...</td>\n",
       "      <td>chosun</td>\n",
       "      <td>2016-09-04 23:28:00</td>\n",
       "      <td>전기 저장했다 꺼내 쓰는 ESS 4년 뒤 150억달러 시장 선다</td>\n",
       "      <td>4</td>\n",
       "    </tr>\n",
       "    <tr>\n",
       "      <th>2016-09-04 23:24:00</th>\n",
       "      <td>nativeAD &gt; 기업뉴스</td>\n",
       "      <td>지난달 말 산업통상자원부는 ESS 관련 산업 도약을 위해 민관학계가 함께하는 ESS...</td>\n",
       "      <td>chosun</td>\n",
       "      <td>2016-09-04 23:24:00</td>\n",
       "      <td>ESS 할인 요금제 기간 10년으로</td>\n",
       "      <td>4</td>\n",
       "    </tr>\n",
       "    <tr>\n",
       "      <th>2016-09-04 23:20:00</th>\n",
       "      <td>경제</td>\n",
       "      <td>정유업계에 긴장감이 돌고 있다 올 상반기에는 세계 경기 불황 속에서도 사상 최고 영...</td>\n",
       "      <td>chosun</td>\n",
       "      <td>2016-09-04 23:20:00</td>\n",
       "      <td>중국발 공급과잉저유가 먹구름 잘나가던 정유업계 긴장</td>\n",
       "      <td>4</td>\n",
       "    </tr>\n",
       "    <tr>\n",
       "      <th>2016-09-04 22:54:00</th>\n",
       "      <td>경제</td>\n",
       "      <td>지난 3일현지 시각 오후 유럽 최대 가전박람회 IFA 2016이 열리고 있는 독일 ...</td>\n",
       "      <td>chosun</td>\n",
       "      <td>2016-09-04 22:54:00</td>\n",
       "      <td>레고 로봇스마트 캐디게임 칫솔 독서 빛나는 작은 기업들</td>\n",
       "      <td>14</td>\n",
       "    </tr>\n",
       "    <tr>\n",
       "      <th>2016-09-04 22:52:00</th>\n",
       "      <td>nativeAD &gt; LG전자</td>\n",
       "      <td>기술력에 대한 자신감이 없다면 우리 가전제품의 핵심 부품을 다른 경쟁 업체에 판매하...</td>\n",
       "      <td>chosun</td>\n",
       "      <td>2016-09-04 22:52:00</td>\n",
       "      <td>경쟁사에 핵심부품 파는 건 기술력에 자신감 있기 때문</td>\n",
       "      <td>4</td>\n",
       "    </tr>\n",
       "  </tbody>\n",
       "</table>\n",
       "</div>"
      ],
      "text/plain": [
       "                            category  \\\n",
       "publishedAt                            \n",
       "2016-09-04 23:28:00               경제   \n",
       "2016-09-04 23:24:00  nativeAD > 기업뉴스   \n",
       "2016-09-04 23:20:00               경제   \n",
       "2016-09-04 22:54:00               경제   \n",
       "2016-09-04 22:52:00  nativeAD > LG전자   \n",
       "\n",
       "                                                               content  \\\n",
       "publishedAt                                                              \n",
       "2016-09-04 23:28:00  모든 사물이 인터넷으로 연결된다는 사물인터넷IoTInternet of Things에...   \n",
       "2016-09-04 23:24:00  지난달 말 산업통상자원부는 ESS 관련 산업 도약을 위해 민관학계가 함께하는 ESS...   \n",
       "2016-09-04 23:20:00  정유업계에 긴장감이 돌고 있다 올 상반기에는 세계 경기 불황 속에서도 사상 최고 영...   \n",
       "2016-09-04 22:54:00  지난 3일현지 시각 오후 유럽 최대 가전박람회 IFA 2016이 열리고 있는 독일 ...   \n",
       "2016-09-04 22:52:00  기술력에 대한 자신감이 없다면 우리 가전제품의 핵심 부품을 다른 경쟁 업체에 판매하...   \n",
       "\n",
       "                    provider         publishedAt  \\\n",
       "publishedAt                                        \n",
       "2016-09-04 23:28:00   chosun 2016-09-04 23:28:00   \n",
       "2016-09-04 23:24:00   chosun 2016-09-04 23:24:00   \n",
       "2016-09-04 23:20:00   chosun 2016-09-04 23:20:00   \n",
       "2016-09-04 22:54:00   chosun 2016-09-04 22:54:00   \n",
       "2016-09-04 22:52:00   chosun 2016-09-04 22:52:00   \n",
       "\n",
       "                                                   title  cluster  \n",
       "publishedAt                                                        \n",
       "2016-09-04 23:28:00  전기 저장했다 꺼내 쓰는 ESS 4년 뒤 150억달러 시장 선다        4  \n",
       "2016-09-04 23:24:00                  ESS 할인 요금제 기간 10년으로        4  \n",
       "2016-09-04 23:20:00         중국발 공급과잉저유가 먹구름 잘나가던 정유업계 긴장        4  \n",
       "2016-09-04 22:54:00       레고 로봇스마트 캐디게임 칫솔 독서 빛나는 작은 기업들       14  \n",
       "2016-09-04 22:52:00        경쟁사에 핵심부품 파는 건 기술력에 자신감 있기 때문        4  "
      ]
     },
     "execution_count": 36,
     "metadata": {},
     "output_type": "execute_result"
    }
   ],
   "source": [
    "train['cluster'] = labels\n",
    "train.head()"
   ]
  },
  {
   "cell_type": "code",
   "execution_count": 44,
   "metadata": {
    "collapsed": false
   },
   "outputs": [
    {
     "data": {
      "text/plain": [
       "publishedAt\n",
       "2016-09-04 22:40:00                  원자재값 급등중규제 국내 배터리사 3중고\n",
       "2016-09-04 22:40:00                  원자재값 급등중규제 국내 배터리사 3중고\n",
       "2016-09-03 01:25:00         갤노트7 250만대 전량 교환 삼성 리콜 총비용 2조원대\n",
       "2016-09-02 02:32:00                       삼성전자 갤럭시노트7 전량 리콜\n",
       "2016-09-01 03:05:00          갤노트 7 폭발 주장 잇따라 삼성 국내 공급 일시 중단\n",
       "2016-08-31 10:27:00                   삼성SDI 헝가리에 전기차 배터리 공장\n",
       "2016-09-03 00:00:00           사설이재용 삼성의 위기관리 시험대 갤노트7 전량 리콜\n",
       "2016-09-02 03:00:00                          배터리 논란 갤노트7 리콜\n",
       "2016-09-01 03:00:00                      배터리 폭발논란 갤노트7 공급중단\n",
       "2016-08-31 03:00:00             삼성SDI 4000억 들여 헝가리 배터리공장 설립\n",
       "2016-08-29 03:00:00            갤노트7의 모든 것 보여드려요 3일까지 세빛섬 행사\n",
       "2016-09-04 22:17:00                   갤노트7 배터리 점검 평소 2배로 늘어\n",
       "2016-09-04 17:11:00         갤노트7 배터리 점검 평소 2배삼성 측 배터리 불량 없어\n",
       "2016-09-03 14:27:00             제 배터리는 문제 없나요갤노트7 점검 고객 줄이어\n",
       "2016-09-02 17:07:00              삼성전자 갤럭시노트7 250만대 신제품 교환환불\n",
       "2016-09-02 17:06:00             삼성전자 갤노트7 판매 중단 전량 리콜 추후 공지\n",
       "2016-09-02 15:19:00              삼성전자 갤럭시노트7 폭발 사고 조사 결과 발표\n",
       "2016-09-02 15:15:00            삼성전자 오후 5시 갤럭시노트7 조사 결과리콜 발표\n",
       "2016-09-01 22:00:00             삼성전자 배터리 폭발 논란 갤럭시노트7 리콜 검토\n",
       "2016-09-01 17:16:00    폭발 갤럭시 노트7  리콜 계기로 톺아본 스마트폰 흑역사 세 장면\n",
       "2016-09-01 17:09:00              삼성전자 배터리 폭발 논란 갤럭시노트7 리콜할듯\n",
       "2016-09-01 14:30:00            폭발 논란 갤럭시 노트7 동영상 있어야 환불해준다고\n",
       "2016-09-01 11:32:00            갤노트7 배터리 폭발 논란에 삼성전자 장중 3 급락\n",
       "2016-09-01 08:14:00                폭발 논란 갤럭시노트7 환불리콜 문의 잇따라\n",
       "2016-08-31 21:21:00              폭발 주장 잇따르는 갤럭시노트7 공급 일시 중단\n",
       "2016-08-30 22:11:00                    갤럭시노트7 충전 중 펑 제보 잇따라\n",
       "2016-08-30 14:36:00                    갤럭시노트7 충전 중 펑 제보 잇따라\n",
       "2016-08-29 21:43:00                사드 제3지역 찬성 집회에 성주군 개입 논란\n",
       "2016-08-29 17:05:00                사드 제3지역 찬성 집회에 성주군 개입 논란\n",
       "Name: title, dtype: object"
      ]
     },
     "execution_count": 44,
     "metadata": {},
     "output_type": "execute_result"
    }
   ],
   "source": [
    "cluster = train.loc[train['cluster']==13]\n",
    "cluster.title"
   ]
  },
  {
   "cell_type": "markdown",
   "metadata": {},
   "source": [
    "### Topic Modeling for contents\n",
    "Latent Dirichlet Allocation (LDA)"
   ]
  },
  {
   "cell_type": "code",
   "execution_count": 45,
   "metadata": {
    "collapsed": true
   },
   "outputs": [],
   "source": [
    "from sklearn.decomposition import LatentDirichletAllocation"
   ]
  },
  {
   "cell_type": "code",
   "execution_count": 46,
   "metadata": {
    "collapsed": true
   },
   "outputs": [],
   "source": [
    "def print_top_words(model, feature_names, n_top_words):\n",
    "    for topic_idx, topic in enumerate(model.components_):\n",
    "        print(\"Topic #%d:\" % topic_idx)\n",
    "        print(\" \".join([feature_names[i] for i in topic.argsort()[:-n_top_words - 1:-1]]))\n",
    "    print()"
   ]
  },
  {
   "cell_type": "code",
   "execution_count": 47,
   "metadata": {
    "collapsed": false
   },
   "outputs": [
    {
     "name": "stdout",
     "output_type": "stream",
     "text": [
      "Done in 0.791s.\n"
     ]
    }
   ],
   "source": [
    "t0 = time()\n",
    "lda = LatentDirichletAllocation(n_topics=1, max_iter=5, n_jobs=-1).fit(x_list2[5])\n",
    "print(\"Done in %0.3fs.\" % (time() - t0))"
   ]
  },
  {
   "cell_type": "code",
   "execution_count": 48,
   "metadata": {
    "collapsed": false,
    "scrolled": false
   },
   "outputs": [
    {
     "name": "stdout",
     "output_type": "stream",
     "text": [
      "Topic #0:\n",
      "감독이연출 상반기기준한국 한나라당수석 청와대의태도 과정예산\n",
      "\n"
     ]
    }
   ],
   "source": [
    "feature_names = vectorizer.get_feature_names()\n",
    "print_top_words(lda, feature_names, 5)"
   ]
  },
  {
   "cell_type": "code",
   "execution_count": 49,
   "metadata": {
    "collapsed": false
   },
   "outputs": [
    {
     "data": {
      "text/plain": [
       "'윤부근 사진  삼성전자 소비자가전CE 부문 대표이사는 3일현지 시각 올해 내에 삼성 스마트TV에 탑재된 사물인터넷IoT 기능을 본격 강화해 진정한 스마트 허브를 구현하는 서비스를 내놓겠다고 말했다 윤 대표는 특히 앞으로 가전 업계는 누가 사물인터넷을 통해 패러다임 전환을 주도해 나가느냐가 사업의 생사를 가를 것이라며 사물인터넷 리더십 확보를 향후 핵심 전략으로 꼽았다\\n\\n윤 대표는 이날 유럽 최대 가전 전시회 IFA 2016이 열리는 독일 베를린의 삼성전자 전시관에서 기자와 만나 모바일과 TV냉장고 등 가전제품이 자연스럽게 연결되는 방향으로 사물인터넷 제품을 출시하겠다며 지금은 TV와 모바일 기기를 연결하려면 사람이 인위적으로 조작해야 하지만 앞으로는 TV 옆으로 가기만 해도 자동으로 연결돼 스마트폰을 TV 리모컨처럼 사용할 수 있을 것이라고 말했다\\n\\n삼성전자는 올해 처음으로 IoT 허브를 탑재한 스마트TV를 출시한 데 이어 앞으로 냉장고와 세탁기 등 다른 제품과의 연결성을 강화해 가정의 모든 기기를 연결하는 스마트홈을 본격적으로 구현하겠다는 전략이다 윤 대표는 올해 하반기에 가전 최대 격전지인 미국 시장에서 TV오디오스마트폰을 연결하는 사물인터넷 서비스를 시범 실시한 뒤 단계적으로 연결되는 가전제품과 서비스 국가를 확대할 계획이라고 말했다\\n\\n윤 대표는 사물인터넷이 23년 후에는 전자 산업의 패러다임을 바꿀 것으로 내다봤다 윤 대표는 현재는 기기를 연결해 제어하는 초기 단계지만 사물인터넷의 꽃은 각종 데이터를 분석한 뒤 소비자에게 다양한 서비스를 제공하는 것이라며 사물인터넷은 물류제조농업교통건강 등 모든 분야에 활용할 수 있기 때문에 앞으로 23년이 지나면 지금의 하드웨어 업체가 과연 살아있을까 하는 생각이 들 정도로 파괴력이 클 것이라고 말했다\\n\\n한편 윤 대표는 지난달 인수한 미국의 빌트인builtin붙박이 전문 고급 주방가전 업체인 데이코Dacor를 미국뿐만 아니라 유럽에서도 수퍼 프리미엄 브랜드로 내세워 프리미엄 가전과 기업 간 거래B2B 시장을 공략하겠다고 밝혔다'"
      ]
     },
     "execution_count": 49,
     "metadata": {},
     "output_type": "execute_result"
    }
   ],
   "source": [
    "train['content'][5]"
   ]
  },
  {
   "cell_type": "markdown",
   "metadata": {},
   "source": [
    "## Result\n",
    "1. Model Selection\n",
    "2. Preprocessing\n",
    "3. Feature Engineering\n",
    "4. Parameter Tuning\n",
    "5. Score Function"
   ]
  }
 ],
 "metadata": {
  "kernelspec": {
   "display_name": "Python 3",
   "language": "python",
   "name": "python3"
  },
  "language_info": {
   "codemirror_mode": {
    "name": "ipython",
    "version": 3
   },
   "file_extension": ".py",
   "mimetype": "text/x-python",
   "name": "python",
   "nbconvert_exporter": "python",
   "pygments_lexer": "ipython3",
   "version": "3.5.2"
  }
 },
 "nbformat": 4,
 "nbformat_minor": 1
}
