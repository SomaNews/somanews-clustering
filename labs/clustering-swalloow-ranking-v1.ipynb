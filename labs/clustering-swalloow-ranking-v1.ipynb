{
 "cells": [
  {
   "cell_type": "markdown",
   "metadata": {},
   "source": [
    "# News Clustering using KMeans Algorithm\n",
    "By Datetime : 2016-08-29 ~ 2016-09-05"
   ]
  },
  {
   "cell_type": "code",
   "execution_count": 1,
   "metadata": {
    "collapsed": false
   },
   "outputs": [],
   "source": [
    "import numpy as np\n",
    "import pandas as pd"
   ]
  },
  {
   "cell_type": "markdown",
   "metadata": {
    "collapsed": true
   },
   "source": [
    "## Load data from Pickle "
   ]
  },
  {
   "cell_type": "code",
   "execution_count": 2,
   "metadata": {
    "collapsed": false,
    "scrolled": true
   },
   "outputs": [
    {
     "data": {
      "text/html": [
       "<div>\n",
       "<table border=\"1\" class=\"dataframe\">\n",
       "  <thead>\n",
       "    <tr style=\"text-align: right;\">\n",
       "      <th></th>\n",
       "      <th>category</th>\n",
       "      <th>name</th>\n",
       "    </tr>\n",
       "  </thead>\n",
       "  <tbody>\n",
       "    <tr>\n",
       "      <th>0</th>\n",
       "      <td>건강·의학 &gt;</td>\n",
       "      <td>건강</td>\n",
       "    </tr>\n",
       "    <tr>\n",
       "      <th>1</th>\n",
       "      <td>경제</td>\n",
       "      <td>경제</td>\n",
       "    </tr>\n",
       "    <tr>\n",
       "      <th>2</th>\n",
       "      <td>뉴스 &gt; 경제</td>\n",
       "      <td>경제</td>\n",
       "    </tr>\n",
       "    <tr>\n",
       "      <th>3</th>\n",
       "      <td>경제 &gt;</td>\n",
       "      <td>경제</td>\n",
       "    </tr>\n",
       "    <tr>\n",
       "      <th>4</th>\n",
       "      <td>뉴스 &gt; 경제 &gt; @뉴스룸</td>\n",
       "      <td>경제</td>\n",
       "    </tr>\n",
       "  </tbody>\n",
       "</table>\n",
       "</div>"
      ],
      "text/plain": [
       "         category name\n",
       "0        건강·의학 >    건강\n",
       "1              경제   경제\n",
       "2         뉴스 > 경제   경제\n",
       "3           경제 >    경제\n",
       "4  뉴스 > 경제 > @뉴스룸   경제"
      ]
     },
     "execution_count": 2,
     "metadata": {},
     "output_type": "execute_result"
    }
   ],
   "source": [
    "train = pd.read_pickle(\"../datastore/1104_00_df.p\")\n",
    "category = pd.read_pickle(\"../datastore/category.p\")\n",
    "category.head()"
   ]
  },
  {
   "cell_type": "code",
   "execution_count": 3,
   "metadata": {
    "collapsed": false
   },
   "outputs": [],
   "source": [
    "headline = pd.read_pickle(\"../datastore/headline.p\")\n",
    "headlines = headline['headline'].tolist()"
   ]
  },
  {
   "cell_type": "code",
   "execution_count": 4,
   "metadata": {
    "collapsed": false
   },
   "outputs": [
    {
     "data": {
      "text/plain": [
       "['지표로 보는 경제',\n",
       " '오늘의',\n",
       " '화제의 분양현장',\n",
       " '뉴스룸',\n",
       " '카드뉴스',\n",
       " '조선일보',\n",
       " 'TV조선',\n",
       " '특집',\n",
       " '이슈',\n",
       " 'Weekly BIZ',\n",
       " '금주의',\n",
       " '사회공헌 Together',\n",
       " '신나는 공부',\n",
       " '포토',\n",
       " '리빙포인트',\n",
       " '경제계 인사',\n",
       " '경향포토',\n",
       " '오늘의 날씨']"
      ]
     },
     "execution_count": 4,
     "metadata": {},
     "output_type": "execute_result"
    }
   ],
   "source": [
    "headlines"
   ]
  },
  {
   "cell_type": "markdown",
   "metadata": {},
   "source": [
    "## Select Categories\n",
    "- 포함 : 경제, 문화, 건강, 과학, 사회, 정치, 스포츠\n",
    "- 제외 : 종합, 정보없음, 인물, 사설"
   ]
  },
  {
   "cell_type": "code",
   "execution_count": 5,
   "metadata": {
    "collapsed": true
   },
   "outputs": [],
   "source": [
    "train = pd.merge(train, category, on='category', how='inner')"
   ]
  },
  {
   "cell_type": "code",
   "execution_count": 6,
   "metadata": {
    "collapsed": true
   },
   "outputs": [],
   "source": [
    "categories = ['경제', '과학', '사회', '정치']"
   ]
  },
  {
   "cell_type": "code",
   "execution_count": 7,
   "metadata": {
    "collapsed": false
   },
   "outputs": [
    {
     "data": {
      "text/plain": [
       "array(['사회', '정치', '경제', '과학'], dtype=object)"
      ]
     },
     "execution_count": 7,
     "metadata": {},
     "output_type": "execute_result"
    }
   ],
   "source": [
    "train = train[train['name'].isin(categories)]\n",
    "train.name.unique()"
   ]
  },
  {
   "cell_type": "markdown",
   "metadata": {},
   "source": [
    "## Preprocessing\n",
    "1. Datetime (16-09-11 ~ 16-09-17)\n",
    "2. Remove stopwords (regex, hanja)\n",
    "3. POS Tagging with KoNLPy, Mecab\n",
    "4. Using bigram"
   ]
  },
  {
   "cell_type": "code",
   "execution_count": 8,
   "metadata": {
    "collapsed": true
   },
   "outputs": [],
   "source": [
    "import datetime\n",
    "from konlpy.tag import Mecab\n",
    "import hanja\n",
    "import re"
   ]
  },
  {
   "cell_type": "code",
   "execution_count": 9,
   "metadata": {
    "collapsed": false
   },
   "outputs": [],
   "source": [
    "mecab = Mecab()"
   ]
  },
  {
   "cell_type": "code",
   "execution_count": 10,
   "metadata": {
    "collapsed": true
   },
   "outputs": [],
   "source": [
    "def text_cleaning(text):\n",
    "    text = hanja.translate(text, 'substitution')\n",
    "    text = re.sub('[^가-힝0-9a-zA-Z\\\\s]', ' ', text)\n",
    "    for headline in headlines:\n",
    "        text = text.replace(headline, ' ')\n",
    "    return text"
   ]
  },
  {
   "cell_type": "code",
   "execution_count": 11,
   "metadata": {
    "collapsed": true
   },
   "outputs": [],
   "source": [
    "def tokenize(data):\n",
    "    return [' '.join(e for e in mecab.nouns(data))]"
   ]
  },
  {
   "cell_type": "code",
   "execution_count": 12,
   "metadata": {
    "collapsed": false
   },
   "outputs": [],
   "source": [
    "train['title_flat'] = train['title'].apply(lambda text: text_cleaning(text))\n",
    "title = [tokenize(each[1]['title_flat']) for each in train.iterrows()]"
   ]
  },
  {
   "cell_type": "markdown",
   "metadata": {},
   "source": [
    "## Training\n",
    "1. Feature extraction - TfidVectorizer\n",
    "2. Decomposition - PCA\n",
    "3. Cluster - KMeans"
   ]
  },
  {
   "cell_type": "code",
   "execution_count": 13,
   "metadata": {
    "collapsed": false,
    "scrolled": true
   },
   "outputs": [],
   "source": [
    "from sklearn.feature_extraction.text import TfidfVectorizer\n",
    "from sklearn.decomposition import PCA\n",
    "from sklearn.cluster import KMeans"
   ]
  },
  {
   "cell_type": "code",
   "execution_count": 14,
   "metadata": {
    "collapsed": false,
    "scrolled": false
   },
   "outputs": [],
   "source": [
    "vectorizer = TfidfVectorizer(lowercase=False, ngram_range=(1,2))\n",
    "title_flat = [item for sublist in title for item in sublist]\n",
    "x_list = vectorizer.fit_transform(title_flat)"
   ]
  },
  {
   "cell_type": "code",
   "execution_count": 15,
   "metadata": {
    "collapsed": false
   },
   "outputs": [
    {
     "data": {
      "text/plain": [
       "(2802, 100)"
      ]
     },
     "execution_count": 15,
     "metadata": {},
     "output_type": "execute_result"
    }
   ],
   "source": [
    "x_list_100d = PCA(n_components=100).fit_transform(x_list.toarray())\n",
    "x_list_100d.shape"
   ]
  },
  {
   "cell_type": "markdown",
   "metadata": {},
   "source": [
    "### Scoring"
   ]
  },
  {
   "cell_type": "code",
   "execution_count": 16,
   "metadata": {
    "collapsed": true
   },
   "outputs": [],
   "source": [
    "from sklearn.metrics import silhouette_samples, silhouette_score\n",
    "from IPython.display import display, HTML\n",
    "import warnings\n",
    "warnings.filterwarnings(\"ignore\", category=DeprecationWarning) "
   ]
  },
  {
   "cell_type": "markdown",
   "metadata": {},
   "source": [
    "### Best Silhoutte Score"
   ]
  },
  {
   "cell_type": "code",
   "execution_count": 17,
   "metadata": {
    "collapsed": true
   },
   "outputs": [],
   "source": [
    "best_score = 0.0\n",
    "best_k = 0"
   ]
  },
  {
   "cell_type": "code",
   "execution_count": 18,
   "metadata": {
    "collapsed": false
   },
   "outputs": [
    {
     "name": "stdout",
     "output_type": "stream",
     "text": [
      "In Clusters = 15 , Score is : 0.227\n",
      "In Clusters = 16 , Score is : 0.158\n",
      "In Clusters = 17 , Score is : 0.054\n",
      "In Clusters = 18 , Score is : 0.194\n",
      "In Clusters = 19 , Score is : 0.151\n",
      "In Clusters = 20 , Score is : 0.171\n",
      "In Clusters = 21 , Score is : 0.205\n",
      "In Clusters = 22 , Score is : 0.149\n",
      "In Clusters = 23 , Score is : 0.234\n",
      "In Clusters = 24 , Score is : 0.185\n",
      "In Clusters = 25 , Score is : 0.203\n",
      "In Clusters = 26 , Score is : 0.125\n",
      "In Clusters = 27 , Score is : 0.137\n",
      "In Clusters = 28 , Score is : 0.209\n",
      "In Clusters = 29 , Score is : 0.222\n",
      "In Clusters = 30 , Score is : 0.124\n",
      "In Clusters = 31 , Score is : 0.162\n",
      "In Clusters = 32 , Score is : 0.190\n",
      "In Clusters = 33 , Score is : 0.182\n",
      "In Clusters = 34 , Score is : 0.199\n",
      "In Clusters = 23 , Best score is : 0.234\n"
     ]
    }
   ],
   "source": [
    "for k in range(15, 35):\n",
    "    km = KMeans(n_clusters=k, n_jobs=-1).fit(x_list_100d)\n",
    "    score = silhouette_score(x_list_100d, km.labels_)\n",
    "    if best_score < score:\n",
    "        best_score = score\n",
    "        best_k = k\n",
    "    print(\"In Clusters =\", k, \", Score is : %0.3f\" % score)\n",
    "print(\"In Clusters =\", best_k, \", Best score is : %0.3f\" % best_score)"
   ]
  },
  {
   "cell_type": "markdown",
   "metadata": {},
   "source": [
    "### K-Means Algorithm"
   ]
  },
  {
   "cell_type": "code",
   "execution_count": 19,
   "metadata": {
    "collapsed": false,
    "scrolled": true
   },
   "outputs": [
    {
     "name": "stdout",
     "output_type": "stream",
     "text": [
      "301.838414853\n"
     ]
    }
   ],
   "source": [
    "km = KMeans(n_clusters=best_k, n_jobs=-1).fit(x_list_100d)\n",
    "labels = km.labels_\n",
    "centroids = km.cluster_centers_\n",
    "print(km.inertia_)"
   ]
  },
  {
   "cell_type": "code",
   "execution_count": 20,
   "metadata": {
    "collapsed": false,
    "scrolled": true
   },
   "outputs": [],
   "source": [
    "x_list_vector = x_list_100d.tolist()\n",
    "train = train.drop(['title_flat', 'target_str'], axis=1)\n",
    "train['cluster'] = labels"
   ]
  },
  {
   "cell_type": "markdown",
   "metadata": {},
   "source": [
    "## Choose Best Cluster\n",
    "1. Cluster size < 500\n",
    "2. Recent published\n",
    "3. Minimum inertia"
   ]
  },
  {
   "cell_type": "markdown",
   "metadata": {},
   "source": [
    "### Compare best cluster"
   ]
  },
  {
   "cell_type": "code",
   "execution_count": 21,
   "metadata": {
    "collapsed": false
   },
   "outputs": [
    {
     "name": "stdout",
     "output_type": "stream",
     "text": [
      "Cluster 0:  0.0502198592067\n",
      "Cluster 1:  0.258042921253\n",
      "Cluster 2:  0.379140482439\n",
      "Cluster 3:  0.760952191998\n",
      "Cluster 4:  0.837904819713\n",
      "Cluster 5:  0.216879778453\n",
      "Cluster 6:  0.353200095946\n",
      "Cluster 7:  0.0554535790352\n",
      "Cluster 8:  0.167773083158\n",
      "Cluster 9:  0.0999849017844\n",
      "Cluster 10:  0.312123250329\n",
      "Cluster 11:  0.103006433494\n",
      "Cluster 12:  0.999999995599\n",
      "Cluster 13:  0.106193143989\n",
      "Cluster 14:  0.248349660093\n",
      "Cluster 15:  0.118036434433\n",
      "Cluster 16:  0.135426041306\n",
      "Cluster 17:  0.749364540736\n",
      "Cluster 18:  0.427068973283\n",
      "Cluster 19:  0.0679168919714\n",
      "Cluster 20:  0.459287525144\n",
      "Cluster 21:  0.905722600522\n",
      "Cluster 22:  0.339418177589\n"
     ]
    }
   ],
   "source": [
    "sample_silhouette_values = silhouette_samples(x_list_100d, labels)\n",
    "sample_silhouette_score = []\n",
    "best_cluster = []\n",
    "cluster_num = best_k\n",
    "\n",
    "for i in range(cluster_num):\n",
    "    ith_cluster_silhouette_values = \\\n",
    "        sample_silhouette_values[labels == i]\n",
    "        \n",
    "    print('Cluster %d: ' % (i), abs(ith_cluster_silhouette_values.mean()))\n",
    "    sample_silhouette_score.append(abs(ith_cluster_silhouette_values.mean()))\n",
    "\n",
    "sample_silhouette_score.sort(reverse=True)\n",
    "sample_silhouette_score = sample_silhouette_score[:8]"
   ]
  },
  {
   "cell_type": "code",
   "execution_count": 22,
   "metadata": {
    "collapsed": false,
    "scrolled": true
   },
   "outputs": [
    {
     "data": {
      "text/plain": [
       "[0.99999999559937858,\n",
       " 0.90572260052166753,\n",
       " 0.83790481971297182,\n",
       " 0.76095219199823039,\n",
       " 0.74936454073619818,\n",
       " 0.45928752514385568,\n",
       " 0.42706897328320004,\n",
       " 0.37914048243912185]"
      ]
     },
     "execution_count": 22,
     "metadata": {},
     "output_type": "execute_result"
    }
   ],
   "source": [
    "sample_silhouette_score"
   ]
  },
  {
   "cell_type": "code",
   "execution_count": 23,
   "metadata": {
    "collapsed": false
   },
   "outputs": [],
   "source": [
    "for i in range(cluster_num):\n",
    "    ith_cluster_silhouette_values = \\\n",
    "        sample_silhouette_values[labels == i]\n",
    "        \n",
    "    if abs(ith_cluster_silhouette_values.mean()) in sample_silhouette_score:\n",
    "        best_cluster.append(i)"
   ]
  },
  {
   "cell_type": "code",
   "execution_count": 24,
   "metadata": {
    "collapsed": false
   },
   "outputs": [
    {
     "data": {
      "text/plain": [
       "[2, 3, 4, 12, 17, 18, 20, 21]"
      ]
     },
     "execution_count": 24,
     "metadata": {},
     "output_type": "execute_result"
    }
   ],
   "source": [
    "best_cluster"
   ]
  },
  {
   "cell_type": "code",
   "execution_count": 25,
   "metadata": {
    "collapsed": false
   },
   "outputs": [
    {
     "data": {
      "text/plain": [
       "array([18,  2, 20, 21, 17, 12,  3,  4])"
      ]
     },
     "execution_count": 25,
     "metadata": {},
     "output_type": "execute_result"
    }
   ],
   "source": [
    "train = train[train['cluster'].isin(best_cluster)]\n",
    "train.cluster.unique()"
   ]
  },
  {
   "cell_type": "markdown",
   "metadata": {},
   "source": [
    "## Result"
   ]
  },
  {
   "cell_type": "code",
   "execution_count": 26,
   "metadata": {
    "collapsed": false,
    "scrolled": false
   },
   "outputs": [
    {
     "name": "stdout",
     "output_type": "stream",
     "text": [
      "Cluster 0: Size 24\n"
     ]
    },
    {
     "data": {
      "text/html": [
       "<div>\n",
       "<table border=\"1\" class=\"dataframe\">\n",
       "  <thead>\n",
       "    <tr style=\"text-align: right;\">\n",
       "      <th></th>\n",
       "      <th>title</th>\n",
       "      <th>category</th>\n",
       "    </tr>\n",
       "  </thead>\n",
       "  <tbody>\n",
       "    <tr>\n",
       "      <th>296</th>\n",
       "      <td>[경향포토]운영위 답변하는 한광옥 비서실장</td>\n",
       "      <td>정치 &gt; 정치일반</td>\n",
       "    </tr>\n",
       "    <tr>\n",
       "      <th>291</th>\n",
       "      <td>[경향포토]국회 더불어민주당 찾은 비서실장</td>\n",
       "      <td>정치 &gt; 정치일반</td>\n",
       "    </tr>\n",
       "    <tr>\n",
       "      <th>299</th>\n",
       "      <td>[경향포토]국회 운영위 나온 한광옥 대통령 비서실장</td>\n",
       "      <td>정치 &gt; 정치일반</td>\n",
       "    </tr>\n",
       "    <tr>\n",
       "      <th>211</th>\n",
       "      <td>[11·2 기습 개각]“비서실장 누가 맡으려 할까” 뒤엉켜버린 인적쇄신 수순</td>\n",
       "      <td>정치 &gt; 정치일반</td>\n",
       "    </tr>\n",
       "    <tr>\n",
       "      <th>289</th>\n",
       "      <td>[경향포토]국회 국민의당 찾은 한광옥 비서실장</td>\n",
       "      <td>정치 &gt; 정치일반</td>\n",
       "    </tr>\n",
       "    <tr>\n",
       "      <th>290</th>\n",
       "      <td>[경향포토]국회 국민의당 찾은 비서실장</td>\n",
       "      <td>정치 &gt; 정치일반</td>\n",
       "    </tr>\n",
       "    <tr>\n",
       "      <th>298</th>\n",
       "      <td>[경향포토]국회 운영위 답변하는 한광옥 대통령 비서실장</td>\n",
       "      <td>정치 &gt; 정치일반</td>\n",
       "    </tr>\n",
       "    <tr>\n",
       "      <th>1649</th>\n",
       "      <td>15년 만에 다시 비서실장 기용된 한광옥</td>\n",
       "      <td>뉴스 &gt; 정치 &gt; 정치일반</td>\n",
       "    </tr>\n",
       "    <tr>\n",
       "      <th>292</th>\n",
       "      <td>[경향포토]국회 온 비서실장</td>\n",
       "      <td>정치 &gt; 정치일반</td>\n",
       "    </tr>\n",
       "    <tr>\n",
       "      <th>293</th>\n",
       "      <td>[경향포토]국회 새누리당 찾은 한광옥 비서실장</td>\n",
       "      <td>정치 &gt; 정치일반</td>\n",
       "    </tr>\n",
       "  </tbody>\n",
       "</table>\n",
       "</div>"
      ],
      "text/plain": [
       "                                           title        category\n",
       "296                      [경향포토]운영위 답변하는 한광옥 비서실장       정치 > 정치일반\n",
       "291                      [경향포토]국회 더불어민주당 찾은 비서실장       정치 > 정치일반\n",
       "299                 [경향포토]국회 운영위 나온 한광옥 대통령 비서실장       정치 > 정치일반\n",
       "211   [11·2 기습 개각]“비서실장 누가 맡으려 할까” 뒤엉켜버린 인적쇄신 수순       정치 > 정치일반\n",
       "289                    [경향포토]국회 국민의당 찾은 한광옥 비서실장       정치 > 정치일반\n",
       "290                        [경향포토]국회 국민의당 찾은 비서실장       정치 > 정치일반\n",
       "298               [경향포토]국회 운영위 답변하는 한광옥 대통령 비서실장       정치 > 정치일반\n",
       "1649                      15년 만에 다시 비서실장 기용된 한광옥  뉴스 > 정치 > 정치일반\n",
       "292                              [경향포토]국회 온 비서실장       정치 > 정치일반\n",
       "293                    [경향포토]국회 새누리당 찾은 한광옥 비서실장       정치 > 정치일반"
      ]
     },
     "metadata": {},
     "output_type": "display_data"
    },
    {
     "name": "stdout",
     "output_type": "stream",
     "text": [
      "\n",
      "\n",
      "\n",
      "Cluster 1: Size 6\n"
     ]
    },
    {
     "data": {
      "text/html": [
       "<div>\n",
       "<table border=\"1\" class=\"dataframe\">\n",
       "  <thead>\n",
       "    <tr style=\"text-align: right;\">\n",
       "      <th></th>\n",
       "      <th>title</th>\n",
       "      <th>category</th>\n",
       "    </tr>\n",
       "  </thead>\n",
       "  <tbody>\n",
       "    <tr>\n",
       "      <th>2010</th>\n",
       "      <td>서울빛초롱축제, 4일 청계천서 개막</td>\n",
       "      <td>뉴스 &gt; 사회 &gt; 사회일반</td>\n",
       "    </tr>\n",
       "    <tr>\n",
       "      <th>708</th>\n",
       "      <td>[경향포토]서울빛초롱축제 내일 개막</td>\n",
       "      <td>사회 &gt; 사회일반</td>\n",
       "    </tr>\n",
       "    <tr>\n",
       "      <th>711</th>\n",
       "      <td>[경향포토]청계천 '2016 서울빛초롱축제'</td>\n",
       "      <td>사회 &gt; 사회일반</td>\n",
       "    </tr>\n",
       "    <tr>\n",
       "      <th>709</th>\n",
       "      <td>[경향포토]2016 서울 빛초롱 축제</td>\n",
       "      <td>사회 &gt; 사회일반</td>\n",
       "    </tr>\n",
       "    <tr>\n",
       "      <th>2323</th>\n",
       "      <td>서울 청계천서 오늘부터 ‘빛초롱축제’ 연다</td>\n",
       "      <td>전국 &gt; 서울·수도권 서울 경기 인천</td>\n",
       "    </tr>\n",
       "    <tr>\n",
       "      <th>710</th>\n",
       "      <td>[경향포토]청계천 서울빛초롱축제</td>\n",
       "      <td>사회 &gt; 사회일반</td>\n",
       "    </tr>\n",
       "  </tbody>\n",
       "</table>\n",
       "</div>"
      ],
      "text/plain": [
       "                         title              category\n",
       "2010       서울빛초롱축제, 4일 청계천서 개막        뉴스 > 사회 > 사회일반\n",
       "708        [경향포토]서울빛초롱축제 내일 개막             사회 > 사회일반\n",
       "711   [경향포토]청계천 '2016 서울빛초롱축제'             사회 > 사회일반\n",
       "709       [경향포토]2016 서울 빛초롱 축제             사회 > 사회일반\n",
       "2323   서울 청계천서 오늘부터 ‘빛초롱축제’ 연다  전국 > 서울·수도권 서울 경기 인천\n",
       "710          [경향포토]청계천 서울빛초롱축제             사회 > 사회일반"
      ]
     },
     "metadata": {},
     "output_type": "display_data"
    },
    {
     "name": "stdout",
     "output_type": "stream",
     "text": [
      "\n",
      "\n",
      "\n",
      "Cluster 2: Size 7\n"
     ]
    },
    {
     "data": {
      "text/html": [
       "<div>\n",
       "<table border=\"1\" class=\"dataframe\">\n",
       "  <thead>\n",
       "    <tr style=\"text-align: right;\">\n",
       "      <th></th>\n",
       "      <th>title</th>\n",
       "      <th>category</th>\n",
       "    </tr>\n",
       "  </thead>\n",
       "  <tbody>\n",
       "    <tr>\n",
       "      <th>2494</th>\n",
       "      <td>삼성바이오로직스 청약에 시중자금 10조 몰려</td>\n",
       "      <td>경제 &gt; 증권</td>\n",
       "    </tr>\n",
       "    <tr>\n",
       "      <th>2482</th>\n",
       "      <td>삼성바이오로직스 상장 축포 터뜨릴까</td>\n",
       "      <td>경제 &gt; 증권</td>\n",
       "    </tr>\n",
       "    <tr>\n",
       "      <th>872</th>\n",
       "      <td>삼성바이오로직스 공모주 청약 마지막 날은··· ‘뜨뜻미지근’</td>\n",
       "      <td>마켓·비즈 &gt; 경제일반</td>\n",
       "    </tr>\n",
       "    <tr>\n",
       "      <th>1302</th>\n",
       "      <td>삼성바이오로직스 공모가 13만6000원으로 확정</td>\n",
       "      <td>마켓·비즈 &gt; 기업소식</td>\n",
       "    </tr>\n",
       "    <tr>\n",
       "      <th>1304</th>\n",
       "      <td>[기업특집] 삼성바이오로직스, 글로벌 3위 도약…바이오제약 분야 새 역사</td>\n",
       "      <td>마켓·비즈 &gt; 기업소식</td>\n",
       "    </tr>\n",
       "    <tr>\n",
       "      <th>2347</th>\n",
       "      <td>삼성바이오로직스 공모주 경쟁 ‘기대 이하’</td>\n",
       "      <td>마켓·비즈 &gt; 금융·재테크</td>\n",
       "    </tr>\n",
       "    <tr>\n",
       "      <th>851</th>\n",
       "      <td>올해의 ‘최대어’라는 삼성바이오로직스, 청약 첫날 성적표는···</td>\n",
       "      <td>마켓·비즈 &gt; 경제일반</td>\n",
       "    </tr>\n",
       "  </tbody>\n",
       "</table>\n",
       "</div>"
      ],
      "text/plain": [
       "                                         title        category\n",
       "2494                  삼성바이오로직스 청약에 시중자금 10조 몰려         경제 > 증권\n",
       "2482                       삼성바이오로직스 상장 축포 터뜨릴까         경제 > 증권\n",
       "872          삼성바이오로직스 공모주 청약 마지막 날은··· ‘뜨뜻미지근’    마켓·비즈 > 경제일반\n",
       "1302                삼성바이오로직스 공모가 13만6000원으로 확정    마켓·비즈 > 기업소식\n",
       "1304  [기업특집] 삼성바이오로직스, 글로벌 3위 도약…바이오제약 분야 새 역사    마켓·비즈 > 기업소식\n",
       "2347                   삼성바이오로직스 공모주 경쟁 ‘기대 이하’  마켓·비즈 > 금융·재테크\n",
       "851        올해의 ‘최대어’라는 삼성바이오로직스, 청약 첫날 성적표는···    마켓·비즈 > 경제일반"
      ]
     },
     "metadata": {},
     "output_type": "display_data"
    },
    {
     "name": "stdout",
     "output_type": "stream",
     "text": [
      "\n",
      "\n",
      "\n",
      "Cluster 3: Size 5\n"
     ]
    },
    {
     "data": {
      "text/html": [
       "<div>\n",
       "<table border=\"1\" class=\"dataframe\">\n",
       "  <thead>\n",
       "    <tr style=\"text-align: right;\">\n",
       "      <th></th>\n",
       "      <th>title</th>\n",
       "      <th>category</th>\n",
       "    </tr>\n",
       "  </thead>\n",
       "  <tbody>\n",
       "    <tr>\n",
       "      <th>670</th>\n",
       "      <td>[경향포토]외국인 학생 패션쇼 - 3</td>\n",
       "      <td>사회 &gt; 사회일반</td>\n",
       "    </tr>\n",
       "    <tr>\n",
       "      <th>672</th>\n",
       "      <td>[경향포토]외국인 학생 패션쇼 - 1</td>\n",
       "      <td>사회 &gt; 사회일반</td>\n",
       "    </tr>\n",
       "    <tr>\n",
       "      <th>668</th>\n",
       "      <td>[경향포토]외국인 학생 패션쇼 - 5</td>\n",
       "      <td>사회 &gt; 사회일반</td>\n",
       "    </tr>\n",
       "    <tr>\n",
       "      <th>671</th>\n",
       "      <td>[경향포토]외국인 학생 패션쇼 - 2</td>\n",
       "      <td>사회 &gt; 사회일반</td>\n",
       "    </tr>\n",
       "    <tr>\n",
       "      <th>669</th>\n",
       "      <td>[경향포토]외국인 학생 패션쇼 - 4</td>\n",
       "      <td>사회 &gt; 사회일반</td>\n",
       "    </tr>\n",
       "  </tbody>\n",
       "</table>\n",
       "</div>"
      ],
      "text/plain": [
       "                    title   category\n",
       "670  [경향포토]외국인 학생 패션쇼 - 3  사회 > 사회일반\n",
       "672  [경향포토]외국인 학생 패션쇼 - 1  사회 > 사회일반\n",
       "668  [경향포토]외국인 학생 패션쇼 - 5  사회 > 사회일반\n",
       "671  [경향포토]외국인 학생 패션쇼 - 2  사회 > 사회일반\n",
       "669  [경향포토]외국인 학생 패션쇼 - 4  사회 > 사회일반"
      ]
     },
     "metadata": {},
     "output_type": "display_data"
    },
    {
     "name": "stdout",
     "output_type": "stream",
     "text": [
      "\n",
      "\n",
      "\n",
      "Cluster 4: Size 4\n"
     ]
    },
    {
     "data": {
      "text/html": [
       "<div>\n",
       "<table border=\"1\" class=\"dataframe\">\n",
       "  <thead>\n",
       "    <tr style=\"text-align: right;\">\n",
       "      <th></th>\n",
       "      <th>title</th>\n",
       "      <th>category</th>\n",
       "    </tr>\n",
       "  </thead>\n",
       "  <tbody>\n",
       "    <tr>\n",
       "      <th>1762</th>\n",
       "      <td>이승만 비판 '우남찬가' 저자, 손해배상 책임 없어</td>\n",
       "      <td>사회 &gt; 법원ㆍ검찰ㆍ경찰</td>\n",
       "    </tr>\n",
       "    <tr>\n",
       "      <th>376</th>\n",
       "      <td>법원 “이승만 비판 ‘우남찬가’ 저자, 손해배상 책임 없어”</td>\n",
       "      <td>사회 &gt; 사회일반</td>\n",
       "    </tr>\n",
       "    <tr>\n",
       "      <th>1386</th>\n",
       "      <td>법원 “이승만 비판 ‘우남찬가’ 저자, 손해배상 책임 없어”</td>\n",
       "      <td>사회 &gt; 법원·검찰</td>\n",
       "    </tr>\n",
       "    <tr>\n",
       "      <th>1390</th>\n",
       "      <td>“이승만 비판 ‘우남찬가’ 업무방해 해당 안돼”</td>\n",
       "      <td>사회 &gt; 법원·검찰</td>\n",
       "    </tr>\n",
       "  </tbody>\n",
       "</table>\n",
       "</div>"
      ],
      "text/plain": [
       "                                  title       category\n",
       "1762       이승만 비판 '우남찬가' 저자, 손해배상 책임 없어  사회 > 법원ㆍ검찰ㆍ경찰\n",
       "376   법원 “이승만 비판 ‘우남찬가’ 저자, 손해배상 책임 없어”      사회 > 사회일반\n",
       "1386  법원 “이승만 비판 ‘우남찬가’ 저자, 손해배상 책임 없어”     사회 > 법원·검찰\n",
       "1390         “이승만 비판 ‘우남찬가’ 업무방해 해당 안돼”     사회 > 법원·검찰"
      ]
     },
     "metadata": {},
     "output_type": "display_data"
    },
    {
     "name": "stdout",
     "output_type": "stream",
     "text": [
      "\n",
      "\n",
      "\n",
      "Cluster 5: Size 12\n"
     ]
    },
    {
     "data": {
      "text/html": [
       "<div>\n",
       "<table border=\"1\" class=\"dataframe\">\n",
       "  <thead>\n",
       "    <tr style=\"text-align: right;\">\n",
       "      <th></th>\n",
       "      <th>title</th>\n",
       "      <th>category</th>\n",
       "    </tr>\n",
       "  </thead>\n",
       "  <tbody>\n",
       "    <tr>\n",
       "      <th>81</th>\n",
       "      <td>민주당 추미애 “법적 권한 없는 거국중립내각은 장식용 내각 불과”</td>\n",
       "      <td>정치 &gt; 정치일반</td>\n",
       "    </tr>\n",
       "    <tr>\n",
       "      <th>903</th>\n",
       "      <td>거국중립내각 먼저 꺼내고도 머리 아픈 야당</td>\n",
       "      <td>정치 &gt; 국회·정당</td>\n",
       "    </tr>\n",
       "    <tr>\n",
       "      <th>937</th>\n",
       "      <td>‘거국중립내각’ 왜 말만 요란할까?</td>\n",
       "      <td>정치 &gt; 국회·정당</td>\n",
       "    </tr>\n",
       "    <tr>\n",
       "      <th>905</th>\n",
       "      <td>박대통령, 우병우·안종범·‘3인방’ 경질 새누리, 거국중립내각 구성 요구</td>\n",
       "      <td>정치 &gt; 국회·정당</td>\n",
       "    </tr>\n",
       "    <tr>\n",
       "      <th>80</th>\n",
       "      <td>與 정진석, 거국중립내각 거부한 야권에 “탄핵정국, 하야정국 몰고가려 하나\"</td>\n",
       "      <td>정치 &gt; 정치일반</td>\n",
       "    </tr>\n",
       "    <tr>\n",
       "      <th>104</th>\n",
       "      <td>[최순실 국정농단]여·야 ‘거국중립내각’ 같은 말 다른 속내</td>\n",
       "      <td>정치 &gt; 정치일반</td>\n",
       "    </tr>\n",
       "    <tr>\n",
       "      <th>1538</th>\n",
       "      <td>與, 거국중립내각 구성 요구</td>\n",
       "      <td>뉴스 &gt; 정치 &gt; 정치일반</td>\n",
       "    </tr>\n",
       "    <tr>\n",
       "      <th>893</th>\n",
       "      <td>‘거국중립내각’ 요구 분출…여 잠룡들도 가세</td>\n",
       "      <td>정치 &gt; 국회·정당</td>\n",
       "    </tr>\n",
       "    <tr>\n",
       "      <th>52</th>\n",
       "      <td>새누리 “거국중립내각 구성해야”</td>\n",
       "      <td>정치 &gt; 정치일반</td>\n",
       "    </tr>\n",
       "    <tr>\n",
       "      <th>1194</th>\n",
       "      <td>청, 거국중립내각 반대…이원종 실장 26일 사표</td>\n",
       "      <td>정치 &gt; 청와대</td>\n",
       "    </tr>\n",
       "  </tbody>\n",
       "</table>\n",
       "</div>"
      ],
      "text/plain": [
       "                                           title        category\n",
       "81          민주당 추미애 “법적 권한 없는 거국중립내각은 장식용 내각 불과”       정치 > 정치일반\n",
       "903                      거국중립내각 먼저 꺼내고도 머리 아픈 야당      정치 > 국회·정당\n",
       "937                          ‘거국중립내각’ 왜 말만 요란할까?      정치 > 국회·정당\n",
       "905     박대통령, 우병우·안종범·‘3인방’ 경질 새누리, 거국중립내각 구성 요구      정치 > 국회·정당\n",
       "80    與 정진석, 거국중립내각 거부한 야권에 “탄핵정국, 하야정국 몰고가려 하나\"       정치 > 정치일반\n",
       "104            [최순실 국정농단]여·야 ‘거국중립내각’ 같은 말 다른 속내       정치 > 정치일반\n",
       "1538                             與, 거국중립내각 구성 요구  뉴스 > 정치 > 정치일반\n",
       "893                     ‘거국중립내각’ 요구 분출…여 잠룡들도 가세      정치 > 국회·정당\n",
       "52                             새누리 “거국중립내각 구성해야”       정치 > 정치일반\n",
       "1194                  청, 거국중립내각 반대…이원종 실장 26일 사표        정치 > 청와대"
      ]
     },
     "metadata": {},
     "output_type": "display_data"
    },
    {
     "name": "stdout",
     "output_type": "stream",
     "text": [
      "\n",
      "\n",
      "\n",
      "Cluster 6: Size 7\n"
     ]
    },
    {
     "data": {
      "text/html": [
       "<div>\n",
       "<table border=\"1\" class=\"dataframe\">\n",
       "  <thead>\n",
       "    <tr style=\"text-align: right;\">\n",
       "      <th></th>\n",
       "      <th>title</th>\n",
       "      <th>category</th>\n",
       "    </tr>\n",
       "  </thead>\n",
       "  <tbody>\n",
       "    <tr>\n",
       "      <th>196</th>\n",
       "      <td>[경향포토]야3당 원내대표 회의</td>\n",
       "      <td>정치 &gt; 정치일반</td>\n",
       "    </tr>\n",
       "    <tr>\n",
       "      <th>131</th>\n",
       "      <td>[경향포토]손잡은 야3당 원내대표</td>\n",
       "      <td>정치 &gt; 정치일반</td>\n",
       "    </tr>\n",
       "    <tr>\n",
       "      <th>195</th>\n",
       "      <td>[경향포토]야3당 원내대표 회동</td>\n",
       "      <td>정치 &gt; 정치일반</td>\n",
       "    </tr>\n",
       "    <tr>\n",
       "      <th>136</th>\n",
       "      <td>[경향포토]최순실 관련 야3당 원내대표 회동</td>\n",
       "      <td>정치 &gt; 정치일반</td>\n",
       "    </tr>\n",
       "    <tr>\n",
       "      <th>137</th>\n",
       "      <td>[경향포토]야3당 원내대표 회동</td>\n",
       "      <td>정치 &gt; 정치일반</td>\n",
       "    </tr>\n",
       "    <tr>\n",
       "      <th>83</th>\n",
       "      <td>[속보]국회의장·여야 원내대표 회동 10분 만에 결렬</td>\n",
       "      <td>정치 &gt; 정치일반</td>\n",
       "    </tr>\n",
       "    <tr>\n",
       "      <th>2767</th>\n",
       "      <td>10분만에 깨진 3黨 원내대표 회동</td>\n",
       "      <td>정치 &gt; 국회ㆍ정당</td>\n",
       "    </tr>\n",
       "  </tbody>\n",
       "</table>\n",
       "</div>"
      ],
      "text/plain": [
       "                              title    category\n",
       "196               [경향포토]야3당 원내대표 회의   정치 > 정치일반\n",
       "131              [경향포토]손잡은 야3당 원내대표   정치 > 정치일반\n",
       "195               [경향포토]야3당 원내대표 회동   정치 > 정치일반\n",
       "136        [경향포토]최순실 관련 야3당 원내대표 회동   정치 > 정치일반\n",
       "137               [경향포토]야3당 원내대표 회동   정치 > 정치일반\n",
       "83    [속보]국회의장·여야 원내대표 회동 10분 만에 결렬   정치 > 정치일반\n",
       "2767            10분만에 깨진 3黨 원내대표 회동  정치 > 국회ㆍ정당"
      ]
     },
     "metadata": {},
     "output_type": "display_data"
    },
    {
     "name": "stdout",
     "output_type": "stream",
     "text": [
      "\n",
      "\n",
      "\n",
      "Cluster 7: Size 3\n"
     ]
    },
    {
     "data": {
      "text/html": [
       "<div>\n",
       "<table border=\"1\" class=\"dataframe\">\n",
       "  <thead>\n",
       "    <tr style=\"text-align: right;\">\n",
       "      <th></th>\n",
       "      <th>title</th>\n",
       "      <th>category</th>\n",
       "    </tr>\n",
       "  </thead>\n",
       "  <tbody>\n",
       "    <tr>\n",
       "      <th>1576</th>\n",
       "      <td>朴대통령 “제가 邪敎(사교)에 빠졌다니… ”</td>\n",
       "      <td>뉴스 &gt; 정치 &gt; 정치일반</td>\n",
       "    </tr>\n",
       "    <tr>\n",
       "      <th>158</th>\n",
       "      <td>박대통령 “저더러 사교(邪敎)에 빠졌다고 하더라구요”</td>\n",
       "      <td>정치 &gt; 정치일반</td>\n",
       "    </tr>\n",
       "    <tr>\n",
       "      <th>150</th>\n",
       "      <td>박 대통령 “저더러 ‘사교’에 빠졌다고 하더라구요”</td>\n",
       "      <td>정치 &gt; 정치일반</td>\n",
       "    </tr>\n",
       "  </tbody>\n",
       "</table>\n",
       "</div>"
      ],
      "text/plain": [
       "                              title        category\n",
       "1576       朴대통령 “제가 邪敎(사교)에 빠졌다니… ”  뉴스 > 정치 > 정치일반\n",
       "158   박대통령 “저더러 사교(邪敎)에 빠졌다고 하더라구요”       정치 > 정치일반\n",
       "150    박 대통령 “저더러 ‘사교’에 빠졌다고 하더라구요”       정치 > 정치일반"
      ]
     },
     "metadata": {},
     "output_type": "display_data"
    },
    {
     "name": "stdout",
     "output_type": "stream",
     "text": [
      "\n",
      "\n",
      "\n"
     ]
    }
   ],
   "source": [
    "cluster_data = []\n",
    "\n",
    "for cluster_index in range(cluster_num):\n",
    "    if cluster_index in best_cluster:\n",
    "        cluster_data.append(train[train['cluster'] == cluster_index])\n",
    "    \n",
    "for i, d in enumerate(cluster_data):\n",
    "    print('Cluster %d:' % (i), 'Size %d' % (len(d)))\n",
    "\n",
    "    display(d[['title', 'category']].sample(min(10, len(d))))\n",
    "    print('\\n\\n')"
   ]
  },
  {
   "cell_type": "markdown",
   "metadata": {},
   "source": [
    "## Save Dataframe to MongoDB"
   ]
  },
  {
   "cell_type": "code",
   "execution_count": 27,
   "metadata": {
    "collapsed": true
   },
   "outputs": [],
   "source": [
    "from pymongo import MongoClient"
   ]
  },
  {
   "cell_type": "code",
   "execution_count": 28,
   "metadata": {
    "collapsed": true
   },
   "outputs": [],
   "source": [
    "client = MongoClient('mongodb://localhost:27017/somanews')\n",
    "client.somanews.authenticate('ssomanews', 'ssomanews1029')\n",
    "db = client.get_database('somanews')\n",
    "articles = db.get_collection('articles')"
   ]
  },
  {
   "cell_type": "code",
   "execution_count": 29,
   "metadata": {
    "collapsed": false
   },
   "outputs": [],
   "source": [
    "articles.insert_many(train.to_dict(orient='records'))\n",
    "client.close()"
   ]
  }
 ],
 "metadata": {
  "kernelspec": {
   "display_name": "Python 3",
   "language": "python",
   "name": "python3"
  },
  "language_info": {
   "codemirror_mode": {
    "name": "ipython",
    "version": 3
   },
   "file_extension": ".py",
   "mimetype": "text/x-python",
   "name": "python",
   "nbconvert_exporter": "python",
   "pygments_lexer": "ipython3",
   "version": "3.5.2"
  }
 },
 "nbformat": 4,
 "nbformat_minor": 1
}
