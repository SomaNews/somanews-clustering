{
 "cells": [
  {
   "cell_type": "markdown",
   "metadata": {},
   "source": [
    "# News Clustering using KMeans Algorithm"
   ]
  },
  {
   "cell_type": "code",
   "execution_count": 1,
   "metadata": {
    "collapsed": false
   },
   "outputs": [],
   "source": [
    "import numpy as np\n",
    "import pandas as pd\n",
    "from time import time\n",
    "from pymongo import MongoClient"
   ]
  },
  {
   "cell_type": "code",
   "execution_count": 2,
   "metadata": {
    "collapsed": true
   },
   "outputs": [],
   "source": [
    "t0 = time()"
   ]
  },
  {
   "cell_type": "markdown",
   "metadata": {
    "collapsed": true
   },
   "source": [
    "## Load data from MongoDB "
   ]
  },
  {
   "cell_type": "code",
   "execution_count": 73,
   "metadata": {
    "collapsed": false,
    "scrolled": true
   },
   "outputs": [],
   "source": [
    "client = MongoClient('mongodb://localhost:27017/somanews')\n",
    "client.somanews.authenticate('ssomanews', 'ssomanews1029')\n",
    "db = client.get_database('somanews')\n",
    "\n",
    "articles = db.get_collection('articles')\n",
    "train = pd.DataFrame(list(articles.find()))"
   ]
  },
  {
   "cell_type": "markdown",
   "metadata": {},
   "source": [
    "## Group by cluster"
   ]
  },
  {
   "cell_type": "code",
   "execution_count": 4,
   "metadata": {
    "collapsed": false
   },
   "outputs": [],
   "source": [
    "import datetime\n",
    "import functools\n",
    "import operator"
   ]
  },
  {
   "cell_type": "code",
   "execution_count": 5,
   "metadata": {
    "collapsed": true
   },
   "outputs": [],
   "source": [
    "def avg_datetime(series):\n",
    "    dt_min = series.min()\n",
    "    deltas = [x-dt_min for x in series]\n",
    "    return dt_min + functools.reduce(operator.add, deltas) / len(deltas)"
   ]
  },
  {
   "cell_type": "code",
   "execution_count": 6,
   "metadata": {
    "collapsed": false
   },
   "outputs": [
    {
     "name": "stdout",
     "output_type": "stream",
     "text": [
      "3 238 2016-11-09 12:03:49.529411764\n",
      "4 70 2016-11-09 04:38:36\n",
      "12 56 2016-11-08 22:44:45.250000\n",
      "13 182 2016-11-10 04:30:18.461538461\n",
      "16 154 2016-11-10 00:36:38.181818181\n",
      "17 224 2016-11-08 13:28:52.625000\n",
      "20 196 2016-11-10 15:43:38.571428571\n",
      "21 140 2016-11-09 18:19:30.200000\n",
      "22 42 2016-11-08 01:46:40.333333333\n",
      "23 168 2016-11-11 11:32:50\n",
      "24 392 2016-11-09 16:25:36.642857142\n",
      "25 70 2016-11-08 21:56:36\n"
     ]
    }
   ],
   "source": [
    "for name, group in train.groupby('cluster'):\n",
    "    print(name, group.size, avg_datetime(group.publishedAt))"
   ]
  },
  {
   "cell_type": "code",
   "execution_count": 31,
   "metadata": {
    "collapsed": true
   },
   "outputs": [],
   "source": [
    "test = [0.71706071666708804,\n",
    " 0.3529872074112238,\n",
    " 0.68909809900922037,\n",
    " 0.48477673033979296,\n",
    " 0.59294147267543074,\n",
    " 0.63600523810705734,\n",
    " 0.64057083464699427,\n",
    " 0.60478776979334714,\n",
    " 0.89184765048088543,\n",
    " 0.37862157423502785,\n",
    " 0.42959035257638323,\n",
    " 0.4260801989923223]"
   ]
  },
  {
   "cell_type": "code",
   "execution_count": 8,
   "metadata": {
    "collapsed": true
   },
   "outputs": [],
   "source": [
    "import ntc_rank"
   ]
  },
  {
   "cell_type": "code",
   "execution_count": 9,
   "metadata": {
    "collapsed": true
   },
   "outputs": [],
   "source": [
    "def get_target_cate():\n",
    "    return [u\"정치\", u\"사회\", u\"과학\", u\"경제\"]"
   ]
  },
  {
   "cell_type": "code",
   "execution_count": 71,
   "metadata": {
    "collapsed": false
   },
   "outputs": [],
   "source": [
    "def save_to_db(train, prefix, collections, cohesions):\n",
    "    clusters = []\n",
    "    time = datetime.datetime.now()\n",
    "    clusters_infors = [(name, group) for name, group in train.groupby('cluster')]\n",
    "    prefix = prefix * 1000\n",
    "    i = 0\n",
    "    for cluster in clusters_infors:\n",
    "        new_cluster = prefix + cluster[0]\n",
    "        info = cluster[1].size\n",
    "\n",
    "        articles = []\n",
    "        for idx, row in cluster[1].iterrows():\n",
    "            row_dict = row.to_dict()\n",
    "            articles.append(row_dict)\n",
    "\n",
    "        cates = {}\n",
    "        for cate in get_target_cate():\n",
    "            cate_items = [article for article in articles if article['cate'] == cate]\n",
    "            count = len(cate_items)\n",
    "            cates[cate] = count\n",
    "\n",
    "        leading = articles[0]\n",
    "        for article in articles:\n",
    "            if article['imageURL'] != '':\n",
    "                if((leading['publishedAt'] - article['publishedAt']).total_seconds() > 0):\n",
    "                    leading = article\n",
    "\n",
    "        cluster = {\n",
    "            \"cluster\": str(new_cluster),\n",
    "            \"cohesion\": cohesions[i],\n",
    "            \"count\": int(info),\n",
    "            \"cate\": cates,\n",
    "            \"leading\": leading,\n",
    "            \"clusteredAt\": time,\n",
    "            \"articles\": articles\n",
    "        }\n",
    "        clusters.append(cluster)\n",
    "        i = i+1\n",
    "\n",
    "    clusters = ntc_rank.calc_issue_rank(clusters)\n",
    "    collections.insert_many(clusters)"
   ]
  },
  {
   "cell_type": "code",
   "execution_count": 72,
   "metadata": {
    "collapsed": false
   },
   "outputs": [],
   "source": [
    "save_to_db(train, 1108, collections, test)"
   ]
  },
  {
   "cell_type": "code",
   "execution_count": 57,
   "metadata": {
    "collapsed": true
   },
   "outputs": [],
   "source": [
    "client.close()"
   ]
  }
 ],
 "metadata": {
  "kernelspec": {
   "display_name": "Python 3",
   "language": "python",
   "name": "python3"
  },
  "language_info": {
   "codemirror_mode": {
    "name": "ipython",
    "version": 3
   },
   "file_extension": ".py",
   "mimetype": "text/x-python",
   "name": "python",
   "nbconvert_exporter": "python",
   "pygments_lexer": "ipython3",
   "version": "3.5.2"
  }
 },
 "nbformat": 4,
 "nbformat_minor": 1
}
