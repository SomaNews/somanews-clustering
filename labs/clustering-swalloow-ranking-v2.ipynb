{
 "cells": [
  {
   "cell_type": "markdown",
   "metadata": {},
   "source": [
    "# News Clustering using KMeans Algorithm\n",
    "By Datetime : 2016-08-29 ~ 2016-09-05"
   ]
  },
  {
   "cell_type": "code",
   "execution_count": 1,
   "metadata": {
    "collapsed": false
   },
   "outputs": [],
   "source": [
    "import numpy as np\n",
    "import pandas as pd"
   ]
  },
  {
   "cell_type": "markdown",
   "metadata": {
    "collapsed": true
   },
   "source": [
    "## Load data from Pickle "
   ]
  },
  {
   "cell_type": "code",
   "execution_count": 2,
   "metadata": {
    "collapsed": false,
    "scrolled": true
   },
   "outputs": [],
   "source": [
    "train = pd.read_pickle(\"../datastore/clustering.p\")\n",
    "train = train.reset_index(drop=True)"
   ]
  },
  {
   "cell_type": "code",
   "execution_count": 3,
   "metadata": {
    "collapsed": false
   },
   "outputs": [],
   "source": [
    "headline = pd.read_pickle(\"../datastore/headline.p\")\n",
    "headlines = headline['headline'].tolist()"
   ]
  },
  {
   "cell_type": "code",
   "execution_count": 4,
   "metadata": {
    "collapsed": false
   },
   "outputs": [
    {
     "data": {
      "text/plain": [
       "['지표로 보는 경제',\n",
       " '오늘의',\n",
       " '화제의 분양현장',\n",
       " '뉴스룸',\n",
       " '카드뉴스',\n",
       " '조선일보',\n",
       " 'TV조선',\n",
       " '특집',\n",
       " '이슈',\n",
       " 'Weekly BIZ',\n",
       " '금주의',\n",
       " '사회공헌 Together',\n",
       " '신나는 공부',\n",
       " '포토',\n",
       " '리빙포인트',\n",
       " '경제계 인사']"
      ]
     },
     "execution_count": 4,
     "metadata": {},
     "output_type": "execute_result"
    }
   ],
   "source": [
    "headlines"
   ]
  },
  {
   "cell_type": "markdown",
   "metadata": {},
   "source": [
    "## Select Categories\n",
    "- 포함 : 경제, 문화, 건강, 과학, 사회, 정치, 스포츠\n",
    "- 제외 : 종합, 정보없음, 인물, 사설"
   ]
  },
  {
   "cell_type": "code",
   "execution_count": 5,
   "metadata": {
    "collapsed": true
   },
   "outputs": [],
   "source": [
    "categories = ['경제', '과학', '사회', '정치']"
   ]
  },
  {
   "cell_type": "code",
   "execution_count": 6,
   "metadata": {
    "collapsed": false
   },
   "outputs": [],
   "source": [
    "economy = train[train['name']=='경제']\n",
    "science = train[train['name']=='과학']\n",
    "social = train[train['name']=='사회']\n",
    "politics = train[train['name']=='정치']"
   ]
  },
  {
   "cell_type": "markdown",
   "metadata": {},
   "source": [
    "## Preprocessing\n",
    "1. Datetime (16-09-11 ~ 16-09-17)\n",
    "2. Remove stopwords (regex, hanja)\n",
    "3. POS Tagging with KoNLPy, Mecab\n",
    "4. Using bigram"
   ]
  },
  {
   "cell_type": "code",
   "execution_count": 7,
   "metadata": {
    "collapsed": true
   },
   "outputs": [],
   "source": [
    "import datetime\n",
    "from konlpy.tag import Mecab\n",
    "import hanja\n",
    "import re\n",
    "pd.options.mode.chained_assignment = None  # default='warn'"
   ]
  },
  {
   "cell_type": "code",
   "execution_count": 8,
   "metadata": {
    "collapsed": false
   },
   "outputs": [],
   "source": [
    "mecab = Mecab()"
   ]
  },
  {
   "cell_type": "code",
   "execution_count": 9,
   "metadata": {
    "collapsed": true
   },
   "outputs": [],
   "source": [
    "def text_cleaning(text):\n",
    "    text = hanja.translate(text, 'substitution')\n",
    "    text = re.sub('[^가-힝0-9a-zA-Z\\\\s]', ' ', text)\n",
    "    for headline in headlines:\n",
    "        text = text.replace(headline, ' ')\n",
    "    return text"
   ]
  },
  {
   "cell_type": "code",
   "execution_count": 10,
   "metadata": {
    "collapsed": true
   },
   "outputs": [],
   "source": [
    "def tokenize(data):\n",
    "    return [' '.join(e for e in mecab.nouns(data))]"
   ]
  },
  {
   "cell_type": "code",
   "execution_count": 11,
   "metadata": {
    "collapsed": false
   },
   "outputs": [],
   "source": [
    "economy['title_flat'] = economy['title'].apply(lambda text: text_cleaning(text))\n",
    "science['title_flat'] = science['title'].apply(lambda text: text_cleaning(text))\n",
    "social['title_flat'] = social['title'].apply(lambda text: text_cleaning(text))\n",
    "politics['title_flat'] = politics['title'].apply(lambda text: text_cleaning(text))\n",
    "title_economy = [tokenize(each[1]['title_flat']) for each in economy.iterrows()]\n",
    "title_science = [tokenize(each[1]['title_flat']) for each in science.iterrows()]\n",
    "title_social = [tokenize(each[1]['title_flat']) for each in social.iterrows()]\n",
    "title_politics = [tokenize(each[1]['title_flat']) for each in politics.iterrows()]"
   ]
  },
  {
   "cell_type": "markdown",
   "metadata": {},
   "source": [
    "## Training\n",
    "1. Feature extraction - TfidVectorizer\n",
    "2. Decomposition - PCA\n",
    "3. Cluster - KMeans"
   ]
  },
  {
   "cell_type": "code",
   "execution_count": 12,
   "metadata": {
    "collapsed": false,
    "scrolled": true
   },
   "outputs": [],
   "source": [
    "from sklearn.feature_extraction.text import TfidfVectorizer\n",
    "from sklearn.decomposition import PCA\n",
    "from sklearn.cluster import KMeans"
   ]
  },
  {
   "cell_type": "code",
   "execution_count": 13,
   "metadata": {
    "collapsed": false,
    "scrolled": false
   },
   "outputs": [],
   "source": [
    "vectorizer = TfidfVectorizer(lowercase=False, ngram_range=(1,2))\n",
    "title_economy_flat = [item for sublist in title_economy for item in sublist]\n",
    "title_science_flat = [item for sublist in title_science for item in sublist]\n",
    "title_social_flat = [item for sublist in title_social for item in sublist]\n",
    "title_politics_flat = [item for sublist in title_politics for item in sublist]\n",
    "x_list_economy = vectorizer.fit_transform(title_economy_flat)\n",
    "x_list_science = vectorizer.fit_transform(title_science_flat)\n",
    "x_list_social = vectorizer.fit_transform(title_social_flat)\n",
    "x_list_politics = vectorizer.fit_transform(title_politics_flat)"
   ]
  },
  {
   "cell_type": "code",
   "execution_count": 14,
   "metadata": {
    "collapsed": false
   },
   "outputs": [],
   "source": [
    "x_list_economy = PCA(n_components=10).fit_transform(x_list_economy.toarray())\n",
    "x_list_science = PCA(n_components=10).fit_transform(x_list_science.toarray())\n",
    "x_list_social = PCA(n_components=10).fit_transform(x_list_social.toarray())\n",
    "x_list_politics = PCA(n_components=10).fit_transform(x_list_politics.toarray())"
   ]
  },
  {
   "cell_type": "markdown",
   "metadata": {},
   "source": [
    "### Scoring"
   ]
  },
  {
   "cell_type": "code",
   "execution_count": 15,
   "metadata": {
    "collapsed": true
   },
   "outputs": [],
   "source": [
    "from sklearn.metrics import silhouette_samples, silhouette_score\n",
    "from IPython.display import display, HTML\n",
    "import warnings\n",
    "warnings.filterwarnings(\"ignore\", category=DeprecationWarning) "
   ]
  },
  {
   "cell_type": "markdown",
   "metadata": {},
   "source": [
    "### Best Silhoutte Score"
   ]
  },
  {
   "cell_type": "code",
   "execution_count": 42,
   "metadata": {
    "collapsed": true
   },
   "outputs": [],
   "source": [
    "best_score = 0.0\n",
    "best_k = 0"
   ]
  },
  {
   "cell_type": "code",
   "execution_count": 43,
   "metadata": {
    "collapsed": false
   },
   "outputs": [
    {
     "name": "stdout",
     "output_type": "stream",
     "text": [
      "In Clusters = 3 , Best score is : 0.560\n"
     ]
    }
   ],
   "source": [
    "for k in range(3, 15):\n",
    "    km = KMeans(n_clusters=k, n_jobs=-1).fit(x_list_politics)\n",
    "    score = silhouette_score(x_list_politics, km.labels_)\n",
    "    if best_score < score:\n",
    "        best_score = score\n",
    "        best_k = k\n",
    "print(\"In Clusters =\", best_k, \", Best score is : %0.3f\" % best_score)"
   ]
  },
  {
   "cell_type": "markdown",
   "metadata": {},
   "source": [
    "### K-Means Algorithm"
   ]
  },
  {
   "cell_type": "code",
   "execution_count": 44,
   "metadata": {
    "collapsed": false,
    "scrolled": true
   },
   "outputs": [
    {
     "name": "stdout",
     "output_type": "stream",
     "text": [
      "21.8639400152\n"
     ]
    }
   ],
   "source": [
    "km = KMeans(n_clusters=best_k, n_jobs=-1).fit(x_list_politics)\n",
    "labels = km.labels_\n",
    "centroids = km.cluster_centers_\n",
    "print(km.inertia_)"
   ]
  },
  {
   "cell_type": "code",
   "execution_count": 45,
   "metadata": {
    "collapsed": false,
    "scrolled": true
   },
   "outputs": [],
   "source": [
    "politics['cluster'] = labels"
   ]
  },
  {
   "cell_type": "markdown",
   "metadata": {},
   "source": [
    "## Choose Best Cluster\n",
    "1. Cluster size < 500\n",
    "2. Recent published\n",
    "3. Minimum inertia"
   ]
  },
  {
   "cell_type": "markdown",
   "metadata": {},
   "source": [
    "### Compare best cluster"
   ]
  },
  {
   "cell_type": "code",
   "execution_count": 47,
   "metadata": {
    "collapsed": false
   },
   "outputs": [
    {
     "name": "stdout",
     "output_type": "stream",
     "text": [
      "Cluster 0:  0.111120746772\n",
      "Cluster 1:  0.576164051419\n",
      "Cluster 2:  0.703484791879\n"
     ]
    }
   ],
   "source": [
    "sample_silhouette_values = silhouette_samples(x_list_politics, labels)\n",
    "sample_silhouette_score = []\n",
    "best_cluster = []\n",
    "cluster_num = best_k\n",
    "\n",
    "for i in range(cluster_num):\n",
    "    ith_cluster_silhouette_values = \\\n",
    "        sample_silhouette_values[labels == i]\n",
    "        \n",
    "    print('Cluster %d: ' % (i), abs(ith_cluster_silhouette_values.mean()))\n",
    "    sample_silhouette_score.append(abs(ith_cluster_silhouette_values.mean()))\n",
    "\n",
    "sample_silhouette_score.sort(reverse=True)\n",
    "sample_silhouette_score = sample_silhouette_score[:3]"
   ]
  },
  {
   "cell_type": "code",
   "execution_count": 48,
   "metadata": {
    "collapsed": false
   },
   "outputs": [],
   "source": [
    "for i in range(cluster_num):\n",
    "    ith_cluster_silhouette_values = \\\n",
    "        sample_silhouette_values[labels == i]\n",
    "        \n",
    "    if abs(ith_cluster_silhouette_values.mean()) in sample_silhouette_score:\n",
    "        best_cluster.append(i)"
   ]
  },
  {
   "cell_type": "code",
   "execution_count": 49,
   "metadata": {
    "collapsed": false
   },
   "outputs": [
    {
     "data": {
      "text/plain": [
       "array([1, 2, 0])"
      ]
     },
     "execution_count": 49,
     "metadata": {},
     "output_type": "execute_result"
    }
   ],
   "source": [
    "politics = politics[politics['cluster'].isin(best_cluster)]\n",
    "politics.cluster.unique()"
   ]
  },
  {
   "cell_type": "markdown",
   "metadata": {},
   "source": [
    "## Result"
   ]
  },
  {
   "cell_type": "code",
   "execution_count": 23,
   "metadata": {
    "collapsed": false,
    "scrolled": false
   },
   "outputs": [
    {
     "name": "stdout",
     "output_type": "stream",
     "text": [
      "Cluster 0: Size 484\n"
     ]
    },
    {
     "data": {
      "text/html": [
       "<div>\n",
       "<table border=\"1\" class=\"dataframe\">\n",
       "  <thead>\n",
       "    <tr style=\"text-align: right;\">\n",
       "      <th></th>\n",
       "      <th>title</th>\n",
       "      <th>category</th>\n",
       "    </tr>\n",
       "  </thead>\n",
       "  <tbody>\n",
       "    <tr>\n",
       "      <th>1406</th>\n",
       "      <td>[알립니다]‘신기후체제 미래 에너지’ 세미나에 초대합니다</td>\n",
       "      <td>뉴스 &gt; 경제 &gt; 경제일반</td>\n",
       "    </tr>\n",
       "    <tr>\n",
       "      <th>2236</th>\n",
       "      <td>폭염에 채소값 폭등…배추값 60% 올랐네</td>\n",
       "      <td>경제 &gt; 경제일반</td>\n",
       "    </tr>\n",
       "    <tr>\n",
       "      <th>1389</th>\n",
       "      <td>“한국 여성 노동참여율 亞太 16개국중 12위”</td>\n",
       "      <td>뉴스 &gt; 경제 &gt; 경제일반</td>\n",
       "    </tr>\n",
       "    <tr>\n",
       "      <th>1395</th>\n",
       "      <td>[간추린 뉴스/ 단신]연암대, 8일부터 수시 1차 신입생 모집</td>\n",
       "      <td>뉴스 &gt; 경제 &gt; 경제일반</td>\n",
       "    </tr>\n",
       "    <tr>\n",
       "      <th>1445</th>\n",
       "      <td>[간추린 뉴스/ 단신]추석연휴 전국 800개 문화시설 무료 개방 外</td>\n",
       "      <td>뉴스 &gt; 경제 &gt; 경제일반</td>\n",
       "    </tr>\n",
       "    <tr>\n",
       "      <th>2280</th>\n",
       "      <td>‘1등 선사’ 침몰 위기…수출입 물류 비상·부산 경제 ‘직격탄’</td>\n",
       "      <td>경제 &gt; 경제일반</td>\n",
       "    </tr>\n",
       "    <tr>\n",
       "      <th>1466</th>\n",
       "      <td>“노후 준비 양극화… 저소득층 사적연금 확대, 정부가 나서야”</td>\n",
       "      <td>뉴스 &gt; 경제 &gt; 경제일반</td>\n",
       "    </tr>\n",
       "    <tr>\n",
       "      <th>1488</th>\n",
       "      <td>[분양 정보]서울 봉천동 ‘서울대역 힐링스테이트’ 2400채 外</td>\n",
       "      <td>뉴스 &gt; 경제 &gt; 경제일반</td>\n",
       "    </tr>\n",
       "    <tr>\n",
       "      <th>3061</th>\n",
       "      <td>동남아 최대 자동차 생산국으로 부상한 태국</td>\n",
       "      <td>경제 &gt; 자동차</td>\n",
       "    </tr>\n",
       "    <tr>\n",
       "      <th>764</th>\n",
       "      <td>ETF 신탁 운용 10년 노하우, 다양한 상품 선봬</td>\n",
       "      <td>경제 &gt; 유통ㆍ소비자</td>\n",
       "    </tr>\n",
       "  </tbody>\n",
       "</table>\n",
       "</div>"
      ],
      "text/plain": [
       "                                      title        category\n",
       "1406        [알립니다]‘신기후체제 미래 에너지’ 세미나에 초대합니다  뉴스 > 경제 > 경제일반\n",
       "2236                 폭염에 채소값 폭등…배추값 60% 올랐네       경제 > 경제일반\n",
       "1389             “한국 여성 노동참여율 亞太 16개국중 12위”  뉴스 > 경제 > 경제일반\n",
       "1395     [간추린 뉴스/ 단신]연암대, 8일부터 수시 1차 신입생 모집  뉴스 > 경제 > 경제일반\n",
       "1445  [간추린 뉴스/ 단신]추석연휴 전국 800개 문화시설 무료 개방 外  뉴스 > 경제 > 경제일반\n",
       "2280    ‘1등 선사’ 침몰 위기…수출입 물류 비상·부산 경제 ‘직격탄’       경제 > 경제일반\n",
       "1466     “노후 준비 양극화… 저소득층 사적연금 확대, 정부가 나서야”  뉴스 > 경제 > 경제일반\n",
       "1488    [분양 정보]서울 봉천동 ‘서울대역 힐링스테이트’ 2400채 外  뉴스 > 경제 > 경제일반\n",
       "3061                동남아 최대 자동차 생산국으로 부상한 태국        경제 > 자동차\n",
       "764            ETF 신탁 운용 10년 노하우, 다양한 상품 선봬     경제 > 유통ㆍ소비자"
      ]
     },
     "metadata": {},
     "output_type": "display_data"
    },
    {
     "name": "stdout",
     "output_type": "stream",
     "text": [
      "\n",
      "\n",
      "\n",
      "Cluster 1: Size 8\n"
     ]
    },
    {
     "data": {
      "text/html": [
       "<div>\n",
       "<table border=\"1\" class=\"dataframe\">\n",
       "  <thead>\n",
       "    <tr style=\"text-align: right;\">\n",
       "      <th></th>\n",
       "      <th>title</th>\n",
       "      <th>category</th>\n",
       "    </tr>\n",
       "  </thead>\n",
       "  <tbody>\n",
       "    <tr>\n",
       "      <th>2239</th>\n",
       "      <td>한진해운 회생절차 개시…산은·현대상선은 청산 대비 TF</td>\n",
       "      <td>경제 &gt; 경제일반</td>\n",
       "    </tr>\n",
       "    <tr>\n",
       "      <th>9</th>\n",
       "      <td>한진 美·유럽 노선에 현대상선 선박 13척 투입</td>\n",
       "      <td>경제</td>\n",
       "    </tr>\n",
       "    <tr>\n",
       "      <th>2268</th>\n",
       "      <td>정부, 현대상선이 한진해운 우량 자산 인수토록 한다</td>\n",
       "      <td>경제 &gt; 경제일반</td>\n",
       "    </tr>\n",
       "    <tr>\n",
       "      <th>2227</th>\n",
       "      <td>현대상선 새 CEO 후보자에 유창근 인천항만공사 사장</td>\n",
       "      <td>경제 &gt; 경제일반</td>\n",
       "    </tr>\n",
       "    <tr>\n",
       "      <th>2232</th>\n",
       "      <td>현대상선 새 CEO 후보자에 유창근 인천항만공사 사장</td>\n",
       "      <td>경제 &gt; 경제일반</td>\n",
       "    </tr>\n",
       "    <tr>\n",
       "      <th>1167</th>\n",
       "      <td>유창근 2년만에 컴백 현대상선 사장에 내정</td>\n",
       "      <td>뉴스 &gt; 경제 &gt; 기업</td>\n",
       "    </tr>\n",
       "    <tr>\n",
       "      <th>1176</th>\n",
       "      <td>2위 현대상선, 1위 한진해운 흡수하나</td>\n",
       "      <td>뉴스 &gt; 경제 &gt; 기업</td>\n",
       "    </tr>\n",
       "    <tr>\n",
       "      <th>24</th>\n",
       "      <td>\"파산위기 한진해운, 현대상선과 합병해야 생존\"</td>\n",
       "      <td>경제</td>\n",
       "    </tr>\n",
       "  </tbody>\n",
       "</table>\n",
       "</div>"
      ],
      "text/plain": [
       "                               title      category\n",
       "2239  한진해운 회생절차 개시…산은·현대상선은 청산 대비 TF     경제 > 경제일반\n",
       "9         한진 美·유럽 노선에 현대상선 선박 13척 투입            경제\n",
       "2268    정부, 현대상선이 한진해운 우량 자산 인수토록 한다     경제 > 경제일반\n",
       "2227   현대상선 새 CEO 후보자에 유창근 인천항만공사 사장     경제 > 경제일반\n",
       "2232   현대상선 새 CEO 후보자에 유창근 인천항만공사 사장     경제 > 경제일반\n",
       "1167         유창근 2년만에 컴백 현대상선 사장에 내정  뉴스 > 경제 > 기업\n",
       "1176           2위 현대상선, 1위 한진해운 흡수하나  뉴스 > 경제 > 기업\n",
       "24        \"파산위기 한진해운, 현대상선과 합병해야 생존\"            경제"
      ]
     },
     "metadata": {},
     "output_type": "display_data"
    },
    {
     "name": "stdout",
     "output_type": "stream",
     "text": [
      "\n",
      "\n",
      "\n",
      "Cluster 2: Size 5\n"
     ]
    },
    {
     "data": {
      "text/html": [
       "<div>\n",
       "<table border=\"1\" class=\"dataframe\">\n",
       "  <thead>\n",
       "    <tr style=\"text-align: right;\">\n",
       "      <th></th>\n",
       "      <th>title</th>\n",
       "      <th>category</th>\n",
       "    </tr>\n",
       "  </thead>\n",
       "  <tbody>\n",
       "    <tr>\n",
       "      <th>2187</th>\n",
       "      <td>미 고용지표 부진…9월 금리인상 무산?</td>\n",
       "      <td>경제 &gt; 금융·재테크</td>\n",
       "    </tr>\n",
       "    <tr>\n",
       "      <th>1452</th>\n",
       "      <td>美 금리인상 우려에… 韓日 통화스와프 논의 재개</td>\n",
       "      <td>뉴스 &gt; 경제 &gt; 경제일반</td>\n",
       "    </tr>\n",
       "    <tr>\n",
       "      <th>2292</th>\n",
       "      <td>이주열 총재 “미 연준 금리 인상 가능성 높아져”</td>\n",
       "      <td>경제 &gt; 경제일반</td>\n",
       "    </tr>\n",
       "    <tr>\n",
       "      <th>2189</th>\n",
       "      <td>미 고용지표 부진…“9월 금리인상 물 건너 가나?”</td>\n",
       "      <td>경제 &gt; 금융·재테크</td>\n",
       "    </tr>\n",
       "    <tr>\n",
       "      <th>1500</th>\n",
       "      <td>美 금리인상 신호에 달러 강세… 환율 11.3원 급등</td>\n",
       "      <td>뉴스 &gt; 경제 &gt; 금융</td>\n",
       "    </tr>\n",
       "  </tbody>\n",
       "</table>\n",
       "</div>"
      ],
      "text/plain": [
       "                              title        category\n",
       "2187          미 고용지표 부진…9월 금리인상 무산?     경제 > 금융·재테크\n",
       "1452     美 금리인상 우려에… 韓日 통화스와프 논의 재개  뉴스 > 경제 > 경제일반\n",
       "2292    이주열 총재 “미 연준 금리 인상 가능성 높아져”       경제 > 경제일반\n",
       "2189   미 고용지표 부진…“9월 금리인상 물 건너 가나?”     경제 > 금융·재테크\n",
       "1500  美 금리인상 신호에 달러 강세… 환율 11.3원 급등    뉴스 > 경제 > 금융"
      ]
     },
     "metadata": {},
     "output_type": "display_data"
    },
    {
     "name": "stdout",
     "output_type": "stream",
     "text": [
      "\n",
      "\n",
      "\n"
     ]
    }
   ],
   "source": [
    "cluster_data = []\n",
    "\n",
    "for cluster_index in range(cluster_num):\n",
    "    if cluster_index in best_cluster:\n",
    "        cluster_data.append(economy[economy['cluster'] == cluster_index])\n",
    "    \n",
    "for i, d in enumerate(cluster_data):\n",
    "    print('Cluster %d:' % (i), 'Size %d' % (len(d)))\n",
    "\n",
    "    display(d[['title', 'category']].sample(min(10, len(d))))\n",
    "    print('\\n\\n')"
   ]
  },
  {
   "cell_type": "code",
   "execution_count": 33,
   "metadata": {
    "collapsed": false
   },
   "outputs": [
    {
     "name": "stdout",
     "output_type": "stream",
     "text": [
      "Cluster 0: Size 2\n"
     ]
    },
    {
     "data": {
      "text/html": [
       "<div>\n",
       "<table border=\"1\" class=\"dataframe\">\n",
       "  <thead>\n",
       "    <tr style=\"text-align: right;\">\n",
       "      <th></th>\n",
       "      <th>title</th>\n",
       "      <th>category</th>\n",
       "    </tr>\n",
       "  </thead>\n",
       "  <tbody>\n",
       "    <tr>\n",
       "      <th>2807</th>\n",
       "      <td>“파이로는 핵쓰레기 청소부가 아니라 돈 먹는 하마”</td>\n",
       "      <td>과학 &gt; 과학일반</td>\n",
       "    </tr>\n",
       "    <tr>\n",
       "      <th>2075</th>\n",
       "      <td>홍대 ‘클럽데이’의 끝은 쓰레기 천지</td>\n",
       "      <td>뉴스 &gt; 사회 &gt; 환경</td>\n",
       "    </tr>\n",
       "  </tbody>\n",
       "</table>\n",
       "</div>"
      ],
      "text/plain": [
       "                             title      category\n",
       "2807  “파이로는 핵쓰레기 청소부가 아니라 돈 먹는 하마”     과학 > 과학일반\n",
       "2075          홍대 ‘클럽데이’의 끝은 쓰레기 천지  뉴스 > 사회 > 환경"
      ]
     },
     "metadata": {},
     "output_type": "display_data"
    },
    {
     "name": "stdout",
     "output_type": "stream",
     "text": [
      "\n",
      "\n",
      "\n",
      "Cluster 1: Size 2\n"
     ]
    },
    {
     "data": {
      "text/html": [
       "<div>\n",
       "<table border=\"1\" class=\"dataframe\">\n",
       "  <thead>\n",
       "    <tr style=\"text-align: right;\">\n",
       "      <th></th>\n",
       "      <th>title</th>\n",
       "      <th>category</th>\n",
       "    </tr>\n",
       "  </thead>\n",
       "  <tbody>\n",
       "    <tr>\n",
       "      <th>2087</th>\n",
       "      <td>‘테니스 엘보’ 환자 10명 중 6명이 40, 50대</td>\n",
       "      <td>뉴스 &gt; IT/의학 &gt; 건강</td>\n",
       "    </tr>\n",
       "    <tr>\n",
       "      <th>2093</th>\n",
       "      <td>국내 11번째 지카 바이러스 환자 발생</td>\n",
       "      <td>뉴스 &gt; IT/의학 &gt; 건강</td>\n",
       "    </tr>\n",
       "  </tbody>\n",
       "</table>\n",
       "</div>"
      ],
      "text/plain": [
       "                              title         category\n",
       "2087  ‘테니스 엘보’ 환자 10명 중 6명이 40, 50대  뉴스 > IT/의학 > 건강\n",
       "2093          국내 11번째 지카 바이러스 환자 발생  뉴스 > IT/의학 > 건강"
      ]
     },
     "metadata": {},
     "output_type": "display_data"
    },
    {
     "name": "stdout",
     "output_type": "stream",
     "text": [
      "\n",
      "\n",
      "\n",
      "Cluster 2: Size 1\n"
     ]
    },
    {
     "data": {
      "text/html": [
       "<div>\n",
       "<table border=\"1\" class=\"dataframe\">\n",
       "  <thead>\n",
       "    <tr style=\"text-align: right;\">\n",
       "      <th></th>\n",
       "      <th>title</th>\n",
       "      <th>category</th>\n",
       "    </tr>\n",
       "  </thead>\n",
       "  <tbody>\n",
       "    <tr>\n",
       "      <th>2802</th>\n",
       "      <td>인류 고유의 최고 발명품은 단위</td>\n",
       "      <td>과학 &gt; 과학일반</td>\n",
       "    </tr>\n",
       "  </tbody>\n",
       "</table>\n",
       "</div>"
      ],
      "text/plain": [
       "                  title   category\n",
       "2802  인류 고유의 최고 발명품은 단위  과학 > 과학일반"
      ]
     },
     "metadata": {},
     "output_type": "display_data"
    },
    {
     "name": "stdout",
     "output_type": "stream",
     "text": [
      "\n",
      "\n",
      "\n",
      "Cluster 3: Size 1\n"
     ]
    },
    {
     "data": {
      "text/html": [
       "<div>\n",
       "<table border=\"1\" class=\"dataframe\">\n",
       "  <thead>\n",
       "    <tr style=\"text-align: right;\">\n",
       "      <th></th>\n",
       "      <th>title</th>\n",
       "      <th>category</th>\n",
       "    </tr>\n",
       "  </thead>\n",
       "  <tbody>\n",
       "    <tr>\n",
       "      <th>2091</th>\n",
       "      <td>한림대 강남성심병원 두통 건강강좌</td>\n",
       "      <td>뉴스 &gt; IT/의학 &gt; 건강</td>\n",
       "    </tr>\n",
       "  </tbody>\n",
       "</table>\n",
       "</div>"
      ],
      "text/plain": [
       "                   title         category\n",
       "2091  한림대 강남성심병원 두통 건강강좌  뉴스 > IT/의학 > 건강"
      ]
     },
     "metadata": {},
     "output_type": "display_data"
    },
    {
     "name": "stdout",
     "output_type": "stream",
     "text": [
      "\n",
      "\n",
      "\n",
      "Cluster 4: Size 1\n"
     ]
    },
    {
     "data": {
      "text/html": [
       "<div>\n",
       "<table border=\"1\" class=\"dataframe\">\n",
       "  <thead>\n",
       "    <tr style=\"text-align: right;\">\n",
       "      <th></th>\n",
       "      <th>title</th>\n",
       "      <th>category</th>\n",
       "    </tr>\n",
       "  </thead>\n",
       "  <tbody>\n",
       "    <tr>\n",
       "      <th>1740</th>\n",
       "      <td>첨단보안기술, 홍채-정맥이어 얼굴-몸짓 인식까지</td>\n",
       "      <td>뉴스 &gt; IT/의학 &gt; 정보/과학일반</td>\n",
       "    </tr>\n",
       "  </tbody>\n",
       "</table>\n",
       "</div>"
      ],
      "text/plain": [
       "                           title              category\n",
       "1740  첨단보안기술, 홍채-정맥이어 얼굴-몸짓 인식까지  뉴스 > IT/의학 > 정보/과학일반"
      ]
     },
     "metadata": {},
     "output_type": "display_data"
    },
    {
     "name": "stdout",
     "output_type": "stream",
     "text": [
      "\n",
      "\n",
      "\n"
     ]
    }
   ],
   "source": [
    "cluster_data = []\n",
    "\n",
    "for cluster_index in range(cluster_num):\n",
    "    if cluster_index in best_cluster:\n",
    "        cluster_data.append(science[science['cluster'] == cluster_index])\n",
    "    \n",
    "for i, d in enumerate(cluster_data):\n",
    "    print('Cluster %d:' % (i), 'Size %d' % (len(d)))\n",
    "\n",
    "    display(d[['title', 'category']].sample(min(10, len(d))))\n",
    "    print('\\n\\n')"
   ]
  },
  {
   "cell_type": "code",
   "execution_count": 41,
   "metadata": {
    "collapsed": false
   },
   "outputs": [
    {
     "name": "stdout",
     "output_type": "stream",
     "text": [
      "Cluster 0: Size 622\n"
     ]
    },
    {
     "data": {
      "text/html": [
       "<div>\n",
       "<table border=\"1\" class=\"dataframe\">\n",
       "  <thead>\n",
       "    <tr style=\"text-align: right;\">\n",
       "      <th></th>\n",
       "      <th>title</th>\n",
       "      <th>category</th>\n",
       "    </tr>\n",
       "  </thead>\n",
       "  <tbody>\n",
       "    <tr>\n",
       "      <th>2616</th>\n",
       "      <td>화성시, 우 수석 처가 ‘차명 땅’ 자료 제출...검찰 미술품 추적</td>\n",
       "      <td>사회 &gt; 사회일반</td>\n",
       "    </tr>\n",
       "    <tr>\n",
       "      <th>1123</th>\n",
       "      <td>안산 시화쓰레기매립지, 수도권 최대 정원 탈바꿈</td>\n",
       "      <td>뉴스 &gt; 사회 &gt; 사회일반</td>\n",
       "    </tr>\n",
       "    <tr>\n",
       "      <th>1135</th>\n",
       "      <td>[@뉴스룸/김재영]‘요요’는 다시 온다</td>\n",
       "      <td>뉴스 &gt; 사회 &gt; 사회일반</td>\n",
       "    </tr>\n",
       "    <tr>\n",
       "      <th>2858</th>\n",
       "      <td>[경기도청소년기자단] 경기도는 지금</td>\n",
       "      <td>사회 &gt; 교육</td>\n",
       "    </tr>\n",
       "    <tr>\n",
       "      <th>1092</th>\n",
       "      <td>석촌호수에 내려앉은 ‘슈퍼문’</td>\n",
       "      <td>뉴스 &gt; 사회 &gt; 사회일반</td>\n",
       "    </tr>\n",
       "    <tr>\n",
       "      <th>2013</th>\n",
       "      <td>[신나는 공부]“경쟁자에게도 박수 보내요”</td>\n",
       "      <td>뉴스 &gt; 사회 &gt; 교육</td>\n",
       "    </tr>\n",
       "    <tr>\n",
       "      <th>2480</th>\n",
       "      <td>한라산 구상나무숲 복원 본격 추진한다</td>\n",
       "      <td>사회 &gt; 전국</td>\n",
       "    </tr>\n",
       "    <tr>\n",
       "      <th>2592</th>\n",
       "      <td>“‘에어포켓’ 공기주입 효과 없었다…구조 시간만 낭비”</td>\n",
       "      <td>사회 &gt; 사회일반</td>\n",
       "    </tr>\n",
       "    <tr>\n",
       "      <th>2905</th>\n",
       "      <td>[숙명여자대학교] 프라임사업 선정으로 공과대학 개편</td>\n",
       "      <td>사회 &gt; 교육</td>\n",
       "    </tr>\n",
       "    <tr>\n",
       "      <th>2991</th>\n",
       "      <td>세월호·백남기·사드 ‘언론 피해자’ 증언대 서다</td>\n",
       "      <td>사회 &gt; 미디어</td>\n",
       "    </tr>\n",
       "  </tbody>\n",
       "</table>\n",
       "</div>"
      ],
      "text/plain": [
       "                                      title        category\n",
       "2616  화성시, 우 수석 처가 ‘차명 땅’ 자료 제출...검찰 미술품 추적       사회 > 사회일반\n",
       "1123             안산 시화쓰레기매립지, 수도권 최대 정원 탈바꿈  뉴스 > 사회 > 사회일반\n",
       "1135                  [@뉴스룸/김재영]‘요요’는 다시 온다  뉴스 > 사회 > 사회일반\n",
       "2858                    [경기도청소년기자단] 경기도는 지금         사회 > 교육\n",
       "1092                       석촌호수에 내려앉은 ‘슈퍼문’  뉴스 > 사회 > 사회일반\n",
       "2013                [신나는 공부]“경쟁자에게도 박수 보내요”    뉴스 > 사회 > 교육\n",
       "2480                   한라산 구상나무숲 복원 본격 추진한다         사회 > 전국\n",
       "2592         “‘에어포켓’ 공기주입 효과 없었다…구조 시간만 낭비”       사회 > 사회일반\n",
       "2905           [숙명여자대학교] 프라임사업 선정으로 공과대학 개편         사회 > 교육\n",
       "2991             세월호·백남기·사드 ‘언론 피해자’ 증언대 서다        사회 > 미디어"
      ]
     },
     "metadata": {},
     "output_type": "display_data"
    },
    {
     "name": "stdout",
     "output_type": "stream",
     "text": [
      "\n",
      "\n",
      "\n",
      "Cluster 1: Size 9\n"
     ]
    },
    {
     "data": {
      "text/html": [
       "<div>\n",
       "<table border=\"1\" class=\"dataframe\">\n",
       "  <thead>\n",
       "    <tr style=\"text-align: right;\">\n",
       "      <th></th>\n",
       "      <th>title</th>\n",
       "      <th>category</th>\n",
       "    </tr>\n",
       "  </thead>\n",
       "  <tbody>\n",
       "    <tr>\n",
       "      <th>2575</th>\n",
       "      <td>정운호한테 뇌물받은 부장판사 구속...대법원 “참담하다”</td>\n",
       "      <td>사회 &gt; 사회일반</td>\n",
       "    </tr>\n",
       "    <tr>\n",
       "      <th>1081</th>\n",
       "      <td>충격의 사법부… 정운호에 억대수수 혐의 현직 부장판사 영장</td>\n",
       "      <td>뉴스 &gt; 사회 &gt; 사회일반</td>\n",
       "    </tr>\n",
       "    <tr>\n",
       "      <th>2604</th>\n",
       "      <td>‘레인지로버 판사’ 구속영장 청구</td>\n",
       "      <td>사회 &gt; 사회일반</td>\n",
       "    </tr>\n",
       "    <tr>\n",
       "      <th>2621</th>\n",
       "      <td>‘정운호 금품 수수 의혹’ 현직 부장판사 긴급체포</td>\n",
       "      <td>사회 &gt; 사회일반</td>\n",
       "    </tr>\n",
       "    <tr>\n",
       "      <th>1162</th>\n",
       "      <td>檢, ‘공짜 외제차’ 부장판사 구속영장 방침</td>\n",
       "      <td>뉴스 &gt; 사회 &gt; 사건·범죄</td>\n",
       "    </tr>\n",
       "    <tr>\n",
       "      <th>2644</th>\n",
       "      <td>‘정운호 금품수수’ 의혹 현직 부장판사 소환 조사</td>\n",
       "      <td>사회 &gt; 사회일반</td>\n",
       "    </tr>\n",
       "    <tr>\n",
       "      <th>1635</th>\n",
       "      <td>[사설]‘정운호 뇌물’ 부장판사 구속…대한민국 法治가 무너진다</td>\n",
       "      <td>뉴스 &gt; 사회 &gt; 검찰-법원판결</td>\n",
       "    </tr>\n",
       "    <tr>\n",
       "      <th>1161</th>\n",
       "      <td>‘정운호 금품’ 받은 부장판사 구속</td>\n",
       "      <td>뉴스 &gt; 사회 &gt; 사건·범죄</td>\n",
       "    </tr>\n",
       "    <tr>\n",
       "      <th>1112</th>\n",
       "      <td>‘공짜 외제차’ 부장판사 9월 첫째 주내 소환</td>\n",
       "      <td>뉴스 &gt; 사회 &gt; 사회일반</td>\n",
       "    </tr>\n",
       "  </tbody>\n",
       "</table>\n",
       "</div>"
      ],
      "text/plain": [
       "                                   title           category\n",
       "2575     정운호한테 뇌물받은 부장판사 구속...대법원 “참담하다”          사회 > 사회일반\n",
       "1081    충격의 사법부… 정운호에 억대수수 혐의 현직 부장판사 영장     뉴스 > 사회 > 사회일반\n",
       "2604                  ‘레인지로버 판사’ 구속영장 청구          사회 > 사회일반\n",
       "2621         ‘정운호 금품 수수 의혹’ 현직 부장판사 긴급체포          사회 > 사회일반\n",
       "1162            檢, ‘공짜 외제차’ 부장판사 구속영장 방침    뉴스 > 사회 > 사건·범죄\n",
       "2644         ‘정운호 금품수수’ 의혹 현직 부장판사 소환 조사          사회 > 사회일반\n",
       "1635  [사설]‘정운호 뇌물’ 부장판사 구속…대한민국 法治가 무너진다  뉴스 > 사회 > 검찰-법원판결\n",
       "1161                 ‘정운호 금품’ 받은 부장판사 구속    뉴스 > 사회 > 사건·범죄\n",
       "1112           ‘공짜 외제차’ 부장판사 9월 첫째 주내 소환     뉴스 > 사회 > 사회일반"
      ]
     },
     "metadata": {},
     "output_type": "display_data"
    },
    {
     "name": "stdout",
     "output_type": "stream",
     "text": [
      "\n",
      "\n",
      "\n",
      "Cluster 2: Size 7\n"
     ]
    },
    {
     "data": {
      "text/html": [
       "<div>\n",
       "<table border=\"1\" class=\"dataframe\">\n",
       "  <thead>\n",
       "    <tr style=\"text-align: right;\">\n",
       "      <th></th>\n",
       "      <th>title</th>\n",
       "      <th>category</th>\n",
       "    </tr>\n",
       "  </thead>\n",
       "  <tbody>\n",
       "    <tr>\n",
       "      <th>473</th>\n",
       "      <td>본사, 송희영 주필 보직 해임</td>\n",
       "      <td>사회</td>\n",
       "    </tr>\n",
       "    <tr>\n",
       "      <th>2690</th>\n",
       "      <td>‘초호화 외유’ 의혹 송희영 조선일보 주필 사의표명</td>\n",
       "      <td>사회 &gt; 사회일반</td>\n",
       "    </tr>\n",
       "    <tr>\n",
       "      <th>2992</th>\n",
       "      <td>송희영 주필 사의 표명…조선일보 보직해임 결정</td>\n",
       "      <td>사회 &gt; 미디어</td>\n",
       "    </tr>\n",
       "    <tr>\n",
       "      <th>2986</th>\n",
       "      <td>조선일보, 송희영 전 주필 관련 의혹에 지면 통해 “사과”</td>\n",
       "      <td>사회 &gt; 미디어</td>\n",
       "    </tr>\n",
       "    <tr>\n",
       "      <th>2632</th>\n",
       "      <td>검찰, 송희영 전 조선일보 주필 수사 본격화</td>\n",
       "      <td>사회 &gt; 사회일반</td>\n",
       "    </tr>\n",
       "    <tr>\n",
       "      <th>1107</th>\n",
       "      <td>조선일보, 호화외유 의혹 송희영 前주필 사표 수리</td>\n",
       "      <td>뉴스 &gt; 사회 &gt; 사회일반</td>\n",
       "    </tr>\n",
       "    <tr>\n",
       "      <th>2658</th>\n",
       "      <td>조선일보, 송희영 전 주필 사표 수리</td>\n",
       "      <td>사회 &gt; 사회일반</td>\n",
       "    </tr>\n",
       "  </tbody>\n",
       "</table>\n",
       "</div>"
      ],
      "text/plain": [
       "                                 title        category\n",
       "473                   본사, 송희영 주필 보직 해임              사회\n",
       "2690      ‘초호화 외유’ 의혹 송희영 조선일보 주필 사의표명       사회 > 사회일반\n",
       "2992         송희영 주필 사의 표명…조선일보 보직해임 결정        사회 > 미디어\n",
       "2986  조선일보, 송희영 전 주필 관련 의혹에 지면 통해 “사과”        사회 > 미디어\n",
       "2632          검찰, 송희영 전 조선일보 주필 수사 본격화       사회 > 사회일반\n",
       "1107       조선일보, 호화외유 의혹 송희영 前주필 사표 수리  뉴스 > 사회 > 사회일반\n",
       "2658              조선일보, 송희영 전 주필 사표 수리       사회 > 사회일반"
      ]
     },
     "metadata": {},
     "output_type": "display_data"
    },
    {
     "name": "stdout",
     "output_type": "stream",
     "text": [
      "\n",
      "\n",
      "\n",
      "Cluster 3: Size 4\n"
     ]
    },
    {
     "data": {
      "text/html": [
       "<div>\n",
       "<table border=\"1\" class=\"dataframe\">\n",
       "  <thead>\n",
       "    <tr style=\"text-align: right;\">\n",
       "      <th></th>\n",
       "      <th>title</th>\n",
       "      <th>category</th>\n",
       "    </tr>\n",
       "  </thead>\n",
       "  <tbody>\n",
       "    <tr>\n",
       "      <th>2494</th>\n",
       "      <td>이청연 인천 교육감 영장 기각</td>\n",
       "      <td>사회 &gt; 전국</td>\n",
       "    </tr>\n",
       "    <tr>\n",
       "      <th>2520</th>\n",
       "      <td>이청연 인천교육감 오늘 영장실질심사</td>\n",
       "      <td>사회 &gt; 전국</td>\n",
       "    </tr>\n",
       "    <tr>\n",
       "      <th>2404</th>\n",
       "      <td>이청연 인천교육감 영장 기각되자 정치자금법 수사</td>\n",
       "      <td>사회 &gt; 전국</td>\n",
       "    </tr>\n",
       "    <tr>\n",
       "      <th>2466</th>\n",
       "      <td>이청연 인천교육감 “시민들에게 죄송” 사과</td>\n",
       "      <td>사회 &gt; 전국</td>\n",
       "    </tr>\n",
       "  </tbody>\n",
       "</table>\n",
       "</div>"
      ],
      "text/plain": [
       "                           title category\n",
       "2494            이청연 인천 교육감 영장 기각  사회 > 전국\n",
       "2520         이청연 인천교육감 오늘 영장실질심사  사회 > 전국\n",
       "2404  이청연 인천교육감 영장 기각되자 정치자금법 수사  사회 > 전국\n",
       "2466     이청연 인천교육감 “시민들에게 죄송” 사과  사회 > 전국"
      ]
     },
     "metadata": {},
     "output_type": "display_data"
    },
    {
     "name": "stdout",
     "output_type": "stream",
     "text": [
      "\n",
      "\n",
      "\n",
      "Cluster 4: Size 3\n"
     ]
    },
    {
     "data": {
      "text/html": [
       "<div>\n",
       "<table border=\"1\" class=\"dataframe\">\n",
       "  <thead>\n",
       "    <tr style=\"text-align: right;\">\n",
       "      <th></th>\n",
       "      <th>title</th>\n",
       "      <th>category</th>\n",
       "    </tr>\n",
       "  </thead>\n",
       "  <tbody>\n",
       "    <tr>\n",
       "      <th>2686</th>\n",
       "      <td>대법, 상주 ‘농약사이다’ 할머니 무기징역 확정</td>\n",
       "      <td>사회 &gt; 사회일반</td>\n",
       "    </tr>\n",
       "    <tr>\n",
       "      <th>2684</th>\n",
       "      <td>‘상주 농약 사이다’ 주범 할머니 무기징역 확정</td>\n",
       "      <td>사회 &gt; 사회일반</td>\n",
       "    </tr>\n",
       "    <tr>\n",
       "      <th>1638</th>\n",
       "      <td>대법 ‘상주 농약사이다’ 할머니 무기징역 확정</td>\n",
       "      <td>뉴스 &gt; 사회 &gt; 검찰-법원판결</td>\n",
       "    </tr>\n",
       "  </tbody>\n",
       "</table>\n",
       "</div>"
      ],
      "text/plain": [
       "                           title           category\n",
       "2686  대법, 상주 ‘농약사이다’ 할머니 무기징역 확정          사회 > 사회일반\n",
       "2684  ‘상주 농약 사이다’ 주범 할머니 무기징역 확정          사회 > 사회일반\n",
       "1638   대법 ‘상주 농약사이다’ 할머니 무기징역 확정  뉴스 > 사회 > 검찰-법원판결"
      ]
     },
     "metadata": {},
     "output_type": "display_data"
    },
    {
     "name": "stdout",
     "output_type": "stream",
     "text": [
      "\n",
      "\n",
      "\n"
     ]
    }
   ],
   "source": [
    "cluster_data = []\n",
    "\n",
    "for cluster_index in range(cluster_num):\n",
    "    if cluster_index in best_cluster:\n",
    "        cluster_data.append(social[social['cluster'] == cluster_index])\n",
    "    \n",
    "for i, d in enumerate(cluster_data):\n",
    "    print('Cluster %d:' % (i), 'Size %d' % (len(d)))\n",
    "\n",
    "    display(d[['title', 'category']].sample(min(10, len(d))))\n",
    "    print('\\n\\n')"
   ]
  },
  {
   "cell_type": "code",
   "execution_count": 50,
   "metadata": {
    "collapsed": false
   },
   "outputs": [
    {
     "name": "stdout",
     "output_type": "stream",
     "text": [
      "Cluster 0: Size 19\n"
     ]
    },
    {
     "data": {
      "text/html": [
       "<div>\n",
       "<table border=\"1\" class=\"dataframe\">\n",
       "  <thead>\n",
       "    <tr style=\"text-align: right;\">\n",
       "      <th></th>\n",
       "      <th>title</th>\n",
       "      <th>category</th>\n",
       "    </tr>\n",
       "  </thead>\n",
       "  <tbody>\n",
       "    <tr>\n",
       "      <th>2169</th>\n",
       "      <td>여야 추경안 극적 타결…오늘 본회의 열어 처리키로</td>\n",
       "      <td>정치 &gt; 정치일반</td>\n",
       "    </tr>\n",
       "    <tr>\n",
       "      <th>981</th>\n",
       "      <td>20代국회 법안발의 1795건, 통과는 0건</td>\n",
       "      <td>뉴스 &gt; 정치 &gt; 국회</td>\n",
       "    </tr>\n",
       "    <tr>\n",
       "      <th>2132</th>\n",
       "      <td>국회의장 개회사에 ‘집단퇴장’…26년만에 처음</td>\n",
       "      <td>정치 &gt; 국회·정당</td>\n",
       "    </tr>\n",
       "    <tr>\n",
       "      <th>1024</th>\n",
       "      <td>[사설]20대 첫 정기국회 파행, 이젠 丁의장까지 민생에 재 뿌리나</td>\n",
       "      <td>뉴스 &gt; 정치 &gt; 정치일반</td>\n",
       "    </tr>\n",
       "    <tr>\n",
       "      <th>556</th>\n",
       "      <td>정세균 '우병우·사드' 발언… 與, 정기국회 첫날부터 보이콧</td>\n",
       "      <td>정치</td>\n",
       "    </tr>\n",
       "    <tr>\n",
       "      <th>559</th>\n",
       "      <td>與野, 오늘 본회의서 추경 처리키로</td>\n",
       "      <td>정치</td>\n",
       "    </tr>\n",
       "    <tr>\n",
       "      <th>2124</th>\n",
       "      <td>‘새누리당의 강경투쟁’ 속에서도 막후접촉…추경안 처리 도출</td>\n",
       "      <td>정치 &gt; 국회·정당</td>\n",
       "    </tr>\n",
       "    <tr>\n",
       "      <th>2119</th>\n",
       "      <td>정기국회 ‘전운’ 고조… 노동·검찰개혁 등 곳곳 ‘지뢰’</td>\n",
       "      <td>정치 &gt; 국회·정당</td>\n",
       "    </tr>\n",
       "    <tr>\n",
       "      <th>2178</th>\n",
       "      <td>정진석 “야당 추경 처리 않으면 구조조정·백남기 청문회 안돼”</td>\n",
       "      <td>정치 &gt; 정치일반</td>\n",
       "    </tr>\n",
       "    <tr>\n",
       "      <th>2129</th>\n",
       "      <td>국회의장이 ‘우병우’ 비판했다고…추경까지 미룬 새누리</td>\n",
       "      <td>정치 &gt; 국회·정당</td>\n",
       "    </tr>\n",
       "  </tbody>\n",
       "</table>\n",
       "</div>"
      ],
      "text/plain": [
       "                                      title        category\n",
       "2169            여야 추경안 극적 타결…오늘 본회의 열어 처리키로       정치 > 정치일반\n",
       "981                20代국회 법안발의 1795건, 통과는 0건    뉴스 > 정치 > 국회\n",
       "2132              국회의장 개회사에 ‘집단퇴장’…26년만에 처음      정치 > 국회·정당\n",
       "1024  [사설]20대 첫 정기국회 파행, 이젠 丁의장까지 민생에 재 뿌리나  뉴스 > 정치 > 정치일반\n",
       "556       정세균 '우병우·사드' 발언… 與, 정기국회 첫날부터 보이콧              정치\n",
       "559                     與野, 오늘 본회의서 추경 처리키로              정치\n",
       "2124       ‘새누리당의 강경투쟁’ 속에서도 막후접촉…추경안 처리 도출      정치 > 국회·정당\n",
       "2119        정기국회 ‘전운’ 고조… 노동·검찰개혁 등 곳곳 ‘지뢰’      정치 > 국회·정당\n",
       "2178     정진석 “야당 추경 처리 않으면 구조조정·백남기 청문회 안돼”       정치 > 정치일반\n",
       "2129          국회의장이 ‘우병우’ 비판했다고…추경까지 미룬 새누리      정치 > 국회·정당"
      ]
     },
     "metadata": {},
     "output_type": "display_data"
    },
    {
     "name": "stdout",
     "output_type": "stream",
     "text": [
      "\n",
      "\n",
      "\n",
      "Cluster 1: Size 455\n"
     ]
    },
    {
     "data": {
      "text/html": [
       "<div>\n",
       "<table border=\"1\" class=\"dataframe\">\n",
       "  <thead>\n",
       "    <tr style=\"text-align: right;\">\n",
       "      <th></th>\n",
       "      <th>title</th>\n",
       "      <th>category</th>\n",
       "    </tr>\n",
       "  </thead>\n",
       "  <tbody>\n",
       "    <tr>\n",
       "      <th>2924</th>\n",
       "      <td>박 대통령 “북핵 위협 제거되면 사드 필요성도 없어질 것”</td>\n",
       "      <td>정치 &gt; 국방·북한</td>\n",
       "    </tr>\n",
       "    <tr>\n",
       "      <th>496</th>\n",
       "      <td>일 정부, 10억엔 송금…위안부 할머니들 우비 입고 반대 목청</td>\n",
       "      <td>정치 &gt; 외교</td>\n",
       "    </tr>\n",
       "    <tr>\n",
       "      <th>2930</th>\n",
       "      <td>새누리 “핵잠수함 도입”…한반도 비핵화 원칙 흔들어</td>\n",
       "      <td>정치 &gt; 국방·북한</td>\n",
       "    </tr>\n",
       "    <tr>\n",
       "      <th>2143</th>\n",
       "      <td>남경필 “모병제로 청년일자리 창출”</td>\n",
       "      <td>정치 &gt; 국회·정당</td>\n",
       "    </tr>\n",
       "    <tr>\n",
       "      <th>2927</th>\n",
       "      <td>‘9월의 독립운동가’에 청산리대첩 공훈 나중소 선생</td>\n",
       "      <td>정치 &gt; 국방·북한</td>\n",
       "    </tr>\n",
       "    <tr>\n",
       "      <th>2117</th>\n",
       "      <td>추미애, 박정희·이승만 묘역 참배한 뒤 박 대통령에게…</td>\n",
       "      <td>정치 &gt; 정치BAR</td>\n",
       "    </tr>\n",
       "    <tr>\n",
       "      <th>1040</th>\n",
       "      <td>檢 ‘우병우 아들 경찰상관’ 통화기록 조회… 보직청탁 의혹 추적</td>\n",
       "      <td>뉴스 &gt; 정치 &gt; 정치일반</td>\n",
       "    </tr>\n",
       "    <tr>\n",
       "      <th>1019</th>\n",
       "      <td>경북-전남 ‘中企 살리기-일자리 만들기’ 손잡아</td>\n",
       "      <td>뉴스 &gt; 정치 &gt; 정치일반</td>\n",
       "    </tr>\n",
       "    <tr>\n",
       "      <th>561</th>\n",
       "      <td>\"닥치세요\" \"멍텅구리\"… 막말 오간 趙청문회</td>\n",
       "      <td>정치</td>\n",
       "    </tr>\n",
       "    <tr>\n",
       "      <th>2359</th>\n",
       "      <td>두테르테 ‘초법적 살인’에 맞선 강심장 의원</td>\n",
       "      <td>국제 &gt; 아시아·태평양</td>\n",
       "    </tr>\n",
       "  </tbody>\n",
       "</table>\n",
       "</div>"
      ],
      "text/plain": [
       "                                    title        category\n",
       "2924     박 대통령 “북핵 위협 제거되면 사드 필요성도 없어질 것”      정치 > 국방·북한\n",
       "496    일 정부, 10억엔 송금…위안부 할머니들 우비 입고 반대 목청         정치 > 외교\n",
       "2930         새누리 “핵잠수함 도입”…한반도 비핵화 원칙 흔들어      정치 > 국방·북한\n",
       "2143                  남경필 “모병제로 청년일자리 창출”      정치 > 국회·정당\n",
       "2927         ‘9월의 독립운동가’에 청산리대첩 공훈 나중소 선생      정치 > 국방·북한\n",
       "2117       추미애, 박정희·이승만 묘역 참배한 뒤 박 대통령에게…      정치 > 정치BAR\n",
       "1040  檢 ‘우병우 아들 경찰상관’ 통화기록 조회… 보직청탁 의혹 추적  뉴스 > 정치 > 정치일반\n",
       "1019           경북-전남 ‘中企 살리기-일자리 만들기’ 손잡아  뉴스 > 정치 > 정치일반\n",
       "561             \"닥치세요\" \"멍텅구리\"… 막말 오간 趙청문회              정치\n",
       "2359             두테르테 ‘초법적 살인’에 맞선 강심장 의원    국제 > 아시아·태평양"
      ]
     },
     "metadata": {},
     "output_type": "display_data"
    },
    {
     "name": "stdout",
     "output_type": "stream",
     "text": [
      "\n",
      "\n",
      "\n",
      "Cluster 2: Size 7\n"
     ]
    },
    {
     "data": {
      "text/html": [
       "<div>\n",
       "<table border=\"1\" class=\"dataframe\">\n",
       "  <thead>\n",
       "    <tr style=\"text-align: right;\">\n",
       "      <th></th>\n",
       "      <th>title</th>\n",
       "      <th>category</th>\n",
       "    </tr>\n",
       "  </thead>\n",
       "  <tbody>\n",
       "    <tr>\n",
       "      <th>492</th>\n",
       "      <td>한중·한미 정상회담 잇달아 열릴 듯</td>\n",
       "      <td>정치 &gt; 외교</td>\n",
       "    </tr>\n",
       "    <tr>\n",
       "      <th>490</th>\n",
       "      <td>朴대통령·시진핑 '사드 정상회담'</td>\n",
       "      <td>정치 &gt; 외교</td>\n",
       "    </tr>\n",
       "    <tr>\n",
       "      <th>1002</th>\n",
       "      <td>朴대통령, 러-中-美와 연쇄 정상회담</td>\n",
       "      <td>뉴스 &gt; 정치 &gt; 정치일반</td>\n",
       "    </tr>\n",
       "    <tr>\n",
       "      <th>507</th>\n",
       "      <td>박 대통령, 러시아·중국·미국 연쇄 정상회담</td>\n",
       "      <td>정치 &gt; 청와대</td>\n",
       "    </tr>\n",
       "    <tr>\n",
       "      <th>497</th>\n",
       "      <td>9월4~5일 항저우 G20 정상회의 때 한-중 정상회담 열릴 듯</td>\n",
       "      <td>정치 &gt; 외교</td>\n",
       "    </tr>\n",
       "    <tr>\n",
       "      <th>2350</th>\n",
       "      <td>미·중 3일 정상회담…사드 평행선 달릴 듯</td>\n",
       "      <td>국제 &gt; 미국·중남미</td>\n",
       "    </tr>\n",
       "    <tr>\n",
       "      <th>503</th>\n",
       "      <td>박 대통령, 5일 오전 시진핑 주석과 한-중 정상회담</td>\n",
       "      <td>정치 &gt; 청와대</td>\n",
       "    </tr>\n",
       "  </tbody>\n",
       "</table>\n",
       "</div>"
      ],
      "text/plain": [
       "                                    title        category\n",
       "492                   한중·한미 정상회담 잇달아 열릴 듯         정치 > 외교\n",
       "490                    朴대통령·시진핑 '사드 정상회담'         정치 > 외교\n",
       "1002                 朴대통령, 러-中-美와 연쇄 정상회담  뉴스 > 정치 > 정치일반\n",
       "507              박 대통령, 러시아·중국·미국 연쇄 정상회담        정치 > 청와대\n",
       "497   9월4~5일 항저우 G20 정상회의 때 한-중 정상회담 열릴 듯         정치 > 외교\n",
       "2350              미·중 3일 정상회담…사드 평행선 달릴 듯     국제 > 미국·중남미\n",
       "503         박 대통령, 5일 오전 시진핑 주석과 한-중 정상회담        정치 > 청와대"
      ]
     },
     "metadata": {},
     "output_type": "display_data"
    },
    {
     "name": "stdout",
     "output_type": "stream",
     "text": [
      "\n",
      "\n",
      "\n"
     ]
    }
   ],
   "source": [
    "cluster_data = []\n",
    "\n",
    "for cluster_index in range(cluster_num):\n",
    "    if cluster_index in best_cluster:\n",
    "        cluster_data.append(politics[politics['cluster'] == cluster_index])\n",
    "    \n",
    "for i, d in enumerate(cluster_data):\n",
    "    print('Cluster %d:' % (i), 'Size %d' % (len(d)))\n",
    "\n",
    "    display(d[['title', 'category']].sample(min(10, len(d))))\n",
    "    print('\\n\\n')"
   ]
  }
 ],
 "metadata": {
  "kernelspec": {
   "display_name": "Python 3",
   "language": "python",
   "name": "python3"
  },
  "language_info": {
   "codemirror_mode": {
    "name": "ipython",
    "version": 3
   },
   "file_extension": ".py",
   "mimetype": "text/x-python",
   "name": "python",
   "nbconvert_exporter": "python",
   "pygments_lexer": "ipython3",
   "version": "3.5.2"
  }
 },
 "nbformat": 4,
 "nbformat_minor": 1
}
