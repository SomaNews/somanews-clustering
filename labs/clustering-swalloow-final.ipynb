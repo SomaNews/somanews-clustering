{
 "cells": [
  {
   "cell_type": "markdown",
   "metadata": {},
   "source": [
    "# News Clustering using KMeans Algorithm"
   ]
  },
  {
   "cell_type": "code",
   "execution_count": 1,
   "metadata": {
    "collapsed": false
   },
   "outputs": [],
   "source": [
    "import numpy as np\n",
    "import pandas as pd\n",
    "from time import time\n",
    "import articles_data_py3 as articles_data\n",
    "from pymongo import MongoClient"
   ]
  },
  {
   "cell_type": "code",
   "execution_count": 2,
   "metadata": {
    "collapsed": true
   },
   "outputs": [],
   "source": [
    "t0 = time()"
   ]
  },
  {
   "cell_type": "markdown",
   "metadata": {
    "collapsed": true
   },
   "source": [
    "## Load data from MongoDB "
   ]
  },
  {
   "cell_type": "code",
   "execution_count": 3,
   "metadata": {
    "collapsed": false,
    "scrolled": true
   },
   "outputs": [],
   "source": [
    "client = MongoClient('mongodb://localhost:27017/somanews')\n",
    "client.somanews.authenticate('ssomanews', 'ssomanews1029')\n",
    "db = client.get_database('somanews')\n",
    "\n",
    "crawled_collection = db.get_collection('crawledArticles')\n",
    "clusters_collection = db.get_collection('articles')"
   ]
  },
  {
   "cell_type": "markdown",
   "metadata": {},
   "source": [
    "## Select Categories\n",
    "- 포함 : 경제, 문화, 건강, 과학, 사회, 정치, 스포츠\n",
    "- 제외 : 종합, 정보없음, 인물, 사설"
   ]
  },
  {
   "cell_type": "code",
   "execution_count": 4,
   "metadata": {
    "collapsed": false
   },
   "outputs": [],
   "source": [
    "catelist_path = '../datastore/category.p'\n",
    "headline_path = '../datastore/headline.p'"
   ]
  },
  {
   "cell_type": "code",
   "execution_count": 5,
   "metadata": {
    "collapsed": true
   },
   "outputs": [],
   "source": [
    "train = articles_data.find_recent_articles(crawled_collection, catelist_path)"
   ]
  },
  {
   "cell_type": "markdown",
   "metadata": {},
   "source": [
    "## Preprocessing\n",
    "1. Datetime (16-09-11 ~ 16-09-17)\n",
    "2. Remove stopwords (regex, hanja)\n",
    "3. POS Tagging with KoNLPy, Mecab\n",
    "4. Using bigram"
   ]
  },
  {
   "cell_type": "code",
   "execution_count": 6,
   "metadata": {
    "collapsed": false
   },
   "outputs": [],
   "source": [
    "import datetime\n",
    "from konlpy.tag import Mecab\n",
    "import cnouns\n",
    "import hanja\n",
    "import re"
   ]
  },
  {
   "cell_type": "code",
   "execution_count": 7,
   "metadata": {
    "collapsed": false
   },
   "outputs": [],
   "source": [
    "mecab = Mecab()"
   ]
  },
  {
   "cell_type": "code",
   "execution_count": 8,
   "metadata": {
    "collapsed": true
   },
   "outputs": [],
   "source": [
    "def tokenize(data):\n",
    "    return [' '.join(e for e in mecab.nouns(data))]"
   ]
  },
  {
   "cell_type": "code",
   "execution_count": 9,
   "metadata": {
    "collapsed": false
   },
   "outputs": [],
   "source": [
    "train['title_flat'] = train['title'].apply(lambda text: articles_data.remove_headlines(text, headline_path))\n",
    "train['title_flat'] = train['title_flat'].apply(lambda text: cnouns.text_cleaning_without_special_ch(text))\n",
    "train = train[train['title_flat']!='NaN']\n",
    "title = [tokenize(each[1]['title_flat']) for each in train.iterrows()]"
   ]
  },
  {
   "cell_type": "markdown",
   "metadata": {},
   "source": [
    "## Training\n",
    "1. Feature extraction - TfidVectorizer\n",
    "2. Decomposition - PCA\n",
    "3. Cluster - KMeans"
   ]
  },
  {
   "cell_type": "code",
   "execution_count": 10,
   "metadata": {
    "collapsed": false,
    "scrolled": true
   },
   "outputs": [],
   "source": [
    "from sklearn.feature_extraction.text import TfidfVectorizer\n",
    "from sklearn.decomposition import PCA\n",
    "from sklearn.cluster import KMeans"
   ]
  },
  {
   "cell_type": "code",
   "execution_count": 11,
   "metadata": {
    "collapsed": false,
    "scrolled": false
   },
   "outputs": [],
   "source": [
    "vectorizer = TfidfVectorizer(lowercase=False, ngram_range=(1,2))\n",
    "title_flat = [item for sublist in title for item in sublist]\n",
    "x_list = vectorizer.fit_transform(title_flat)"
   ]
  },
  {
   "cell_type": "code",
   "execution_count": 12,
   "metadata": {
    "collapsed": false
   },
   "outputs": [
    {
     "data": {
      "text/plain": [
       "(2477, 100)"
      ]
     },
     "execution_count": 12,
     "metadata": {},
     "output_type": "execute_result"
    }
   ],
   "source": [
    "x_list_100d = PCA(n_components=100).fit_transform(x_list.toarray())\n",
    "x_list_100d.shape"
   ]
  },
  {
   "cell_type": "markdown",
   "metadata": {},
   "source": [
    "### Scoring"
   ]
  },
  {
   "cell_type": "code",
   "execution_count": 13,
   "metadata": {
    "collapsed": true
   },
   "outputs": [],
   "source": [
    "from sklearn.metrics import silhouette_samples, silhouette_score\n",
    "from IPython.display import display, HTML\n",
    "import warnings\n",
    "warnings.filterwarnings(\"ignore\", category=DeprecationWarning) "
   ]
  },
  {
   "cell_type": "markdown",
   "metadata": {},
   "source": [
    "### Best Silhoutte Score"
   ]
  },
  {
   "cell_type": "code",
   "execution_count": 14,
   "metadata": {
    "collapsed": true
   },
   "outputs": [],
   "source": [
    "%matplotlib inline\n",
    "import matplotlib.pyplot as plt"
   ]
  },
  {
   "cell_type": "code",
   "execution_count": 15,
   "metadata": {
    "collapsed": true
   },
   "outputs": [],
   "source": [
    "best_score = 0.0\n",
    "best_k = 0"
   ]
  },
  {
   "cell_type": "code",
   "execution_count": 16,
   "metadata": {
    "collapsed": false,
    "scrolled": true
   },
   "outputs": [
    {
     "name": "stdout",
     "output_type": "stream",
     "text": [
      "In Clusters = 34 , Best score is : 0.208\n"
     ]
    }
   ],
   "source": [
    "k_list = []\n",
    "score_list = []\n",
    "for k in range(20, 35):\n",
    "    km = KMeans(n_clusters=k, n_jobs=-1).fit(x_list_100d)\n",
    "    score = silhouette_score(x_list_100d, km.labels_)\n",
    "    if best_score < score:\n",
    "        best_score = score\n",
    "        best_k = k\n",
    "    k_list.append(k)\n",
    "    score_list.append(score)\n",
    "print(\"In Clusters =\", best_k, \", Best score is : %0.3f\" % best_score)"
   ]
  },
  {
   "cell_type": "code",
   "execution_count": 17,
   "metadata": {
    "collapsed": false
   },
   "outputs": [
    {
     "data": {
      "image/png": "[encoded data removed]",
      "text/plain": [
       "<matplotlib.figure.Figure at 0x7fbbaa3f0588>"
      ]
     },
     "metadata": {},
     "output_type": "display_data"
    }
   ],
   "source": [
    "x = k_list\n",
    "y = score_list\n",
    "plt.xlabel('Number of Clusters')\n",
    "plt.ylabel('Silhouette score')\n",
    "plt.title('Finding best k')\n",
    "plt.plot(x, y)\n",
    "plt.show()"
   ]
  },
  {
   "cell_type": "markdown",
   "metadata": {},
   "source": [
    "### K-Means Algorithm"
   ]
  },
  {
   "cell_type": "code",
   "execution_count": 18,
   "metadata": {
    "collapsed": false,
    "scrolled": true
   },
   "outputs": [
    {
     "name": "stdout",
     "output_type": "stream",
     "text": [
      "225.702453863\n"
     ]
    }
   ],
   "source": [
    "km = KMeans(n_clusters=best_k, n_jobs=-1).fit(x_list_100d)\n",
    "labels = km.labels_\n",
    "centroids = km.cluster_centers_\n",
    "print(km.inertia_)"
   ]
  },
  {
   "cell_type": "code",
   "execution_count": 19,
   "metadata": {
    "collapsed": false,
    "scrolled": true
   },
   "outputs": [],
   "source": [
    "x_list_vector = x_list_100d.tolist()\n",
    "train = train.drop(['title_flat'], axis=1)\n",
    "train['vector'] = x_list_vector\n",
    "train['cluster'] = labels"
   ]
  },
  {
   "cell_type": "markdown",
   "metadata": {},
   "source": [
    "## Choose Best Cluster\n",
    "- Minimum inertia"
   ]
  },
  {
   "cell_type": "code",
   "execution_count": 20,
   "metadata": {
    "collapsed": false,
    "scrolled": false
   },
   "outputs": [],
   "source": [
    "sample_silhouette_values = silhouette_samples(x_list_100d, labels)\n",
    "sample_silhouette_score = []\n",
    "list_silhouette_score = []\n",
    "best_cluster = []\n",
    "\n",
    "for i in range(best_k):\n",
    "    ith_cluster_silhouette_values = \\\n",
    "        sample_silhouette_values[labels == i]    \n",
    "    list_silhouette_score.append(abs(ith_cluster_silhouette_values.mean()))\n",
    "\n",
    "list_silhouette_score.sort(reverse=True)\n",
    "sample_silhouette_score = list_silhouette_score[:12]"
   ]
  },
  {
   "cell_type": "code",
   "execution_count": 21,
   "metadata": {
    "collapsed": false
   },
   "outputs": [
    {
     "data": {
      "image/png": "[encoded data removed]",
      "text/plain": [
       "<matplotlib.figure.Figure at 0x7fbbaa3d3c50>"
      ]
     },
     "metadata": {},
     "output_type": "display_data"
    }
   ],
   "source": [
    "x = [x for x in range(best_k)]\n",
    "y = list_silhouette_score\n",
    "width = 1/1.5\n",
    "plt.xlabel('Each of Cluster')\n",
    "plt.ylabel('Silhouette score')\n",
    "plt.title('Finding best cluster')\n",
    "plt.bar(x, y, width)\n",
    "plt.show()"
   ]
  },
  {
   "cell_type": "code",
   "execution_count": 22,
   "metadata": {
    "collapsed": false,
    "scrolled": true
   },
   "outputs": [
    {
     "data": {
      "text/plain": [
       "[0.8028077423491885,\n",
       " 0.8023040882509368,\n",
       " 0.77812522285141816,\n",
       " 0.63786470167047915,\n",
       " 0.51271830769482052,\n",
       " 0.47585136370267733,\n",
       " 0.4601668858257057,\n",
       " 0.43499480479759045,\n",
       " 0.41273846214851301,\n",
       " 0.37302549764142312,\n",
       " 0.34634541746809472,\n",
       " 0.33561369638813454]"
      ]
     },
     "execution_count": 22,
     "metadata": {},
     "output_type": "execute_result"
    }
   ],
   "source": [
    "sample_silhouette_score"
   ]
  },
  {
   "cell_type": "code",
   "execution_count": 23,
   "metadata": {
    "collapsed": false
   },
   "outputs": [],
   "source": [
    "for i in range(best_k):\n",
    "    ith_cluster_silhouette_values = \\\n",
    "        sample_silhouette_values[labels == i]\n",
    "        \n",
    "    if abs(ith_cluster_silhouette_values.mean()) in sample_silhouette_score:\n",
    "        best_cluster.append(i)"
   ]
  },
  {
   "cell_type": "code",
   "execution_count": 24,
   "metadata": {
    "collapsed": false
   },
   "outputs": [
    {
     "data": {
      "text/plain": [
       "array([ 2, 19, 27, 32, 31, 13, 16,  1, 24, 20, 22, 11])"
      ]
     },
     "execution_count": 24,
     "metadata": {},
     "output_type": "execute_result"
    }
   ],
   "source": [
    "train = train[train['cluster'].isin(best_cluster)]\n",
    "train.cluster.unique()"
   ]
  },
  {
   "cell_type": "markdown",
   "metadata": {},
   "source": [
    "## Result"
   ]
  },
  {
   "cell_type": "code",
   "execution_count": 25,
   "metadata": {
    "collapsed": false,
    "scrolled": false
   },
   "outputs": [
    {
     "name": "stdout",
     "output_type": "stream",
     "text": [
      "Cluster 0: Size 7\n"
     ]
    },
    {
     "data": {
      "text/html": [
       "<div>\n",
       "<table border=\"1\" class=\"dataframe\">\n",
       "  <thead>\n",
       "    <tr style=\"text-align: right;\">\n",
       "      <th></th>\n",
       "      <th>title</th>\n",
       "      <th>category</th>\n",
       "    </tr>\n",
       "  </thead>\n",
       "  <tbody>\n",
       "    <tr>\n",
       "      <th>975</th>\n",
       "      <td>한진해운 선박 또 압류돼</td>\n",
       "      <td>경제 &gt; 경제일반</td>\n",
       "    </tr>\n",
       "    <tr>\n",
       "      <th>3275</th>\n",
       "      <td>한진해운 화물 95.5% 하역… 물류대란 두달만에 마무리</td>\n",
       "      <td>뉴스 &gt; 경제 &gt; 경제일반</td>\n",
       "    </tr>\n",
       "    <tr>\n",
       "      <th>2944</th>\n",
       "      <td>한진해운 9월 말 이후 운송대금 583억여원 받아</td>\n",
       "      <td>경제 &gt; 경제일반</td>\n",
       "    </tr>\n",
       "    <tr>\n",
       "      <th>2814</th>\n",
       "      <td>한진해운 물류대란 마무리 단계…“97척 중 3척 하역만 남아”</td>\n",
       "      <td>경제 &gt; 경제일반</td>\n",
       "    </tr>\n",
       "    <tr>\n",
       "      <th>1106</th>\n",
       "      <td>한진해운, 선박 중국서 또 가압류…선박 총 5척·선원 95명 억류</td>\n",
       "      <td>마켓·비즈 &gt; 경제일반</td>\n",
       "    </tr>\n",
       "    <tr>\n",
       "      <th>2946</th>\n",
       "      <td>한진해운 이후, 韓 해운업은 어디로</td>\n",
       "      <td>마켓·비즈 &gt; 경제일반</td>\n",
       "    </tr>\n",
       "    <tr>\n",
       "      <th>3100</th>\n",
       "      <td>“제2의 한진해운 막으려면 해운·조선 자금 흐름 이어야”</td>\n",
       "      <td>마켓·비즈 &gt; 경제일반</td>\n",
       "    </tr>\n",
       "  </tbody>\n",
       "</table>\n",
       "</div>"
      ],
      "text/plain": [
       "                                     title        category\n",
       "975                          한진해운 선박 또 압류돼       경제 > 경제일반\n",
       "3275       한진해운 화물 95.5% 하역… 물류대란 두달만에 마무리  뉴스 > 경제 > 경제일반\n",
       "2944           한진해운 9월 말 이후 운송대금 583억여원 받아       경제 > 경제일반\n",
       "2814    한진해운 물류대란 마무리 단계…“97척 중 3척 하역만 남아”       경제 > 경제일반\n",
       "1106  한진해운, 선박 중국서 또 가압류…선박 총 5척·선원 95명 억류    마켓·비즈 > 경제일반\n",
       "2946                   한진해운 이후, 韓 해운업은 어디로    마켓·비즈 > 경제일반\n",
       "3100       “제2의 한진해운 막으려면 해운·조선 자금 흐름 이어야”    마켓·비즈 > 경제일반"
      ]
     },
     "metadata": {},
     "output_type": "display_data"
    },
    {
     "name": "stdout",
     "output_type": "stream",
     "text": [
      "\n",
      "\n",
      "\n",
      "Cluster 1: Size 13\n"
     ]
    },
    {
     "data": {
      "text/html": [
       "<div>\n",
       "<table border=\"1\" class=\"dataframe\">\n",
       "  <thead>\n",
       "    <tr style=\"text-align: right;\">\n",
       "      <th></th>\n",
       "      <th>title</th>\n",
       "      <th>category</th>\n",
       "    </tr>\n",
       "  </thead>\n",
       "  <tbody>\n",
       "    <tr>\n",
       "      <th>12</th>\n",
       "      <td>새 대통령 비서실장에 한광옥 내정</td>\n",
       "      <td>정치 &gt; 청와대</td>\n",
       "    </tr>\n",
       "    <tr>\n",
       "      <th>1211</th>\n",
       "      <td>한광옥 실장 “대통령 2선후퇴 건의할 생각 없어”</td>\n",
       "      <td>뉴스 &gt; 정치 &gt; 정치일반</td>\n",
       "    </tr>\n",
       "    <tr>\n",
       "      <th>4131</th>\n",
       "      <td>트럼프의 최측근 3인방, 비서실장 등 백악관 요직 예고</td>\n",
       "      <td>뉴스 &gt; 국제 &gt; 미국/북미</td>\n",
       "    </tr>\n",
       "    <tr>\n",
       "      <th>496</th>\n",
       "      <td>[사설]한광옥 비서실장, 직언하지 못할 거면 시작도 말라</td>\n",
       "      <td>뉴스 &gt; 정치 &gt; 정치일반</td>\n",
       "    </tr>\n",
       "    <tr>\n",
       "      <th>16</th>\n",
       "      <td>대통령 비서실장 한광옥, 정무수석 허원제</td>\n",
       "      <td>정치 &gt; 청와대</td>\n",
       "    </tr>\n",
       "    <tr>\n",
       "      <th>1221</th>\n",
       "      <td>국회 인사 온 한광옥에 野圈 불편한 기색… 박지원 \"DJ 비서실장까지 지낸 분이…\"</td>\n",
       "      <td>정치</td>\n",
       "    </tr>\n",
       "    <tr>\n",
       "      <th>514</th>\n",
       "      <td>새 비서실장에 'DJ맨' 한광옥</td>\n",
       "      <td>정치 &gt; 청와대</td>\n",
       "    </tr>\n",
       "    <tr>\n",
       "      <th>2114</th>\n",
       "      <td>한광옥 靑 비서실장 \"박 대통령, 침울한 상태\"</td>\n",
       "      <td>정치 &gt; 정치일반</td>\n",
       "    </tr>\n",
       "    <tr>\n",
       "      <th>1543</th>\n",
       "      <td>한광옥 대통령 비서실장 \"광화문 광장에서 보여준 국민 준엄한 뜻, 매우 무겁게 느껴\"</td>\n",
       "      <td>정치 &gt; 국회·정당</td>\n",
       "    </tr>\n",
       "    <tr>\n",
       "      <th>8</th>\n",
       "      <td>신임 대통령 비서실장에 DJ 비서실장, 한광옥 국민대통합위원장</td>\n",
       "      <td>정치 &gt; 국회·정당</td>\n",
       "    </tr>\n",
       "    <tr>\n",
       "      <th>79</th>\n",
       "      <td>박지원, ‘동교동계’ 한광옥 靑 비서실장 내정에 “DJ가 어떻게 생각하실까...”</td>\n",
       "      <td>정치 &gt; 국회·정당</td>\n",
       "    </tr>\n",
       "    <tr>\n",
       "      <th>736</th>\n",
       "      <td>15년 만에 다시 비서실장 기용된 한광옥</td>\n",
       "      <td>뉴스 &gt; 정치 &gt; 정치일반</td>\n",
       "    </tr>\n",
       "  </tbody>\n",
       "</table>\n",
       "</div>"
      ],
      "text/plain": [
       "                                                title         category\n",
       "12                                 새 대통령 비서실장에 한광옥 내정         정치 > 청와대\n",
       "1211                      한광옥 실장 “대통령 2선후퇴 건의할 생각 없어”   뉴스 > 정치 > 정치일반\n",
       "4131                   트럼프의 최측근 3인방, 비서실장 등 백악관 요직 예고  뉴스 > 국제 > 미국/북미\n",
       "496                   [사설]한광옥 비서실장, 직언하지 못할 거면 시작도 말라   뉴스 > 정치 > 정치일반\n",
       "16                             대통령 비서실장 한광옥, 정무수석 허원제         정치 > 청와대\n",
       "1221   국회 인사 온 한광옥에 野圈 불편한 기색… 박지원 \"DJ 비서실장까지 지낸 분이…\"               정치\n",
       "514                                 새 비서실장에 'DJ맨' 한광옥         정치 > 청와대\n",
       "2114                       한광옥 靑 비서실장 \"박 대통령, 침울한 상태\"        정치 > 정치일반\n",
       "1543  한광옥 대통령 비서실장 \"광화문 광장에서 보여준 국민 준엄한 뜻, 매우 무겁게 느껴\"       정치 > 국회·정당\n",
       "8                  신임 대통령 비서실장에 DJ 비서실장, 한광옥 국민대통합위원장       정치 > 국회·정당\n",
       "79      박지원, ‘동교동계’ 한광옥 靑 비서실장 내정에 “DJ가 어떻게 생각하실까...”       정치 > 국회·정당\n",
       "736                            15년 만에 다시 비서실장 기용된 한광옥   뉴스 > 정치 > 정치일반"
      ]
     },
     "metadata": {},
     "output_type": "display_data"
    },
    {
     "name": "stdout",
     "output_type": "stream",
     "text": [
      "\n",
      "\n",
      "\n",
      "Cluster 2: Size 8\n"
     ]
    },
    {
     "data": {
      "text/html": [
       "<div>\n",
       "<table border=\"1\" class=\"dataframe\">\n",
       "  <thead>\n",
       "    <tr style=\"text-align: right;\">\n",
       "      <th></th>\n",
       "      <th>title</th>\n",
       "      <th>category</th>\n",
       "    </tr>\n",
       "  </thead>\n",
       "  <tbody>\n",
       "    <tr>\n",
       "      <th>3419</th>\n",
       "      <td>韓·日 군사협정 서두르는 정부… 野 추천 총리가 받아들일까</td>\n",
       "      <td>정치 &gt; 외교</td>\n",
       "    </tr>\n",
       "    <tr>\n",
       "      <th>2356</th>\n",
       "      <td>11월 8일 함께하는 교육 정보</td>\n",
       "      <td>사회 &gt; 교육</td>\n",
       "    </tr>\n",
       "    <tr>\n",
       "      <th>2849</th>\n",
       "      <td>정부, '최순실 게이트' 틈타 한일군사정보보호협청 체결 서둘러</td>\n",
       "      <td>정치 &gt; 국방·외교</td>\n",
       "    </tr>\n",
       "    <tr>\n",
       "      <th>3161</th>\n",
       "      <td>한·일 군사정보협정 ‘속전속결’ 체결 강행</td>\n",
       "      <td>정치 &gt; 국방·외교</td>\n",
       "    </tr>\n",
       "    <tr>\n",
       "      <th>3097</th>\n",
       "      <td>한일 군사정보협정 가속…야 “어수선한 틈 밀어붙이기” 반발</td>\n",
       "      <td>정치 &gt; 국방·북한</td>\n",
       "    </tr>\n",
       "    <tr>\n",
       "      <th>3860</th>\n",
       "      <td>국방부 “한일 군사정보협정, 주요 내용 의견 일치”</td>\n",
       "      <td>정치 &gt; 국방·북한</td>\n",
       "    </tr>\n",
       "    <tr>\n",
       "      <th>2827</th>\n",
       "      <td>이 와중에…국방부, ‘한일 군사협정’ 2차 협상도 강행</td>\n",
       "      <td>정치 &gt; 국방·북한</td>\n",
       "    </tr>\n",
       "    <tr>\n",
       "      <th>3377</th>\n",
       "      <td>韓日 군사정보협정 9일 2차협의… 타결 임박</td>\n",
       "      <td>뉴스 &gt; 사회 &gt; 사회일반</td>\n",
       "    </tr>\n",
       "  </tbody>\n",
       "</table>\n",
       "</div>"
      ],
      "text/plain": [
       "                                   title        category\n",
       "3419    韓·日 군사협정 서두르는 정부… 野 추천 총리가 받아들일까         정치 > 외교\n",
       "2356                   11월 8일 함께하는 교육 정보         사회 > 교육\n",
       "2849  정부, '최순실 게이트' 틈타 한일군사정보보호협청 체결 서둘러      정치 > 국방·외교\n",
       "3161             한·일 군사정보협정 ‘속전속결’ 체결 강행      정치 > 국방·외교\n",
       "3097    한일 군사정보협정 가속…야 “어수선한 틈 밀어붙이기” 반발      정치 > 국방·북한\n",
       "3860        국방부 “한일 군사정보협정, 주요 내용 의견 일치”      정치 > 국방·북한\n",
       "2827      이 와중에…국방부, ‘한일 군사협정’ 2차 협상도 강행      정치 > 국방·북한\n",
       "3377            韓日 군사정보협정 9일 2차협의… 타결 임박  뉴스 > 사회 > 사회일반"
      ]
     },
     "metadata": {},
     "output_type": "display_data"
    },
    {
     "name": "stdout",
     "output_type": "stream",
     "text": [
      "\n",
      "\n",
      "\n",
      "Cluster 3: Size 14\n"
     ]
    },
    {
     "data": {
      "text/html": [
       "<div>\n",
       "<table border=\"1\" class=\"dataframe\">\n",
       "  <thead>\n",
       "    <tr style=\"text-align: right;\">\n",
       "      <th></th>\n",
       "      <th>title</th>\n",
       "      <th>category</th>\n",
       "    </tr>\n",
       "  </thead>\n",
       "  <tbody>\n",
       "    <tr>\n",
       "      <th>1335</th>\n",
       "      <td>고 백남기 농민 장례미사 명동성당서 봉헌···“얼마나 더 많은 사람이 희생돼야 죽음...</td>\n",
       "      <td>사회 &gt; 사회일반</td>\n",
       "    </tr>\n",
       "    <tr>\n",
       "      <th>1343</th>\n",
       "      <td>[1신] 백남기 농민 영결식 2만여명 추모행렬</td>\n",
       "      <td>사회 &gt; 사회일반</td>\n",
       "    </tr>\n",
       "    <tr>\n",
       "      <th>1350</th>\n",
       "      <td>[4신] 백남기 영결식 2만여명 “싸움은 이제 시작”</td>\n",
       "      <td>사회 &gt; 사회일반</td>\n",
       "    </tr>\n",
       "    <tr>\n",
       "      <th>1348</th>\n",
       "      <td>\"얼마나 더 많은 사람이 희생돼야 죽음을 알게 될까\" 고 백남기 농민 장례 엄수</td>\n",
       "      <td>사회 &gt; 사회일반</td>\n",
       "    </tr>\n",
       "    <tr>\n",
       "      <th>1352</th>\n",
       "      <td>\"국가가 어둠에 잠겨 있다\" 고 백남기 농민 영결식 추도사</td>\n",
       "      <td>사회 &gt; 사회일반</td>\n",
       "    </tr>\n",
       "    <tr>\n",
       "      <th>1684</th>\n",
       "      <td>금남로에 시민 3000명…백남기 농민 ‘마지막 길’ 외롭지 않았다</td>\n",
       "      <td>사회 &gt; 사회일반</td>\n",
       "    </tr>\n",
       "    <tr>\n",
       "      <th>1620</th>\n",
       "      <td>백남기 농민 5·18 민주열사 묘역에 잠들다</td>\n",
       "      <td>사회 &gt; 전국</td>\n",
       "    </tr>\n",
       "    <tr>\n",
       "      <th>1577</th>\n",
       "      <td>들꽃같은 삶을 살았던 의인 백남기 농민 영면</td>\n",
       "      <td>사회 &gt; 전국</td>\n",
       "    </tr>\n",
       "    <tr>\n",
       "      <th>1375</th>\n",
       "      <td>“전두환 비 밟고 간다”…백남기 농민 묻힐 5·18 구 묘역</td>\n",
       "      <td>사회 &gt; 전국</td>\n",
       "    </tr>\n",
       "    <tr>\n",
       "      <th>1342</th>\n",
       "      <td>박원순, 백남기 영결식서 “박대통령 하야 기필코 이뤄낼 것”</td>\n",
       "      <td>사회 &gt; 사회일반</td>\n",
       "    </tr>\n",
       "    <tr>\n",
       "      <th>420</th>\n",
       "      <td>고 백남기 농민 장례식장에서 분신·방화 시도한 40대 남성 체포</td>\n",
       "      <td>사회 &gt; 사회일반</td>\n",
       "    </tr>\n",
       "    <tr>\n",
       "      <th>1327</th>\n",
       "      <td>백남기 농민 장례미사 엄수…대주교, “공식적인 사과 없는 처사 이해되지 않아”</td>\n",
       "      <td>사회 &gt; 사회일반</td>\n",
       "    </tr>\n",
       "  </tbody>\n",
       "</table>\n",
       "</div>"
      ],
      "text/plain": [
       "                                                  title   category\n",
       "1335  고 백남기 농민 장례미사 명동성당서 봉헌···“얼마나 더 많은 사람이 희생돼야 죽음...  사회 > 사회일반\n",
       "1343                          [1신] 백남기 농민 영결식 2만여명 추모행렬  사회 > 사회일반\n",
       "1350                      [4신] 백남기 영결식 2만여명 “싸움은 이제 시작”  사회 > 사회일반\n",
       "1348       \"얼마나 더 많은 사람이 희생돼야 죽음을 알게 될까\" 고 백남기 농민 장례 엄수  사회 > 사회일반\n",
       "1352                   \"국가가 어둠에 잠겨 있다\" 고 백남기 농민 영결식 추도사  사회 > 사회일반\n",
       "1684               금남로에 시민 3000명…백남기 농민 ‘마지막 길’ 외롭지 않았다  사회 > 사회일반\n",
       "1620                           백남기 농민 5·18 민주열사 묘역에 잠들다    사회 > 전국\n",
       "1577                           들꽃같은 삶을 살았던 의인 백남기 농민 영면    사회 > 전국\n",
       "1375                  “전두환 비 밟고 간다”…백남기 농민 묻힐 5·18 구 묘역    사회 > 전국\n",
       "1342                  박원순, 백남기 영결식서 “박대통령 하야 기필코 이뤄낼 것”  사회 > 사회일반\n",
       "420                 고 백남기 농민 장례식장에서 분신·방화 시도한 40대 남성 체포  사회 > 사회일반\n",
       "1327        백남기 농민 장례미사 엄수…대주교, “공식적인 사과 없는 처사 이해되지 않아”  사회 > 사회일반"
      ]
     },
     "metadata": {},
     "output_type": "display_data"
    },
    {
     "name": "stdout",
     "output_type": "stream",
     "text": [
      "\n",
      "\n",
      "\n",
      "Cluster 4: Size 9\n"
     ]
    },
    {
     "data": {
      "text/html": [
       "<div>\n",
       "<table border=\"1\" class=\"dataframe\">\n",
       "  <thead>\n",
       "    <tr style=\"text-align: right;\">\n",
       "      <th></th>\n",
       "      <th>title</th>\n",
       "      <th>category</th>\n",
       "    </tr>\n",
       "  </thead>\n",
       "  <tbody>\n",
       "    <tr>\n",
       "      <th>3691</th>\n",
       "      <td>검찰, ‘문고리 3인방’ 이재만·안봉근 자택 압수수색</td>\n",
       "      <td>사회 &gt; 사회일반</td>\n",
       "    </tr>\n",
       "    <tr>\n",
       "      <th>3714</th>\n",
       "      <td>안봉근 이재만 전 비서관도 압색...문고리 3인방 모두 수사대상</td>\n",
       "      <td>사회 &gt; 사회일반</td>\n",
       "    </tr>\n",
       "    <tr>\n",
       "      <th>513</th>\n",
       "      <td>'문고리 3인방' 없는 첫 비서진… DJ맨에게 소통 열쇠 맡겼다</td>\n",
       "      <td>정치 &gt; 청와대</td>\n",
       "    </tr>\n",
       "    <tr>\n",
       "      <th>2487</th>\n",
       "      <td>[사설]靑 ‘문고리 3인방’ 박 대통령 아닌 최순실에게 충성 바쳤나</td>\n",
       "      <td>뉴스 &gt; 정치 &gt; 정치일반</td>\n",
       "    </tr>\n",
       "    <tr>\n",
       "      <th>801</th>\n",
       "      <td>[속보]검찰, ‘문고리 3인방’ 정호성 전 비서관 체포</td>\n",
       "      <td>사회 &gt; 법원·검찰</td>\n",
       "    </tr>\n",
       "    <tr>\n",
       "      <th>802</th>\n",
       "      <td>검찰, 정호성 전 비서관 어젯밤 전격 체포</td>\n",
       "      <td>사회 &gt; 사회일반</td>\n",
       "    </tr>\n",
       "    <tr>\n",
       "      <th>1245</th>\n",
       "      <td>朴대통령의 18년 手足 '문고리 3인방' 사법처리 초읽기</td>\n",
       "      <td>사회 &gt; 법원ㆍ검찰ㆍ경찰</td>\n",
       "    </tr>\n",
       "    <tr>\n",
       "      <th>805</th>\n",
       "      <td>검찰, ‘문고리 3인방’ 정호성 전 비서관 어젯밤 체포</td>\n",
       "      <td>사회 &gt; 사회일반</td>\n",
       "    </tr>\n",
       "    <tr>\n",
       "      <th>3694</th>\n",
       "      <td>[속보]검찰, ‘문고리’ 안봉근·이재만 등 자택 4곳 압수수색</td>\n",
       "      <td>사회 &gt; 법원·검찰</td>\n",
       "    </tr>\n",
       "  </tbody>\n",
       "</table>\n",
       "</div>"
      ],
      "text/plain": [
       "                                      title        category\n",
       "3691          검찰, ‘문고리 3인방’ 이재만·안봉근 자택 압수수색       사회 > 사회일반\n",
       "3714    안봉근 이재만 전 비서관도 압색...문고리 3인방 모두 수사대상       사회 > 사회일반\n",
       "513     '문고리 3인방' 없는 첫 비서진… DJ맨에게 소통 열쇠 맡겼다        정치 > 청와대\n",
       "2487  [사설]靑 ‘문고리 3인방’ 박 대통령 아닌 최순실에게 충성 바쳤나  뉴스 > 정치 > 정치일반\n",
       "801          [속보]검찰, ‘문고리 3인방’ 정호성 전 비서관 체포      사회 > 법원·검찰\n",
       "802                 검찰, 정호성 전 비서관 어젯밤 전격 체포       사회 > 사회일반\n",
       "1245        朴대통령의 18년 手足 '문고리 3인방' 사법처리 초읽기   사회 > 법원ㆍ검찰ㆍ경찰\n",
       "805          검찰, ‘문고리 3인방’ 정호성 전 비서관 어젯밤 체포       사회 > 사회일반\n",
       "3694     [속보]검찰, ‘문고리’ 안봉근·이재만 등 자택 4곳 압수수색      사회 > 법원·검찰"
      ]
     },
     "metadata": {},
     "output_type": "display_data"
    },
    {
     "name": "stdout",
     "output_type": "stream",
     "text": [
      "\n",
      "\n",
      "\n",
      "Cluster 5: Size 10\n"
     ]
    },
    {
     "data": {
      "text/html": [
       "<div>\n",
       "<table border=\"1\" class=\"dataframe\">\n",
       "  <thead>\n",
       "    <tr style=\"text-align: right;\">\n",
       "      <th></th>\n",
       "      <th>title</th>\n",
       "      <th>category</th>\n",
       "    </tr>\n",
       "  </thead>\n",
       "  <tbody>\n",
       "    <tr>\n",
       "      <th>2166</th>\n",
       "      <td>'제2의 브렉시트 일어나나'...세계는 미국 대선을 어떻게 지켜봤나</td>\n",
       "      <td>국제 &gt; 국제일반</td>\n",
       "    </tr>\n",
       "    <tr>\n",
       "      <th>368</th>\n",
       "      <td>영국 고등법원 “리스본조약 50조 발동, 정부 아닌 의회 권한”…브렉시트 장기화 예고</td>\n",
       "      <td>국제 &gt; 유럽</td>\n",
       "    </tr>\n",
       "    <tr>\n",
       "      <th>1713</th>\n",
       "      <td>[2016 미국의 선택]‘미국판 브렉시트’ 일어날지도 모른다</td>\n",
       "      <td>국제 &gt; 미국·중남미</td>\n",
       "    </tr>\n",
       "    <tr>\n",
       "      <th>672</th>\n",
       "      <td>“EU 공식탈퇴 하려면 의회 표결절차 거쳐라” 英법원, 브렉시트 제동</td>\n",
       "      <td>뉴스 &gt; 국제 &gt; 국제일반</td>\n",
       "    </tr>\n",
       "    <tr>\n",
       "      <th>558</th>\n",
       "      <td>英고법, 브렉시트 협상 일정에 급제동</td>\n",
       "      <td>국제 &gt; 유럽</td>\n",
       "    </tr>\n",
       "    <tr>\n",
       "      <th>4123</th>\n",
       "      <td>反이민 정서 자극한 포퓰리즘 선거… 브렉시트와 닮은꼴</td>\n",
       "      <td>뉴스 &gt; 국제 &gt; 미국/북미</td>\n",
       "    </tr>\n",
       "    <tr>\n",
       "      <th>3647</th>\n",
       "      <td>트럼프 우세에 국내 금값 급등…브렉시트 이후 최대폭</td>\n",
       "      <td>경제 &gt; 경제일반</td>\n",
       "    </tr>\n",
       "    <tr>\n",
       "      <th>56</th>\n",
       "      <td>콜린스 선정 2016년 올해의 단어는 ‘브렉시트’</td>\n",
       "      <td>국제 &gt; 국제일반</td>\n",
       "    </tr>\n",
       "    <tr>\n",
       "      <th>1899</th>\n",
       "      <td>메이 “브렉시트 결정 되돌리는 일 없을 것”</td>\n",
       "      <td>뉴스 &gt; 국제 &gt; 국제일반</td>\n",
       "    </tr>\n",
       "    <tr>\n",
       "      <th>1941</th>\n",
       "      <td>美 누가 이겨도 ‘보호무역’… 트럼프 당선땐 브렉시트급 충격</td>\n",
       "      <td>뉴스 &gt; 경제 &gt; 경제일반</td>\n",
       "    </tr>\n",
       "  </tbody>\n",
       "</table>\n",
       "</div>"
      ],
      "text/plain": [
       "                                                title         category\n",
       "2166            '제2의 브렉시트 일어나나'...세계는 미국 대선을 어떻게 지켜봤나        국제 > 국제일반\n",
       "368   영국 고등법원 “리스본조약 50조 발동, 정부 아닌 의회 권한”…브렉시트 장기화 예고          국제 > 유럽\n",
       "1713                [2016 미국의 선택]‘미국판 브렉시트’ 일어날지도 모른다      국제 > 미국·중남미\n",
       "672            “EU 공식탈퇴 하려면 의회 표결절차 거쳐라” 英법원, 브렉시트 제동   뉴스 > 국제 > 국제일반\n",
       "558                              英고법, 브렉시트 협상 일정에 급제동          국제 > 유럽\n",
       "4123                    反이민 정서 자극한 포퓰리즘 선거… 브렉시트와 닮은꼴  뉴스 > 국제 > 미국/북미\n",
       "3647                     트럼프 우세에 국내 금값 급등…브렉시트 이후 최대폭        경제 > 경제일반\n",
       "56                        콜린스 선정 2016년 올해의 단어는 ‘브렉시트’        국제 > 국제일반\n",
       "1899                         메이 “브렉시트 결정 되돌리는 일 없을 것”   뉴스 > 국제 > 국제일반\n",
       "1941                美 누가 이겨도 ‘보호무역’… 트럼프 당선땐 브렉시트급 충격   뉴스 > 경제 > 경제일반"
      ]
     },
     "metadata": {},
     "output_type": "display_data"
    },
    {
     "name": "stdout",
     "output_type": "stream",
     "text": [
      "\n",
      "\n",
      "\n",
      "Cluster 6: Size 6\n"
     ]
    },
    {
     "data": {
      "text/html": [
       "<div>\n",
       "<table border=\"1\" class=\"dataframe\">\n",
       "  <thead>\n",
       "    <tr style=\"text-align: right;\">\n",
       "      <th></th>\n",
       "      <th>title</th>\n",
       "      <th>category</th>\n",
       "    </tr>\n",
       "  </thead>\n",
       "  <tbody>\n",
       "    <tr>\n",
       "      <th>4033</th>\n",
       "      <td>[간추린 뉴스]두산밥캣 공모주 청약 미달  外</td>\n",
       "      <td>뉴스 &gt; 경제 &gt; 경제일반</td>\n",
       "    </tr>\n",
       "    <tr>\n",
       "      <th>2221</th>\n",
       "      <td>두산밥캣 공모가 3만원 확정, 상장 재도전</td>\n",
       "      <td>경제 &gt; 경제일반</td>\n",
       "    </tr>\n",
       "    <tr>\n",
       "      <th>2443</th>\n",
       "      <td>두산밥캣, 공모가 낮춰 상장 재도전</td>\n",
       "      <td>경제 &gt; 경제일반</td>\n",
       "    </tr>\n",
       "    <tr>\n",
       "      <th>3827</th>\n",
       "      <td>트럼프 당선 때문에? 두산밥캣 공모주 청약 미달</td>\n",
       "      <td>마켓·비즈 &gt; 경제일반</td>\n",
       "    </tr>\n",
       "    <tr>\n",
       "      <th>2030</th>\n",
       "      <td>두산밥캣 공모가 3만원 확정···8일부터 일반 청약</td>\n",
       "      <td>마켓·비즈 &gt; 금융·재테크</td>\n",
       "    </tr>\n",
       "    <tr>\n",
       "      <th>3019</th>\n",
       "      <td>두산밥캣 청약 첫날, 경쟁률 0.3대1 ‘불안한 출발’</td>\n",
       "      <td>마켓·비즈 &gt; 금융·재테크</td>\n",
       "    </tr>\n",
       "  </tbody>\n",
       "</table>\n",
       "</div>"
      ],
      "text/plain": [
       "                               title        category\n",
       "4033       [간추린 뉴스]두산밥캣 공모주 청약 미달  外  뉴스 > 경제 > 경제일반\n",
       "2221         두산밥캣 공모가 3만원 확정, 상장 재도전       경제 > 경제일반\n",
       "2443             두산밥캣, 공모가 낮춰 상장 재도전       경제 > 경제일반\n",
       "3827      트럼프 당선 때문에? 두산밥캣 공모주 청약 미달    마켓·비즈 > 경제일반\n",
       "2030    두산밥캣 공모가 3만원 확정···8일부터 일반 청약  마켓·비즈 > 금융·재테크\n",
       "3019  두산밥캣 청약 첫날, 경쟁률 0.3대1 ‘불안한 출발’  마켓·비즈 > 금융·재테크"
      ]
     },
     "metadata": {},
     "output_type": "display_data"
    },
    {
     "name": "stdout",
     "output_type": "stream",
     "text": [
      "\n",
      "\n",
      "\n",
      "Cluster 7: Size 16\n"
     ]
    },
    {
     "data": {
      "text/html": [
       "<div>\n",
       "<table border=\"1\" class=\"dataframe\">\n",
       "  <thead>\n",
       "    <tr style=\"text-align: right;\">\n",
       "      <th></th>\n",
       "      <th>title</th>\n",
       "      <th>category</th>\n",
       "    </tr>\n",
       "  </thead>\n",
       "  <tbody>\n",
       "    <tr>\n",
       "      <th>2215</th>\n",
       "      <td>'굿판 참여' 박승주 안전처 장관 내정자 \"환태평양 지진대가 활동해서\" 해명</td>\n",
       "      <td>사회 &gt; 사회일반</td>\n",
       "    </tr>\n",
       "    <tr>\n",
       "      <th>2237</th>\n",
       "      <td>박승주 국민안전처 장관 내정자 ‘광화문 굿판’ 참석 해명 들어보니</td>\n",
       "      <td>사회 &gt; 사회일반</td>\n",
       "    </tr>\n",
       "    <tr>\n",
       "      <th>2118</th>\n",
       "      <td>‘전생 안전처’ 장관? 박승주 후보자, 전생 체험 고백 책도 썼다</td>\n",
       "      <td>사회 &gt; 사회일반</td>\n",
       "    </tr>\n",
       "    <tr>\n",
       "      <th>2342</th>\n",
       "      <td>[카드뉴스] 장관 내정자와 굿판</td>\n",
       "      <td>사회 &gt; 카드뉴스</td>\n",
       "    </tr>\n",
       "    <tr>\n",
       "      <th>3933</th>\n",
       "      <td>박승주 국민안전처 장관 내정자 일주일만에 자진사퇴</td>\n",
       "      <td>전국 &gt; 전국일반</td>\n",
       "    </tr>\n",
       "    <tr>\n",
       "      <th>2435</th>\n",
       "      <td>광화문 한복판 굿판 참석하고 전봉준 만났다는 장관 내정자</td>\n",
       "      <td>정치 &gt; 정치일반</td>\n",
       "    </tr>\n",
       "    <tr>\n",
       "      <th>4168</th>\n",
       "      <td>'굿판 논란' 박승주 안전처장관 내정자, 결국 자진 사퇴</td>\n",
       "      <td>사회</td>\n",
       "    </tr>\n",
       "    <tr>\n",
       "      <th>2091</th>\n",
       "      <td>박승주 국민안전처 장관 내정자, 굿판 참석·47회 전생 고백 논란</td>\n",
       "      <td>사회 &gt; 전국</td>\n",
       "    </tr>\n",
       "    <tr>\n",
       "      <th>2048</th>\n",
       "      <td>박승주 안전처장관 내정자, \"전봉준 장군이 찾아왔다\" 주장, 굿판 참석도</td>\n",
       "      <td>사회 &gt; 사회일반</td>\n",
       "    </tr>\n",
       "    <tr>\n",
       "      <th>2541</th>\n",
       "      <td>[횡설수설/송평인]안전처 장관 후보자의 굿판</td>\n",
       "      <td>뉴스 &gt; 정치 &gt; 정치일반</td>\n",
       "    </tr>\n",
       "    <tr>\n",
       "      <th>2032</th>\n",
       "      <td>안전처 장관 내정자 “명상 통해 47가지 모습으로 지구 왔다”</td>\n",
       "      <td>정치 &gt; 정치BAR</td>\n",
       "    </tr>\n",
       "    <tr>\n",
       "      <th>3932</th>\n",
       "      <td>‘굿판·전생 체험’ 박승주 안전처 장관 내정자 자진 사퇴</td>\n",
       "      <td>정치 &gt; 정치일반</td>\n",
       "    </tr>\n",
       "  </tbody>\n",
       "</table>\n",
       "</div>"
      ],
      "text/plain": [
       "                                           title        category\n",
       "2215  '굿판 참여' 박승주 안전처 장관 내정자 \"환태평양 지진대가 활동해서\" 해명       사회 > 사회일반\n",
       "2237        박승주 국민안전처 장관 내정자 ‘광화문 굿판’ 참석 해명 들어보니       사회 > 사회일반\n",
       "2118        ‘전생 안전처’ 장관? 박승주 후보자, 전생 체험 고백 책도 썼다       사회 > 사회일반\n",
       "2342                           [카드뉴스] 장관 내정자와 굿판       사회 > 카드뉴스\n",
       "3933                 박승주 국민안전처 장관 내정자 일주일만에 자진사퇴       전국 > 전국일반\n",
       "2435             광화문 한복판 굿판 참석하고 전봉준 만났다는 장관 내정자       정치 > 정치일반\n",
       "4168             '굿판 논란' 박승주 안전처장관 내정자, 결국 자진 사퇴              사회\n",
       "2091        박승주 국민안전처 장관 내정자, 굿판 참석·47회 전생 고백 논란         사회 > 전국\n",
       "2048    박승주 안전처장관 내정자, \"전봉준 장군이 찾아왔다\" 주장, 굿판 참석도       사회 > 사회일반\n",
       "2541                    [횡설수설/송평인]안전처 장관 후보자의 굿판  뉴스 > 정치 > 정치일반\n",
       "2032          안전처 장관 내정자 “명상 통해 47가지 모습으로 지구 왔다”      정치 > 정치BAR\n",
       "3932             ‘굿판·전생 체험’ 박승주 안전처 장관 내정자 자진 사퇴       정치 > 정치일반"
      ]
     },
     "metadata": {},
     "output_type": "display_data"
    },
    {
     "name": "stdout",
     "output_type": "stream",
     "text": [
      "\n",
      "\n",
      "\n",
      "Cluster 8: Size 6\n"
     ]
    },
    {
     "data": {
      "text/html": [
       "<div>\n",
       "<table border=\"1\" class=\"dataframe\">\n",
       "  <thead>\n",
       "    <tr style=\"text-align: right;\">\n",
       "      <th></th>\n",
       "      <th>title</th>\n",
       "      <th>category</th>\n",
       "    </tr>\n",
       "  </thead>\n",
       "  <tbody>\n",
       "    <tr>\n",
       "      <th>1608</th>\n",
       "      <td>김병준 총리 내정자 “내가 왜 자진 사퇴하느냐”고 하지만…</td>\n",
       "      <td>정치 &gt; 정치일반</td>\n",
       "    </tr>\n",
       "    <tr>\n",
       "      <th>1733</th>\n",
       "      <td>김병준 \"자진사퇴 없다… 이렇게 어려울지 몰랐을 것 같나\"</td>\n",
       "      <td>정치</td>\n",
       "    </tr>\n",
       "    <tr>\n",
       "      <th>2484</th>\n",
       "      <td>[박근혜·최순실 게이트]“여·야·청서 새 후보 내면 사라질 것” 김병준 총리 지명자...</td>\n",
       "      <td>정치 &gt; 정치일반</td>\n",
       "    </tr>\n",
       "    <tr>\n",
       "      <th>1340</th>\n",
       "      <td>김병준 총리후보 둘째딸 결혼식…자진사퇴? “그런 일 없다”</td>\n",
       "      <td>사회 &gt; 사회일반</td>\n",
       "    </tr>\n",
       "    <tr>\n",
       "      <th>3996</th>\n",
       "      <td>[박근혜·최순실 게이트]박승주 내정자 자진 사퇴</td>\n",
       "      <td>정치 &gt; 정치일반</td>\n",
       "    </tr>\n",
       "    <tr>\n",
       "      <th>1341</th>\n",
       "      <td>김병준 국무총리 내정자 “자진사퇴는 없다”</td>\n",
       "      <td>사회 &gt; 사회일반</td>\n",
       "    </tr>\n",
       "  </tbody>\n",
       "</table>\n",
       "</div>"
      ],
      "text/plain": [
       "                                                  title   category\n",
       "1608                   김병준 총리 내정자 “내가 왜 자진 사퇴하느냐”고 하지만…  정치 > 정치일반\n",
       "1733                   김병준 \"자진사퇴 없다… 이렇게 어려울지 몰랐을 것 같나\"         정치\n",
       "2484  [박근혜·최순실 게이트]“여·야·청서 새 후보 내면 사라질 것” 김병준 총리 지명자...  정치 > 정치일반\n",
       "1340                   김병준 총리후보 둘째딸 결혼식…자진사퇴? “그런 일 없다”  사회 > 사회일반\n",
       "3996                         [박근혜·최순실 게이트]박승주 내정자 자진 사퇴  정치 > 정치일반\n",
       "1341                            김병준 국무총리 내정자 “자진사퇴는 없다”  사회 > 사회일반"
      ]
     },
     "metadata": {},
     "output_type": "display_data"
    },
    {
     "name": "stdout",
     "output_type": "stream",
     "text": [
      "\n",
      "\n",
      "\n",
      "Cluster 9: Size 5\n"
     ]
    },
    {
     "data": {
      "text/html": [
       "<div>\n",
       "<table border=\"1\" class=\"dataframe\">\n",
       "  <thead>\n",
       "    <tr style=\"text-align: right;\">\n",
       "      <th></th>\n",
       "      <th>title</th>\n",
       "      <th>category</th>\n",
       "    </tr>\n",
       "  </thead>\n",
       "  <tbody>\n",
       "    <tr>\n",
       "      <th>707</th>\n",
       "      <td>‘엘시티 비리’ 관련 부산시청 등 4곳 압수수색</td>\n",
       "      <td>뉴스 &gt; 사회 &gt; 사회일반</td>\n",
       "    </tr>\n",
       "    <tr>\n",
       "      <th>211</th>\n",
       "      <td>해운대 엘시티 비리 의혹 관련 부산시청 등 압수수색</td>\n",
       "      <td>사회 &gt; 전국</td>\n",
       "    </tr>\n",
       "    <tr>\n",
       "      <th>451</th>\n",
       "      <td>‘엘시티 특혜’ 부산시청 압수수색</td>\n",
       "      <td>사회 &gt; 법원·검찰</td>\n",
       "    </tr>\n",
       "    <tr>\n",
       "      <th>522</th>\n",
       "      <td>'엘시티 비리' 부산시청 등 압수수색</td>\n",
       "      <td>사회 &gt; 법원ㆍ검찰ㆍ경찰</td>\n",
       "    </tr>\n",
       "    <tr>\n",
       "      <th>109</th>\n",
       "      <td>엘시티 인허가 관련 부산시청·해운대구청 등 4곳 압수수색</td>\n",
       "      <td>사회 &gt; 법원·검찰</td>\n",
       "    </tr>\n",
       "  </tbody>\n",
       "</table>\n",
       "</div>"
      ],
      "text/plain": [
       "                               title        category\n",
       "707       ‘엘시티 비리’ 관련 부산시청 등 4곳 압수수색  뉴스 > 사회 > 사회일반\n",
       "211     해운대 엘시티 비리 의혹 관련 부산시청 등 압수수색         사회 > 전국\n",
       "451               ‘엘시티 특혜’ 부산시청 압수수색      사회 > 법원·검찰\n",
       "522             '엘시티 비리' 부산시청 등 압수수색   사회 > 법원ㆍ검찰ㆍ경찰\n",
       "109  엘시티 인허가 관련 부산시청·해운대구청 등 4곳 압수수색      사회 > 법원·검찰"
      ]
     },
     "metadata": {},
     "output_type": "display_data"
    },
    {
     "name": "stdout",
     "output_type": "stream",
     "text": [
      "\n",
      "\n",
      "\n",
      "Cluster 10: Size 15\n"
     ]
    },
    {
     "data": {
      "text/html": [
       "<div>\n",
       "<table border=\"1\" class=\"dataframe\">\n",
       "  <thead>\n",
       "    <tr style=\"text-align: right;\">\n",
       "      <th></th>\n",
       "      <th>title</th>\n",
       "      <th>category</th>\n",
       "    </tr>\n",
       "  </thead>\n",
       "  <tbody>\n",
       "    <tr>\n",
       "      <th>3963</th>\n",
       "      <td>“역사 국정교과서 반대” 학생·시민단체 ‘1인 시위’ 돌입</td>\n",
       "      <td>사회 &gt; 교육·입시</td>\n",
       "    </tr>\n",
       "    <tr>\n",
       "      <th>289</th>\n",
       "      <td>“국정 교과서 반대” 밝힌 김병준 총리지명자에 당황한 교육부</td>\n",
       "      <td>사회 &gt; 교육</td>\n",
       "    </tr>\n",
       "    <tr>\n",
       "      <th>1440</th>\n",
       "      <td>조희연 서울교육감, “‘최순실 사태’ 역사교과서 국정화 철회 촉구”</td>\n",
       "      <td>사회 &gt; 사회일반</td>\n",
       "    </tr>\n",
       "    <tr>\n",
       "      <th>2190</th>\n",
       "      <td>민병희 강원교육감 “`최순실 교과서’ 의혹 역사교과서 국정화 계획 철회해야”</td>\n",
       "      <td>사회 &gt; 전국</td>\n",
       "    </tr>\n",
       "    <tr>\n",
       "      <th>737</th>\n",
       "      <td>김병준 “국정 역사교과서 합당한 것인지 의문”</td>\n",
       "      <td>뉴스 &gt; 정치 &gt; 정치일반</td>\n",
       "    </tr>\n",
       "    <tr>\n",
       "      <th>2217</th>\n",
       "      <td>김승환 전북교육감 “국정교과서 도입, 최우선 중단돼야할 정책”</td>\n",
       "      <td>사회 &gt; 사회일반</td>\n",
       "    </tr>\n",
       "    <tr>\n",
       "      <th>3715</th>\n",
       "      <td>“박근혜 퇴진과 역사교과서 국정화 중단하라”</td>\n",
       "      <td>사회 &gt; 전국</td>\n",
       "    </tr>\n",
       "    <tr>\n",
       "      <th>2957</th>\n",
       "      <td>이재정 경기교육감 “역사교과서 국정화 철회돼야”</td>\n",
       "      <td>사회 &gt; 교육·입시</td>\n",
       "    </tr>\n",
       "    <tr>\n",
       "      <th>3855</th>\n",
       "      <td>교육부 보고 있나? 학생도 학부모도 “국정역사교과서 반대”</td>\n",
       "      <td>사회 &gt; 교육·입시</td>\n",
       "    </tr>\n",
       "    <tr>\n",
       "      <th>449</th>\n",
       "      <td>역사 국정교과서 강행하던 교육부 ‘난감’</td>\n",
       "      <td>사회 &gt; 교육·입시</td>\n",
       "    </tr>\n",
       "    <tr>\n",
       "      <th>2197</th>\n",
       "      <td>전국역사교사모임 “ ‘박근혜 교과서’ 만들기 중단하라”</td>\n",
       "      <td>사회 &gt; 교육·입시</td>\n",
       "    </tr>\n",
       "    <tr>\n",
       "      <th>1661</th>\n",
       "      <td>힘받는 국정교과서 철회론…교육감들도 가세</td>\n",
       "      <td>사회 &gt; 교육</td>\n",
       "    </tr>\n",
       "  </tbody>\n",
       "</table>\n",
       "</div>"
      ],
      "text/plain": [
       "                                           title        category\n",
       "3963            “역사 국정교과서 반대” 학생·시민단체 ‘1인 시위’ 돌입      사회 > 교육·입시\n",
       "289            “국정 교과서 반대” 밝힌 김병준 총리지명자에 당황한 교육부         사회 > 교육\n",
       "1440       조희연 서울교육감, “‘최순실 사태’ 역사교과서 국정화 철회 촉구”       사회 > 사회일반\n",
       "2190  민병희 강원교육감 “`최순실 교과서’ 의혹 역사교과서 국정화 계획 철회해야”         사회 > 전국\n",
       "737                    김병준 “국정 역사교과서 합당한 것인지 의문”  뉴스 > 정치 > 정치일반\n",
       "2217          김승환 전북교육감 “국정교과서 도입, 최우선 중단돼야할 정책”       사회 > 사회일반\n",
       "3715                    “박근혜 퇴진과 역사교과서 국정화 중단하라”         사회 > 전국\n",
       "2957                  이재정 경기교육감 “역사교과서 국정화 철회돼야”      사회 > 교육·입시\n",
       "3855            교육부 보고 있나? 학생도 학부모도 “국정역사교과서 반대”      사회 > 교육·입시\n",
       "449                       역사 국정교과서 강행하던 교육부 ‘난감’      사회 > 교육·입시\n",
       "2197              전국역사교사모임 “ ‘박근혜 교과서’ 만들기 중단하라”      사회 > 교육·입시\n",
       "1661                      힘받는 국정교과서 철회론…교육감들도 가세         사회 > 교육"
      ]
     },
     "metadata": {},
     "output_type": "display_data"
    },
    {
     "name": "stdout",
     "output_type": "stream",
     "text": [
      "\n",
      "\n",
      "\n",
      "Cluster 11: Size 4\n"
     ]
    },
    {
     "data": {
      "text/html": [
       "<div>\n",
       "<table border=\"1\" class=\"dataframe\">\n",
       "  <thead>\n",
       "    <tr style=\"text-align: right;\">\n",
       "      <th></th>\n",
       "      <th>title</th>\n",
       "      <th>category</th>\n",
       "    </tr>\n",
       "  </thead>\n",
       "  <tbody>\n",
       "    <tr>\n",
       "      <th>705</th>\n",
       "      <td>‘국보급’ 동의보감 초판본 되찾았다</td>\n",
       "      <td>뉴스 &gt; 사회 &gt; 사회일반</td>\n",
       "    </tr>\n",
       "    <tr>\n",
       "      <th>452</th>\n",
       "      <td>‘국보급’ 동의보감 초판본 등 도난 문화재 3800점 찾았다</td>\n",
       "      <td>사회 &gt; 법원·검찰</td>\n",
       "    </tr>\n",
       "    <tr>\n",
       "      <th>533</th>\n",
       "      <td>도난당한 국보급 동의보감, 2000만원에 사찰까지 흘러가…</td>\n",
       "      <td>사회 &gt; 사건ㆍ사고</td>\n",
       "    </tr>\n",
       "    <tr>\n",
       "      <th>216</th>\n",
       "      <td>동의보감·대명률 등 국보급 도난문화재 3800점 압수</td>\n",
       "      <td>사회 &gt; 전국</td>\n",
       "    </tr>\n",
       "  </tbody>\n",
       "</table>\n",
       "</div>"
      ],
      "text/plain": [
       "                                 title        category\n",
       "705                ‘국보급’ 동의보감 초판본 되찾았다  뉴스 > 사회 > 사회일반\n",
       "452  ‘국보급’ 동의보감 초판본 등 도난 문화재 3800점 찾았다      사회 > 법원·검찰\n",
       "533   도난당한 국보급 동의보감, 2000만원에 사찰까지 흘러가…      사회 > 사건ㆍ사고\n",
       "216      동의보감·대명률 등 국보급 도난문화재 3800점 압수         사회 > 전국"
      ]
     },
     "metadata": {},
     "output_type": "display_data"
    },
    {
     "name": "stdout",
     "output_type": "stream",
     "text": [
      "\n",
      "\n",
      "\n"
     ]
    }
   ],
   "source": [
    "cluster_data = []\n",
    "\n",
    "for cluster_index in range(best_k):\n",
    "    if cluster_index in best_cluster:\n",
    "        cluster_data.append(train[train['cluster'] == cluster_index])\n",
    "    \n",
    "for i, d in enumerate(cluster_data):\n",
    "    print('Cluster %d:' % (i), 'Size %d' % (len(d)))\n",
    "\n",
    "    display(d[['title', 'category']].sample(min(len(train.cluster.unique()), len(d))))\n",
    "    print('\\n\\n')"
   ]
  },
  {
   "cell_type": "markdown",
   "metadata": {},
   "source": [
    "## Save Dataframe to MongoDB"
   ]
  },
  {
   "cell_type": "code",
   "execution_count": 26,
   "metadata": {
    "collapsed": true
   },
   "outputs": [],
   "source": [
    "client = MongoClient('mongodb://localhost:27017/somanews')\n",
    "client.somanews.authenticate('ssomanews', 'ssomanews1029')\n",
    "db = client.get_database('somanews')\n",
    "articles = db.get_collection('articles')"
   ]
  },
  {
   "cell_type": "code",
   "execution_count": 27,
   "metadata": {
    "collapsed": false
   },
   "outputs": [],
   "source": [
    "articles.insert_many(train.to_dict(orient='records'))\n",
    "client.close()"
   ]
  },
  {
   "cell_type": "code",
   "execution_count": 28,
   "metadata": {
    "collapsed": false
   },
   "outputs": [
    {
     "name": "stdout",
     "output_type": "stream",
     "text": [
      "Done in 84.278s.\n"
     ]
    }
   ],
   "source": [
    "print(\"Done in %0.3fs.\" % (time() - t0))"
   ]
  }
 ],
 "metadata": {
  "kernelspec": {
   "display_name": "Python 3",
   "language": "python",
   "name": "python3"
  },
  "language_info": {
   "codemirror_mode": {
    "name": "ipython",
    "version": 3
   },
   "file_extension": ".py",
   "mimetype": "text/x-python",
   "name": "python",
   "nbconvert_exporter": "python",
   "pygments_lexer": "ipython3",
   "version": "3.5.2"
  }
 },
 "nbformat": 4,
 "nbformat_minor": 1
}
