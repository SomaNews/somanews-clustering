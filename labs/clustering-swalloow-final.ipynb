{
 "cells": [
  {
   "cell_type": "markdown",
   "metadata": {},
   "source": [
    "# News Clustering using KMeans Algorithm\n",
    "By Datetime : 2016-08-29 ~ 2016-09-05"
   ]
  },
  {
   "cell_type": "code",
   "execution_count": 1,
   "metadata": {
    "collapsed": false
   },
   "outputs": [],
   "source": [
    "import numpy as np\n",
    "import pandas as pd\n",
    "import articles_data_py3 as articles_data\n",
    "from pymongo import MongoClient"
   ]
  },
  {
   "cell_type": "markdown",
   "metadata": {
    "collapsed": true
   },
   "source": [
    "## Load data from MongoDB "
   ]
  },
  {
   "cell_type": "code",
   "execution_count": 2,
   "metadata": {
    "collapsed": false,
    "scrolled": true
   },
   "outputs": [],
   "source": [
    "client = MongoClient('mongodb://localhost:27017/somanews')\n",
    "client.somanews.authenticate('ssomanews', 'ssomanews1029')\n",
    "db = client.get_database('somanews')\n",
    "\n",
    "crawled_collection = db.get_collection('crawledArticles')\n",
    "clusters_collection = db.get_collection('articles')"
   ]
  },
  {
   "cell_type": "markdown",
   "metadata": {},
   "source": [
    "## Select Categories\n",
    "- 포함 : 경제, 문화, 건강, 과학, 사회, 정치, 스포츠\n",
    "- 제외 : 종합, 정보없음, 인물, 사설"
   ]
  },
  {
   "cell_type": "code",
   "execution_count": 3,
   "metadata": {
    "collapsed": false
   },
   "outputs": [],
   "source": [
    "catelist_path = '../datastore/category.p'\n",
    "headline_path = '../datastore/headline.p'"
   ]
  },
  {
   "cell_type": "code",
   "execution_count": 4,
   "metadata": {
    "collapsed": true
   },
   "outputs": [],
   "source": [
    "train = articles_data.find_recent_articles(crawled_collection, catelist_path)"
   ]
  },
  {
   "cell_type": "markdown",
   "metadata": {},
   "source": [
    "## Preprocessing\n",
    "1. Datetime (16-09-11 ~ 16-09-17)\n",
    "2. Remove stopwords (regex, hanja)\n",
    "3. POS Tagging with KoNLPy, Mecab\n",
    "4. Using bigram"
   ]
  },
  {
   "cell_type": "code",
   "execution_count": 5,
   "metadata": {
    "collapsed": false
   },
   "outputs": [],
   "source": [
    "import datetime\n",
    "from konlpy.tag import Mecab\n",
    "import cnouns\n",
    "import hanja\n",
    "import re"
   ]
  },
  {
   "cell_type": "code",
   "execution_count": 6,
   "metadata": {
    "collapsed": false
   },
   "outputs": [],
   "source": [
    "mecab = Mecab()"
   ]
  },
  {
   "cell_type": "code",
   "execution_count": 7,
   "metadata": {
    "collapsed": true
   },
   "outputs": [],
   "source": [
    "def tokenize(data):\n",
    "    return [' '.join(e for e in mecab.nouns(data))]"
   ]
  },
  {
   "cell_type": "code",
   "execution_count": 8,
   "metadata": {
    "collapsed": false
   },
   "outputs": [],
   "source": [
    "train['title_flat'] = train['title'].apply(lambda text: cnouns.text_cleaning_without_special_ch(text))\n",
    "train['title_flat'] = train['title'].apply(lambda text: articles_data.remove_headlines(text, headline_path))\n",
    "title = [tokenize(each[1]['title_flat']) for each in train.iterrows()]"
   ]
  },
  {
   "cell_type": "markdown",
   "metadata": {},
   "source": [
    "## Training\n",
    "1. Feature extraction - TfidVectorizer\n",
    "2. Decomposition - PCA\n",
    "3. Cluster - KMeans"
   ]
  },
  {
   "cell_type": "code",
   "execution_count": 9,
   "metadata": {
    "collapsed": false,
    "scrolled": true
   },
   "outputs": [],
   "source": [
    "from sklearn.feature_extraction.text import TfidfVectorizer\n",
    "from sklearn.decomposition import PCA\n",
    "from sklearn.cluster import KMeans"
   ]
  },
  {
   "cell_type": "code",
   "execution_count": 10,
   "metadata": {
    "collapsed": false,
    "scrolled": false
   },
   "outputs": [],
   "source": [
    "vectorizer = TfidfVectorizer(lowercase=False, ngram_range=(1,2))\n",
    "title_flat = [item for sublist in title for item in sublist]\n",
    "x_list = vectorizer.fit_transform(title_flat)"
   ]
  },
  {
   "cell_type": "code",
   "execution_count": 11,
   "metadata": {
    "collapsed": false
   },
   "outputs": [
    {
     "data": {
      "text/plain": [
       "(2728, 100)"
      ]
     },
     "execution_count": 11,
     "metadata": {},
     "output_type": "execute_result"
    }
   ],
   "source": [
    "x_list_100d = PCA(n_components=100).fit_transform(x_list.toarray())\n",
    "x_list_100d.shape"
   ]
  },
  {
   "cell_type": "markdown",
   "metadata": {},
   "source": [
    "### Scoring"
   ]
  },
  {
   "cell_type": "code",
   "execution_count": 12,
   "metadata": {
    "collapsed": true
   },
   "outputs": [],
   "source": [
    "from sklearn.metrics import silhouette_samples, silhouette_score\n",
    "from IPython.display import display, HTML\n",
    "import warnings\n",
    "warnings.filterwarnings(\"ignore\", category=DeprecationWarning) "
   ]
  },
  {
   "cell_type": "markdown",
   "metadata": {},
   "source": [
    "### Best Silhoutte Score"
   ]
  },
  {
   "cell_type": "code",
   "execution_count": 13,
   "metadata": {
    "collapsed": true
   },
   "outputs": [],
   "source": [
    "%matplotlib inline\n",
    "import matplotlib.pyplot as plt"
   ]
  },
  {
   "cell_type": "code",
   "execution_count": 14,
   "metadata": {
    "collapsed": true
   },
   "outputs": [],
   "source": [
    "best_score = 0.0\n",
    "best_k = 0"
   ]
  },
  {
   "cell_type": "code",
   "execution_count": 15,
   "metadata": {
    "collapsed": false,
    "scrolled": true
   },
   "outputs": [
    {
     "name": "stdout",
     "output_type": "stream",
     "text": [
      "In Clusters = 31 , Best score is : 0.241\n"
     ]
    }
   ],
   "source": [
    "k_list = []\n",
    "score_list = []\n",
    "for k in range(15, 35):\n",
    "    km = KMeans(n_clusters=k, n_jobs=-1).fit(x_list_100d)\n",
    "    score = silhouette_score(x_list_100d, km.labels_)\n",
    "    if best_score < score:\n",
    "        best_score = score\n",
    "        best_k = k\n",
    "    k_list.append(k)\n",
    "    score_list.append(score)\n",
    "print(\"In Clusters =\", best_k, \", Best score is : %0.3f\" % best_score)"
   ]
  },
  {
   "cell_type": "code",
   "execution_count": 16,
   "metadata": {
    "collapsed": false
   },
   "outputs": [
    {
     "data": {
      "image/png": "[encoded data removed]",
      "text/plain": [
       "<matplotlib.figure.Figure at 0x7f9e283c2320>"
      ]
     },
     "metadata": {},
     "output_type": "display_data"
    }
   ],
   "source": [
    "x = k_list\n",
    "y = score_list\n",
    "plt.xlabel('Number of Clusters')\n",
    "plt.ylabel('Silhouette score')\n",
    "plt.title('Finding best k')\n",
    "plt.plot(x, y)\n",
    "plt.show()"
   ]
  },
  {
   "cell_type": "markdown",
   "metadata": {},
   "source": [
    "### K-Means Algorithm"
   ]
  },
  {
   "cell_type": "code",
   "execution_count": 17,
   "metadata": {
    "collapsed": false,
    "scrolled": true
   },
   "outputs": [
    {
     "name": "stdout",
     "output_type": "stream",
     "text": [
      "272.315291506\n"
     ]
    }
   ],
   "source": [
    "km = KMeans(n_clusters=best_k, n_jobs=-1).fit(x_list_100d)\n",
    "labels = km.labels_\n",
    "centroids = km.cluster_centers_\n",
    "print(km.inertia_)"
   ]
  },
  {
   "cell_type": "code",
   "execution_count": 18,
   "metadata": {
    "collapsed": false,
    "scrolled": true
   },
   "outputs": [],
   "source": [
    "train = train.drop(['title_flat'], axis=1)\n",
    "train['cluster'] = labels"
   ]
  },
  {
   "cell_type": "markdown",
   "metadata": {},
   "source": [
    "## Choose Best Cluster\n",
    "- Minimum inertia"
   ]
  },
  {
   "cell_type": "markdown",
   "metadata": {},
   "source": [
    "### Compare best cluster"
   ]
  },
  {
   "cell_type": "code",
   "execution_count": 19,
   "metadata": {
    "collapsed": false,
    "scrolled": false
   },
   "outputs": [],
   "source": [
    "sample_silhouette_values = silhouette_samples(x_list_100d, labels)\n",
    "sample_silhouette_score = []\n",
    "list_silhouette_score = []\n",
    "best_cluster = []\n",
    "\n",
    "for i in range(best_k):\n",
    "    ith_cluster_silhouette_values = \\\n",
    "        sample_silhouette_values[labels == i]    \n",
    "    list_silhouette_score.append(abs(ith_cluster_silhouette_values.mean()))\n",
    "\n",
    "list_silhouette_score.sort(reverse=True)\n",
    "sample_silhouette_score = list_silhouette_score[:12]"
   ]
  },
  {
   "cell_type": "code",
   "execution_count": 20,
   "metadata": {
    "collapsed": false
   },
   "outputs": [
    {
     "data": {
      "image/png": "[encoded data removed]",
      "text/plain": [
       "<matplotlib.figure.Figure at 0x7f9e28382278>"
      ]
     },
     "metadata": {},
     "output_type": "display_data"
    }
   ],
   "source": [
    "x = [x for x in range(best_k)]\n",
    "y = list_silhouette_score\n",
    "width = 1/1.5\n",
    "plt.xlabel('Each of Cluster')\n",
    "plt.ylabel('Silhouette score')\n",
    "plt.title('Finding best cluster')\n",
    "plt.bar(x, y, width)\n",
    "plt.show()"
   ]
  },
  {
   "cell_type": "code",
   "execution_count": 21,
   "metadata": {
    "collapsed": false,
    "scrolled": true
   },
   "outputs": [
    {
     "data": {
      "text/plain": [
       "[1.0,\n",
       " 0.89886090539806496,\n",
       " 0.79375158269639989,\n",
       " 0.65641112195549178,\n",
       " 0.62858998211003847,\n",
       " 0.58338261246817924,\n",
       " 0.44264791236575413,\n",
       " 0.36846436033868901,\n",
       " 0.34653859767721734,\n",
       " 0.33580455467080711,\n",
       " 0.30703767811315685,\n",
       " 0.25792366852298027]"
      ]
     },
     "execution_count": 21,
     "metadata": {},
     "output_type": "execute_result"
    }
   ],
   "source": [
    "sample_silhouette_score"
   ]
  },
  {
   "cell_type": "code",
   "execution_count": 22,
   "metadata": {
    "collapsed": false
   },
   "outputs": [],
   "source": [
    "for i in range(best_k):\n",
    "    ith_cluster_silhouette_values = \\\n",
    "        sample_silhouette_values[labels == i]\n",
    "        \n",
    "    if abs(ith_cluster_silhouette_values.mean()) in sample_silhouette_score:\n",
    "        best_cluster.append(i)"
   ]
  },
  {
   "cell_type": "code",
   "execution_count": 23,
   "metadata": {
    "collapsed": false
   },
   "outputs": [
    {
     "data": {
      "text/plain": [
       "array([17,  4, 24, 13,  6, 10, 16, 20, 18,  9, 27,  7])"
      ]
     },
     "execution_count": 23,
     "metadata": {},
     "output_type": "execute_result"
    }
   ],
   "source": [
    "train = train[train['cluster'].isin(best_cluster)]\n",
    "train.cluster.unique()"
   ]
  },
  {
   "cell_type": "markdown",
   "metadata": {},
   "source": [
    "## Result"
   ]
  },
  {
   "cell_type": "code",
   "execution_count": 24,
   "metadata": {
    "collapsed": false,
    "scrolled": false
   },
   "outputs": [
    {
     "name": "stdout",
     "output_type": "stream",
     "text": [
      "Cluster 0: Size 51\n"
     ]
    },
    {
     "data": {
      "text/html": [
       "<div>\n",
       "<table border=\"1\" class=\"dataframe\">\n",
       "  <thead>\n",
       "    <tr style=\"text-align: right;\">\n",
       "      <th></th>\n",
       "      <th>title</th>\n",
       "      <th>category</th>\n",
       "    </tr>\n",
       "  </thead>\n",
       "  <tbody>\n",
       "    <tr>\n",
       "      <th>2952</th>\n",
       "      <td>최순실 게이트로 경제정책도 갈팡질팡</td>\n",
       "      <td>뉴스 &gt; 정치 &gt; 정치일반</td>\n",
       "    </tr>\n",
       "    <tr>\n",
       "      <th>467</th>\n",
       "      <td>‘최순실 게이트’ 증시 타격··· 코스피 1980선도 무너져</td>\n",
       "      <td>마켓·비즈 &gt; 금융·재테크</td>\n",
       "    </tr>\n",
       "    <tr>\n",
       "      <th>4179</th>\n",
       "      <td>[박근혜·최순실 게이트]야당 안 만나주자 국회의장에 “만나달라”</td>\n",
       "      <td>정치 &gt; 정치일반</td>\n",
       "    </tr>\n",
       "    <tr>\n",
       "      <th>529</th>\n",
       "      <td>최순실 게이트로 ‘문재인 테마주’ 2배 급등 ‘테마주 난립’</td>\n",
       "      <td>경제 &gt; 증권</td>\n",
       "    </tr>\n",
       "    <tr>\n",
       "      <th>3473</th>\n",
       "      <td>[박근혜·최순실 게이트]‘문고리 3인방’ 박 정부 1·2기 내내 ‘최순실 도우미’</td>\n",
       "      <td>정치 &gt; 정치일반</td>\n",
       "    </tr>\n",
       "    <tr>\n",
       "      <th>4181</th>\n",
       "      <td>[박근혜·최순실 게이트]APEC 정상회의 박 대통령 ‘불참’</td>\n",
       "      <td>정치 &gt; 정치일반</td>\n",
       "    </tr>\n",
       "    <tr>\n",
       "      <th>3483</th>\n",
       "      <td>[박근혜·최순실 게이트]‘박정희 미화’ 소설 쓴 류철균, 박 대통령이 만든 재단 이사였다</td>\n",
       "      <td>정치 &gt; 정치일반</td>\n",
       "    </tr>\n",
       "    <tr>\n",
       "      <th>4170</th>\n",
       "      <td>[박근혜·최순실 게이트]“최순실, 미완성 청 문서 받아봐” 중간 결재권자 역할 정황 포착</td>\n",
       "      <td>정치 &gt; 정치일반</td>\n",
       "    </tr>\n",
       "    <tr>\n",
       "      <th>2716</th>\n",
       "      <td>[박근혜·최순실 게이트]12일 ‘3차 촛불항쟁’…앞으로 1주일이 ‘현대사 중대 분수령’</td>\n",
       "      <td>정치 &gt; 정치일반</td>\n",
       "    </tr>\n",
       "    <tr>\n",
       "      <th>2710</th>\n",
       "      <td>[박근혜·최순실 게이트]사정당국 관계자 “우병우도 국정농단 핵심”…특검 불가피</td>\n",
       "      <td>정치 &gt; 정치일반</td>\n",
       "    </tr>\n",
       "    <tr>\n",
       "      <th>3952</th>\n",
       "      <td>주변국 ‘놀림감’ 된 박근혜·최순실 게이트</td>\n",
       "      <td>국제 &gt; 국제일반</td>\n",
       "    </tr>\n",
       "    <tr>\n",
       "      <th>3030</th>\n",
       "      <td>최순실 게이트는 유비쿼터스다</td>\n",
       "      <td>사회 &gt; 사회일반</td>\n",
       "    </tr>\n",
       "  </tbody>\n",
       "</table>\n",
       "</div>"
      ],
      "text/plain": [
       "                                                  title        category\n",
       "2952                                최순실 게이트로 경제정책도 갈팡질팡  뉴스 > 정치 > 정치일반\n",
       "467                   ‘최순실 게이트’ 증시 타격··· 코스피 1980선도 무너져  마켓·비즈 > 금융·재테크\n",
       "4179                [박근혜·최순실 게이트]야당 안 만나주자 국회의장에 “만나달라”       정치 > 정치일반\n",
       "529                   최순실 게이트로 ‘문재인 테마주’ 2배 급등 ‘테마주 난립’         경제 > 증권\n",
       "3473      [박근혜·최순실 게이트]‘문고리 3인방’ 박 정부 1·2기 내내 ‘최순실 도우미’       정치 > 정치일반\n",
       "4181                  [박근혜·최순실 게이트]APEC 정상회의 박 대통령 ‘불참’       정치 > 정치일반\n",
       "3483  [박근혜·최순실 게이트]‘박정희 미화’ 소설 쓴 류철균, 박 대통령이 만든 재단 이사였다       정치 > 정치일반\n",
       "4170  [박근혜·최순실 게이트]“최순실, 미완성 청 문서 받아봐” 중간 결재권자 역할 정황 포착       정치 > 정치일반\n",
       "2716   [박근혜·최순실 게이트]12일 ‘3차 촛불항쟁’…앞으로 1주일이 ‘현대사 중대 분수령’       정치 > 정치일반\n",
       "2710        [박근혜·최순실 게이트]사정당국 관계자 “우병우도 국정농단 핵심”…특검 불가피       정치 > 정치일반\n",
       "3952                            주변국 ‘놀림감’ 된 박근혜·최순실 게이트       국제 > 국제일반\n",
       "3030                                    최순실 게이트는 유비쿼터스다       사회 > 사회일반"
      ]
     },
     "metadata": {},
     "output_type": "display_data"
    },
    {
     "name": "stdout",
     "output_type": "stream",
     "text": [
      "\n",
      "\n",
      "\n",
      "Cluster 1: Size 15\n"
     ]
    },
    {
     "data": {
      "text/html": [
       "<div>\n",
       "<table border=\"1\" class=\"dataframe\">\n",
       "  <thead>\n",
       "    <tr style=\"text-align: right;\">\n",
       "      <th></th>\n",
       "      <th>title</th>\n",
       "      <th>category</th>\n",
       "    </tr>\n",
       "  </thead>\n",
       "  <tbody>\n",
       "    <tr>\n",
       "      <th>3876</th>\n",
       "      <td>[경향포토]김병준 총리 내정자, 말좀 합시다.</td>\n",
       "      <td>정치 &gt; 정치일반</td>\n",
       "    </tr>\n",
       "    <tr>\n",
       "      <th>3061</th>\n",
       "      <td>[경향포토]둘러싸여 출근하는 김병준 총리내정자</td>\n",
       "      <td>정치 &gt; 정치일반</td>\n",
       "    </tr>\n",
       "    <tr>\n",
       "      <th>3071</th>\n",
       "      <td>[경향포토]답변하는 김병준 총리내정자</td>\n",
       "      <td>정치 &gt; 정치일반</td>\n",
       "    </tr>\n",
       "    <tr>\n",
       "      <th>3080</th>\n",
       "      <td>[경향포토]물 마시는 김병준 총리내정자</td>\n",
       "      <td>정치 &gt; 정치일반</td>\n",
       "    </tr>\n",
       "    <tr>\n",
       "      <th>3081</th>\n",
       "      <td>[경향포토]물 마시는 김병준 총리 내정자</td>\n",
       "      <td>정치 &gt; 정치일반</td>\n",
       "    </tr>\n",
       "    <tr>\n",
       "      <th>489</th>\n",
       "      <td>김병준 총리 내정자 “책임총리 권한행사 얘기 있었다”</td>\n",
       "      <td>정치 &gt; 정치일반</td>\n",
       "    </tr>\n",
       "    <tr>\n",
       "      <th>3065</th>\n",
       "      <td>[경향포토]김병준 총리 내정자, '사퇴거절'</td>\n",
       "      <td>정치 &gt; 정치일반</td>\n",
       "    </tr>\n",
       "    <tr>\n",
       "      <th>2620</th>\n",
       "      <td>김병준 총리 내정자 “내가 왜 자진 사퇴하느냐”고 하지만…</td>\n",
       "      <td>정치 &gt; 정치일반</td>\n",
       "    </tr>\n",
       "    <tr>\n",
       "      <th>3063</th>\n",
       "      <td>[경향포토]출근하는 김병준 총리내정자</td>\n",
       "      <td>정치 &gt; 정치일반</td>\n",
       "    </tr>\n",
       "    <tr>\n",
       "      <th>3062</th>\n",
       "      <td>[경향포토]사무실 향하는 김병준 총리내정자</td>\n",
       "      <td>정치 &gt; 정치일반</td>\n",
       "    </tr>\n",
       "    <tr>\n",
       "      <th>3070</th>\n",
       "      <td>[경향포토]목타는 김병준 총리내정자</td>\n",
       "      <td>정치 &gt; 정치일반</td>\n",
       "    </tr>\n",
       "    <tr>\n",
       "      <th>485</th>\n",
       "      <td>[경향포토]웃고 있는 김병준 총리 내정자</td>\n",
       "      <td>사회 &gt; 사회일반</td>\n",
       "    </tr>\n",
       "  </tbody>\n",
       "</table>\n",
       "</div>"
      ],
      "text/plain": [
       "                                 title   category\n",
       "3876         [경향포토]김병준 총리 내정자, 말좀 합시다.  정치 > 정치일반\n",
       "3061         [경향포토]둘러싸여 출근하는 김병준 총리내정자  정치 > 정치일반\n",
       "3071              [경향포토]답변하는 김병준 총리내정자  정치 > 정치일반\n",
       "3080             [경향포토]물 마시는 김병준 총리내정자  정치 > 정치일반\n",
       "3081            [경향포토]물 마시는 김병준 총리 내정자  정치 > 정치일반\n",
       "489      김병준 총리 내정자 “책임총리 권한행사 얘기 있었다”  정치 > 정치일반\n",
       "3065          [경향포토]김병준 총리 내정자, '사퇴거절'  정치 > 정치일반\n",
       "2620  김병준 총리 내정자 “내가 왜 자진 사퇴하느냐”고 하지만…  정치 > 정치일반\n",
       "3063              [경향포토]출근하는 김병준 총리내정자  정치 > 정치일반\n",
       "3062           [경향포토]사무실 향하는 김병준 총리내정자  정치 > 정치일반\n",
       "3070               [경향포토]목타는 김병준 총리내정자  정치 > 정치일반\n",
       "485             [경향포토]웃고 있는 김병준 총리 내정자  사회 > 사회일반"
      ]
     },
     "metadata": {},
     "output_type": "display_data"
    },
    {
     "name": "stdout",
     "output_type": "stream",
     "text": [
      "\n",
      "\n",
      "\n",
      "Cluster 2: Size 7\n"
     ]
    },
    {
     "data": {
      "text/html": [
       "<div>\n",
       "<table border=\"1\" class=\"dataframe\">\n",
       "  <thead>\n",
       "    <tr style=\"text-align: right;\">\n",
       "      <th></th>\n",
       "      <th>title</th>\n",
       "      <th>category</th>\n",
       "    </tr>\n",
       "  </thead>\n",
       "  <tbody>\n",
       "    <tr>\n",
       "      <th>2472</th>\n",
       "      <td>[경향포토]우병우 검찰 출석</td>\n",
       "      <td>사회 &gt; 법원·검찰</td>\n",
       "    </tr>\n",
       "    <tr>\n",
       "      <th>2481</th>\n",
       "      <td>[경향포토]우병우 전 수석 검찰 출석</td>\n",
       "      <td>사회 &gt; 법원·검찰</td>\n",
       "    </tr>\n",
       "    <tr>\n",
       "      <th>2479</th>\n",
       "      <td>[경향포토]우병우 검찰 출석</td>\n",
       "      <td>사회 &gt; 법원·검찰</td>\n",
       "    </tr>\n",
       "    <tr>\n",
       "      <th>2448</th>\n",
       "      <td>[경향포토]우병우, 드디어 검찰에</td>\n",
       "      <td>사회 &gt; 사회일반</td>\n",
       "    </tr>\n",
       "    <tr>\n",
       "      <th>2445</th>\n",
       "      <td>[경향포토]'계급장' 뗀 우병우 검찰 출석</td>\n",
       "      <td>사회 &gt; 사회일반</td>\n",
       "    </tr>\n",
       "    <tr>\n",
       "      <th>2478</th>\n",
       "      <td>[경향포토]우병우 검찰 출석</td>\n",
       "      <td>사회 &gt; 법원·검찰</td>\n",
       "    </tr>\n",
       "    <tr>\n",
       "      <th>2474</th>\n",
       "      <td>[경향포토]우병우 검찰출석</td>\n",
       "      <td>사회 &gt; 법원·검찰</td>\n",
       "    </tr>\n",
       "  </tbody>\n",
       "</table>\n",
       "</div>"
      ],
      "text/plain": [
       "                        title    category\n",
       "2472          [경향포토]우병우 검찰 출석  사회 > 법원·검찰\n",
       "2481     [경향포토]우병우 전 수석 검찰 출석  사회 > 법원·검찰\n",
       "2479          [경향포토]우병우 검찰 출석  사회 > 법원·검찰\n",
       "2448       [경향포토]우병우, 드디어 검찰에   사회 > 사회일반\n",
       "2445  [경향포토]'계급장' 뗀 우병우 검찰 출석   사회 > 사회일반\n",
       "2478          [경향포토]우병우 검찰 출석  사회 > 법원·검찰\n",
       "2474           [경향포토]우병우 검찰출석  사회 > 법원·검찰"
      ]
     },
     "metadata": {},
     "output_type": "display_data"
    },
    {
     "name": "stdout",
     "output_type": "stream",
     "text": [
      "\n",
      "\n",
      "\n",
      "Cluster 3: Size 25\n"
     ]
    },
    {
     "data": {
      "text/html": [
       "<div>\n",
       "<table border=\"1\" class=\"dataframe\">\n",
       "  <thead>\n",
       "    <tr style=\"text-align: right;\">\n",
       "      <th></th>\n",
       "      <th>title</th>\n",
       "      <th>category</th>\n",
       "    </tr>\n",
       "  </thead>\n",
       "  <tbody>\n",
       "    <tr>\n",
       "      <th>1912</th>\n",
       "      <td>[경향포토]최순실 관련 대국민담화 발표하는 박근혜 대통령</td>\n",
       "      <td>정치 &gt; 청와대</td>\n",
       "    </tr>\n",
       "    <tr>\n",
       "      <th>1479</th>\n",
       "      <td>박 대통령 내일 대국민담화 발표 … 청와대 핵심 관계자 \"검찰 수사 관련 입장 내놓...</td>\n",
       "      <td>정치 &gt; 정치일반</td>\n",
       "    </tr>\n",
       "    <tr>\n",
       "      <th>1911</th>\n",
       "      <td>[경향포토]대통령 대국민담화 지켜보는 시민</td>\n",
       "      <td>정치 &gt; 청와대</td>\n",
       "    </tr>\n",
       "    <tr>\n",
       "      <th>2141</th>\n",
       "      <td>[박 대통령 대국민담화]“최순실은 ‘개인사’ 도와준 사람” 구체 언급 없이 “수사 중”</td>\n",
       "      <td>정치 &gt; 정치일반</td>\n",
       "    </tr>\n",
       "    <tr>\n",
       "      <th>2140</th>\n",
       "      <td>[박 대통령 대국민담화]대기업 발목 비튼 돈으로 벌린 사업 “미래 성장동력 꺼뜨리지...</td>\n",
       "      <td>정치 &gt; 정치일반</td>\n",
       "    </tr>\n",
       "    <tr>\n",
       "      <th>1906</th>\n",
       "      <td>[경향포토]박근혜 대통령 대국민담화 발표</td>\n",
       "      <td>정치 &gt; 청와대</td>\n",
       "    </tr>\n",
       "    <tr>\n",
       "      <th>1851</th>\n",
       "      <td>與, 박 대통령 대국민담화에 \"결단해주셨다···강한 의지와 진정성 담은 호소\"</td>\n",
       "      <td>정치 &gt; 정치일반</td>\n",
       "    </tr>\n",
       "    <tr>\n",
       "      <th>1514</th>\n",
       "      <td>최순실 구속… 朴대통령 오늘 대국민 담화</td>\n",
       "      <td>정치</td>\n",
       "    </tr>\n",
       "    <tr>\n",
       "      <th>2994</th>\n",
       "      <td>'朴대통령 대국민 담화' 보여주자 펑펑 운 최순실… 혐의는 계속 부인</td>\n",
       "      <td>사회 &gt; 법원ㆍ검찰ㆍ경찰</td>\n",
       "    </tr>\n",
       "    <tr>\n",
       "      <th>2134</th>\n",
       "      <td>[박 대통령 대국민담화]야 대권주자들 비판 일색</td>\n",
       "      <td>정치 &gt; 국회·정당</td>\n",
       "    </tr>\n",
       "    <tr>\n",
       "      <th>2133</th>\n",
       "      <td>[박 대통령 대국민담화]“총리 지명 철회부터” 한목소리…영수회담엔 이견</td>\n",
       "      <td>정치 &gt; 국회·정당</td>\n",
       "    </tr>\n",
       "    <tr>\n",
       "      <th>2142</th>\n",
       "      <td>[박 대통령 대국민담화]나홀로 수습</td>\n",
       "      <td>정치 &gt; 정치일반</td>\n",
       "    </tr>\n",
       "  </tbody>\n",
       "</table>\n",
       "</div>"
      ],
      "text/plain": [
       "                                                  title       category\n",
       "1912                    [경향포토]최순실 관련 대국민담화 발표하는 박근혜 대통령       정치 > 청와대\n",
       "1479  박 대통령 내일 대국민담화 발표 … 청와대 핵심 관계자 \"검찰 수사 관련 입장 내놓...      정치 > 정치일반\n",
       "1911                            [경향포토]대통령 대국민담화 지켜보는 시민       정치 > 청와대\n",
       "2141   [박 대통령 대국민담화]“최순실은 ‘개인사’ 도와준 사람” 구체 언급 없이 “수사 중”      정치 > 정치일반\n",
       "2140  [박 대통령 대국민담화]대기업 발목 비튼 돈으로 벌린 사업 “미래 성장동력 꺼뜨리지...      정치 > 정치일반\n",
       "1906                             [경향포토]박근혜 대통령 대국민담화 발표       정치 > 청와대\n",
       "1851        與, 박 대통령 대국민담화에 \"결단해주셨다···강한 의지와 진정성 담은 호소\"      정치 > 정치일반\n",
       "1514                             최순실 구속… 朴대통령 오늘 대국민 담화             정치\n",
       "2994             '朴대통령 대국민 담화' 보여주자 펑펑 운 최순실… 혐의는 계속 부인  사회 > 법원ㆍ검찰ㆍ경찰\n",
       "2134                         [박 대통령 대국민담화]야 대권주자들 비판 일색     정치 > 국회·정당\n",
       "2133            [박 대통령 대국민담화]“총리 지명 철회부터” 한목소리…영수회담엔 이견     정치 > 국회·정당\n",
       "2142                                [박 대통령 대국민담화]나홀로 수습      정치 > 정치일반"
      ]
     },
     "metadata": {},
     "output_type": "display_data"
    },
    {
     "name": "stdout",
     "output_type": "stream",
     "text": [
      "\n",
      "\n",
      "\n",
      "Cluster 4: Size 25\n"
     ]
    },
    {
     "data": {
      "text/html": [
       "<div>\n",
       "<table border=\"1\" class=\"dataframe\">\n",
       "  <thead>\n",
       "    <tr style=\"text-align: right;\">\n",
       "      <th></th>\n",
       "      <th>title</th>\n",
       "      <th>category</th>\n",
       "    </tr>\n",
       "  </thead>\n",
       "  <tbody>\n",
       "    <tr>\n",
       "      <th>1914</th>\n",
       "      <td>[경향포토]국회 새누리당 찾은 비서실장</td>\n",
       "      <td>정치 &gt; 정치일반</td>\n",
       "    </tr>\n",
       "    <tr>\n",
       "      <th>1020</th>\n",
       "      <td>신임 대통령 비서실장에 DJ 비서실장, 한광옥 국민대통합위원장</td>\n",
       "      <td>정치 &gt; 국회·정당</td>\n",
       "    </tr>\n",
       "    <tr>\n",
       "      <th>2555</th>\n",
       "      <td>한광옥 대통령 비서실장 \"광화문 광장에서 보여준 국민 준엄한 뜻, 매우 무겁게 느껴\"</td>\n",
       "      <td>정치 &gt; 국회·정당</td>\n",
       "    </tr>\n",
       "    <tr>\n",
       "      <th>715</th>\n",
       "      <td>[11·2 기습 개각]“비서실장 누가 맡으려 할까” 뒤엉켜버린 인적쇄신 수순</td>\n",
       "      <td>정치 &gt; 정치일반</td>\n",
       "    </tr>\n",
       "    <tr>\n",
       "      <th>1926</th>\n",
       "      <td>[경향포토]운영위 답변하는 한광옥 비서실장</td>\n",
       "      <td>정치 &gt; 정치일반</td>\n",
       "    </tr>\n",
       "    <tr>\n",
       "      <th>1526</th>\n",
       "      <td>새 비서실장에 'DJ맨' 한광옥</td>\n",
       "      <td>정치 &gt; 청와대</td>\n",
       "    </tr>\n",
       "    <tr>\n",
       "      <th>1909</th>\n",
       "      <td>[경향포토]국회 더불어민주당 찾은 비서실장</td>\n",
       "      <td>정치 &gt; 정치일반</td>\n",
       "    </tr>\n",
       "    <tr>\n",
       "      <th>1917</th>\n",
       "      <td>한광옥 청와대 비서실장 “대통령 사과, 어느 때보다 진실성 있어”</td>\n",
       "      <td>정치 &gt; 정치일반</td>\n",
       "    </tr>\n",
       "    <tr>\n",
       "      <th>914</th>\n",
       "      <td>靑 김규현 비서실장 대행 \"개각, 뉴스 보고 알았다\"</td>\n",
       "      <td>정치 &gt; 청와대</td>\n",
       "    </tr>\n",
       "    <tr>\n",
       "      <th>2233</th>\n",
       "      <td>국회 인사 온 한광옥에 野圈 불편한 기색… 박지원 \"DJ 비서실장까지 지낸 분이…\"</td>\n",
       "      <td>정치</td>\n",
       "    </tr>\n",
       "    <tr>\n",
       "      <th>1024</th>\n",
       "      <td>새 대통령 비서실장에 한광옥 내정</td>\n",
       "      <td>정치 &gt; 청와대</td>\n",
       "    </tr>\n",
       "    <tr>\n",
       "      <th>1927</th>\n",
       "      <td>[경향포토]국회 운영위 답변하는 한광옥 비서실장</td>\n",
       "      <td>정치 &gt; 정치일반</td>\n",
       "    </tr>\n",
       "  </tbody>\n",
       "</table>\n",
       "</div>"
      ],
      "text/plain": [
       "                                                title    category\n",
       "1914                            [경향포토]국회 새누리당 찾은 비서실장   정치 > 정치일반\n",
       "1020               신임 대통령 비서실장에 DJ 비서실장, 한광옥 국민대통합위원장  정치 > 국회·정당\n",
       "2555  한광옥 대통령 비서실장 \"광화문 광장에서 보여준 국민 준엄한 뜻, 매우 무겁게 느껴\"  정치 > 국회·정당\n",
       "715        [11·2 기습 개각]“비서실장 누가 맡으려 할까” 뒤엉켜버린 인적쇄신 수순   정치 > 정치일반\n",
       "1926                          [경향포토]운영위 답변하는 한광옥 비서실장   정치 > 정치일반\n",
       "1526                                새 비서실장에 'DJ맨' 한광옥    정치 > 청와대\n",
       "1909                          [경향포토]국회 더불어민주당 찾은 비서실장   정치 > 정치일반\n",
       "1917             한광옥 청와대 비서실장 “대통령 사과, 어느 때보다 진실성 있어”   정치 > 정치일반\n",
       "914                     靑 김규현 비서실장 대행 \"개각, 뉴스 보고 알았다\"    정치 > 청와대\n",
       "2233   국회 인사 온 한광옥에 野圈 불편한 기색… 박지원 \"DJ 비서실장까지 지낸 분이…\"          정치\n",
       "1024                               새 대통령 비서실장에 한광옥 내정    정치 > 청와대\n",
       "1927                       [경향포토]국회 운영위 답변하는 한광옥 비서실장   정치 > 정치일반"
      ]
     },
     "metadata": {},
     "output_type": "display_data"
    },
    {
     "name": "stdout",
     "output_type": "stream",
     "text": [
      "\n",
      "\n",
      "\n",
      "Cluster 5: Size 8\n"
     ]
    },
    {
     "data": {
      "text/html": [
       "<div>\n",
       "<table border=\"1\" class=\"dataframe\">\n",
       "  <thead>\n",
       "    <tr style=\"text-align: right;\">\n",
       "      <th></th>\n",
       "      <th>title</th>\n",
       "      <th>category</th>\n",
       "    </tr>\n",
       "  </thead>\n",
       "  <tbody>\n",
       "    <tr>\n",
       "      <th>939</th>\n",
       "      <td>'고장철' 인천지하철 2호선, 또 20분간 올스톱</td>\n",
       "      <td>사회 &gt; 교통ㆍ관광ㆍ항공</td>\n",
       "    </tr>\n",
       "    <tr>\n",
       "      <th>3702</th>\n",
       "      <td>101일간 13차례 고장… 심장 떨리는 인천지하철 2호선</td>\n",
       "      <td>사회 &gt; 교통ㆍ관광ㆍ항공</td>\n",
       "    </tr>\n",
       "    <tr>\n",
       "      <th>720</th>\n",
       "      <td>인천지하철 2호선 20분간 ‘스톱’</td>\n",
       "      <td>전국 &gt; 서울·수도권 서울 경기 인천</td>\n",
       "    </tr>\n",
       "    <tr>\n",
       "      <th>491</th>\n",
       "      <td>인천지하철 2호선 고장…2시간째 운행 중단</td>\n",
       "      <td>전국 &gt; 서울·수도권 서울 경기 인천</td>\n",
       "    </tr>\n",
       "    <tr>\n",
       "      <th>855</th>\n",
       "      <td>석달새 12차례… ‘사고鐵’ 인천지하철 2호선 19분간 올스톱</td>\n",
       "      <td>뉴스 &gt; 사회 &gt; 사회일반</td>\n",
       "    </tr>\n",
       "    <tr>\n",
       "      <th>3050</th>\n",
       "      <td>‘사고철’ 인천지하철 2호선 출근길 2시간 운행 중단</td>\n",
       "      <td>사회 &gt; 사건·사고</td>\n",
       "    </tr>\n",
       "    <tr>\n",
       "      <th>446</th>\n",
       "      <td>인천지하철 2호선 전 구간 중단…선로변환기 이상</td>\n",
       "      <td>사회 &gt; 전국</td>\n",
       "    </tr>\n",
       "    <tr>\n",
       "      <th>3047</th>\n",
       "      <td>인천지하철 2호선 출근길 또 중단…2시간만에 재개</td>\n",
       "      <td>사회 &gt; 전국</td>\n",
       "    </tr>\n",
       "  </tbody>\n",
       "</table>\n",
       "</div>"
      ],
      "text/plain": [
       "                                   title              category\n",
       "939          '고장철' 인천지하철 2호선, 또 20분간 올스톱         사회 > 교통ㆍ관광ㆍ항공\n",
       "3702     101일간 13차례 고장… 심장 떨리는 인천지하철 2호선         사회 > 교통ㆍ관광ㆍ항공\n",
       "720                  인천지하철 2호선 20분간 ‘스톱’  전국 > 서울·수도권 서울 경기 인천\n",
       "491              인천지하철 2호선 고장…2시간째 운행 중단  전국 > 서울·수도권 서울 경기 인천\n",
       "855   석달새 12차례… ‘사고鐵’ 인천지하철 2호선 19분간 올스톱        뉴스 > 사회 > 사회일반\n",
       "3050       ‘사고철’ 인천지하철 2호선 출근길 2시간 운행 중단            사회 > 사건·사고\n",
       "446           인천지하철 2호선 전 구간 중단…선로변환기 이상               사회 > 전국\n",
       "3047         인천지하철 2호선 출근길 또 중단…2시간만에 재개               사회 > 전국"
      ]
     },
     "metadata": {},
     "output_type": "display_data"
    },
    {
     "name": "stdout",
     "output_type": "stream",
     "text": [
      "\n",
      "\n",
      "\n",
      "Cluster 6: Size 4\n"
     ]
    },
    {
     "data": {
      "text/html": [
       "<div>\n",
       "<table border=\"1\" class=\"dataframe\">\n",
       "  <thead>\n",
       "    <tr style=\"text-align: right;\">\n",
       "      <th></th>\n",
       "      <th>title</th>\n",
       "      <th>category</th>\n",
       "    </tr>\n",
       "  </thead>\n",
       "  <tbody>\n",
       "    <tr>\n",
       "      <th>1062</th>\n",
       "      <td>[경향포토]니콘 액션카메라 키미션</td>\n",
       "      <td>테크 &gt; PC·기기</td>\n",
       "    </tr>\n",
       "    <tr>\n",
       "      <th>1061</th>\n",
       "      <td>[경향포토]니콘 액션카메라 키미션 출시</td>\n",
       "      <td>테크 &gt; PC·기기</td>\n",
       "    </tr>\n",
       "    <tr>\n",
       "      <th>1064</th>\n",
       "      <td>[경향포토]니콘 액션카메라</td>\n",
       "      <td>테크 &gt; PC·기기</td>\n",
       "    </tr>\n",
       "    <tr>\n",
       "      <th>1060</th>\n",
       "      <td>[경향포토]니콘 키미션 액션카메라</td>\n",
       "      <td>테크 &gt; PC·기기</td>\n",
       "    </tr>\n",
       "  </tbody>\n",
       "</table>\n",
       "</div>"
      ],
      "text/plain": [
       "                      title    category\n",
       "1062     [경향포토]니콘 액션카메라 키미션  테크 > PC·기기\n",
       "1061  [경향포토]니콘 액션카메라 키미션 출시  테크 > PC·기기\n",
       "1064         [경향포토]니콘 액션카메라  테크 > PC·기기\n",
       "1060     [경향포토]니콘 키미션 액션카메라  테크 > PC·기기"
      ]
     },
     "metadata": {},
     "output_type": "display_data"
    },
    {
     "name": "stdout",
     "output_type": "stream",
     "text": [
      "\n",
      "\n",
      "\n",
      "Cluster 7: Size 15\n"
     ]
    },
    {
     "data": {
      "text/html": [
       "<div>\n",
       "<table border=\"1\" class=\"dataframe\">\n",
       "  <thead>\n",
       "    <tr style=\"text-align: right;\">\n",
       "      <th></th>\n",
       "      <th>title</th>\n",
       "      <th>category</th>\n",
       "    </tr>\n",
       "  </thead>\n",
       "  <tbody>\n",
       "    <tr>\n",
       "      <th>1017</th>\n",
       "      <td>서울 강남4구·경기 과천, ‘분양권 전매‘ 시장 사라진다</td>\n",
       "      <td>부동산 &gt;</td>\n",
       "    </tr>\n",
       "    <tr>\n",
       "      <th>1277</th>\n",
       "      <td>“강남4구·과천 분양권 전매금지”…투기꾼 지나간 뒤 ‘뒷북’</td>\n",
       "      <td>경제 &gt; 경제일반</td>\n",
       "    </tr>\n",
       "    <tr>\n",
       "      <th>35</th>\n",
       "      <td>3일 부동산 대책, 서울 강남3구만 정밀타격 예고에… 수도권은 투자 열기 확산</td>\n",
       "      <td>뉴스 &gt; 경제 &gt; 경제일반</td>\n",
       "    </tr>\n",
       "    <tr>\n",
       "      <th>1248</th>\n",
       "      <td>집값 안정보다 ‘과열 억제’에 방점 찍은 부동산 대책</td>\n",
       "      <td>경제 &gt; 부동산</td>\n",
       "    </tr>\n",
       "    <tr>\n",
       "      <th>2853</th>\n",
       "      <td>위례 등 공공택지 분양권 전매제한, 민간건설 아파트도 포함</td>\n",
       "      <td>뉴스 &gt; 경제 &gt; 경제일반</td>\n",
       "    </tr>\n",
       "    <tr>\n",
       "      <th>1054</th>\n",
       "      <td>서울 강남 4개구 분양권 전매 입주 때까지 금지</td>\n",
       "      <td>경제 &gt; 부동산</td>\n",
       "    </tr>\n",
       "    <tr>\n",
       "      <th>1729</th>\n",
       "      <td>강남 4구-과천 신규분양 아파트, 소유권이전 등기때까지 분양권 못팔아</td>\n",
       "      <td>뉴스 &gt; 경제 &gt; 경제일반</td>\n",
       "    </tr>\n",
       "    <tr>\n",
       "      <th>1305</th>\n",
       "      <td>[11·3 부동산 대책]이번에도…‘강남권 투기과열지구 지정’은 없다</td>\n",
       "      <td>부동산 &gt;</td>\n",
       "    </tr>\n",
       "    <tr>\n",
       "      <th>1306</th>\n",
       "      <td>[11·3 부동산 대책]과열 지역 위주 ‘급한 불 끄기’··· 재건축·청약광풍 부산...</td>\n",
       "      <td>부동산 &gt;</td>\n",
       "    </tr>\n",
       "    <tr>\n",
       "      <th>1025</th>\n",
       "      <td>[11·3 부동산 대책] “투기 수요 억제 효과“ “투기 광풍 잠재우기엔 역부족”</td>\n",
       "      <td>부동산 &gt;</td>\n",
       "    </tr>\n",
       "    <tr>\n",
       "      <th>1446</th>\n",
       "      <td>[11·3 부동산 대책]분양가의 10% 이상 내야 중도금 대출보증 가능</td>\n",
       "      <td>부동산 &gt;</td>\n",
       "    </tr>\n",
       "    <tr>\n",
       "      <th>2702</th>\n",
       "      <td>11·3 부동산대책에 주택시장 냉기류</td>\n",
       "      <td>경제 &gt; 부동산</td>\n",
       "    </tr>\n",
       "  </tbody>\n",
       "</table>\n",
       "</div>"
      ],
      "text/plain": [
       "                                                  title        category\n",
       "1017                    서울 강남4구·경기 과천, ‘분양권 전매‘ 시장 사라진다          부동산 > \n",
       "1277                  “강남4구·과천 분양권 전매금지”…투기꾼 지나간 뒤 ‘뒷북’       경제 > 경제일반\n",
       "35          3일 부동산 대책, 서울 강남3구만 정밀타격 예고에… 수도권은 투자 열기 확산  뉴스 > 경제 > 경제일반\n",
       "1248                      집값 안정보다 ‘과열 억제’에 방점 찍은 부동산 대책        경제 > 부동산\n",
       "2853                   위례 등 공공택지 분양권 전매제한, 민간건설 아파트도 포함  뉴스 > 경제 > 경제일반\n",
       "1054                         서울 강남 4개구 분양권 전매 입주 때까지 금지        경제 > 부동산\n",
       "1729             강남 4구-과천 신규분양 아파트, 소유권이전 등기때까지 분양권 못팔아  뉴스 > 경제 > 경제일반\n",
       "1305              [11·3 부동산 대책]이번에도…‘강남권 투기과열지구 지정’은 없다          부동산 > \n",
       "1306  [11·3 부동산 대책]과열 지역 위주 ‘급한 불 끄기’··· 재건축·청약광풍 부산...          부동산 > \n",
       "1025      [11·3 부동산 대책] “투기 수요 억제 효과“ “투기 광풍 잠재우기엔 역부족”          부동산 > \n",
       "1446            [11·3 부동산 대책]분양가의 10% 이상 내야 중도금 대출보증 가능          부동산 > \n",
       "2702                               11·3 부동산대책에 주택시장 냉기류        경제 > 부동산"
      ]
     },
     "metadata": {},
     "output_type": "display_data"
    },
    {
     "name": "stdout",
     "output_type": "stream",
     "text": [
      "\n",
      "\n",
      "\n",
      "Cluster 8: Size 6\n"
     ]
    },
    {
     "data": {
      "text/html": [
       "<div>\n",
       "<table border=\"1\" class=\"dataframe\">\n",
       "  <thead>\n",
       "    <tr style=\"text-align: right;\">\n",
       "      <th></th>\n",
       "      <th>title</th>\n",
       "      <th>category</th>\n",
       "    </tr>\n",
       "  </thead>\n",
       "  <tbody>\n",
       "    <tr>\n",
       "      <th>1362</th>\n",
       "      <td>[경향포토]청계천 서울빛초롱축제</td>\n",
       "      <td>사회 &gt; 사회일반</td>\n",
       "    </tr>\n",
       "    <tr>\n",
       "      <th>1363</th>\n",
       "      <td>[경향포토]청계천 '2016 서울빛초롱축제'</td>\n",
       "      <td>사회 &gt; 사회일반</td>\n",
       "    </tr>\n",
       "    <tr>\n",
       "      <th>1496</th>\n",
       "      <td>서울 청계천서 오늘부터 ‘빛초롱축제’ 연다</td>\n",
       "      <td>전국 &gt; 서울·수도권 서울 경기 인천</td>\n",
       "    </tr>\n",
       "    <tr>\n",
       "      <th>1709</th>\n",
       "      <td>서울빛초롱축제, 4일 청계천서 개막</td>\n",
       "      <td>뉴스 &gt; 사회 &gt; 사회일반</td>\n",
       "    </tr>\n",
       "    <tr>\n",
       "      <th>1355</th>\n",
       "      <td>[경향포토]서울빛초롱축제 내일 개막</td>\n",
       "      <td>사회 &gt; 사회일반</td>\n",
       "    </tr>\n",
       "    <tr>\n",
       "      <th>1356</th>\n",
       "      <td>[경향포토]2016 서울 빛초롱 축제</td>\n",
       "      <td>사회 &gt; 사회일반</td>\n",
       "    </tr>\n",
       "  </tbody>\n",
       "</table>\n",
       "</div>"
      ],
      "text/plain": [
       "                         title              category\n",
       "1362         [경향포토]청계천 서울빛초롱축제             사회 > 사회일반\n",
       "1363  [경향포토]청계천 '2016 서울빛초롱축제'             사회 > 사회일반\n",
       "1496   서울 청계천서 오늘부터 ‘빛초롱축제’ 연다  전국 > 서울·수도권 서울 경기 인천\n",
       "1709       서울빛초롱축제, 4일 청계천서 개막        뉴스 > 사회 > 사회일반\n",
       "1355       [경향포토]서울빛초롱축제 내일 개막             사회 > 사회일반\n",
       "1356      [경향포토]2016 서울 빛초롱 축제             사회 > 사회일반"
      ]
     },
     "metadata": {},
     "output_type": "display_data"
    },
    {
     "name": "stdout",
     "output_type": "stream",
     "text": [
      "\n",
      "\n",
      "\n",
      "Cluster 9: Size 5\n"
     ]
    },
    {
     "data": {
      "text/html": [
       "<div>\n",
       "<table border=\"1\" class=\"dataframe\">\n",
       "  <thead>\n",
       "    <tr style=\"text-align: right;\">\n",
       "      <th></th>\n",
       "      <th>title</th>\n",
       "      <th>category</th>\n",
       "    </tr>\n",
       "  </thead>\n",
       "  <tbody>\n",
       "    <tr>\n",
       "      <th>1177</th>\n",
       "      <td>[경향포토]외국인 학생 패션쇼 - 1</td>\n",
       "      <td>사회 &gt; 사회일반</td>\n",
       "    </tr>\n",
       "    <tr>\n",
       "      <th>1173</th>\n",
       "      <td>[경향포토]외국인 학생 패션쇼 - 5</td>\n",
       "      <td>사회 &gt; 사회일반</td>\n",
       "    </tr>\n",
       "    <tr>\n",
       "      <th>1174</th>\n",
       "      <td>[경향포토]외국인 학생 패션쇼 - 4</td>\n",
       "      <td>사회 &gt; 사회일반</td>\n",
       "    </tr>\n",
       "    <tr>\n",
       "      <th>1176</th>\n",
       "      <td>[경향포토]외국인 학생 패션쇼 - 2</td>\n",
       "      <td>사회 &gt; 사회일반</td>\n",
       "    </tr>\n",
       "    <tr>\n",
       "      <th>1175</th>\n",
       "      <td>[경향포토]외국인 학생 패션쇼 - 3</td>\n",
       "      <td>사회 &gt; 사회일반</td>\n",
       "    </tr>\n",
       "  </tbody>\n",
       "</table>\n",
       "</div>"
      ],
      "text/plain": [
       "                     title   category\n",
       "1177  [경향포토]외국인 학생 패션쇼 - 1  사회 > 사회일반\n",
       "1173  [경향포토]외국인 학생 패션쇼 - 5  사회 > 사회일반\n",
       "1174  [경향포토]외국인 학생 패션쇼 - 4  사회 > 사회일반\n",
       "1176  [경향포토]외국인 학생 패션쇼 - 2  사회 > 사회일반\n",
       "1175  [경향포토]외국인 학생 패션쇼 - 3  사회 > 사회일반"
      ]
     },
     "metadata": {},
     "output_type": "display_data"
    },
    {
     "name": "stdout",
     "output_type": "stream",
     "text": [
      "\n",
      "\n",
      "\n",
      "Cluster 10: Size 15\n"
     ]
    },
    {
     "data": {
      "text/html": [
       "<div>\n",
       "<table border=\"1\" class=\"dataframe\">\n",
       "  <thead>\n",
       "    <tr style=\"text-align: right;\">\n",
       "      <th></th>\n",
       "      <th>title</th>\n",
       "      <th>category</th>\n",
       "    </tr>\n",
       "  </thead>\n",
       "  <tbody>\n",
       "    <tr>\n",
       "      <th>3227</th>\n",
       "      <td>'굿판 참여' 박승주 안전처 장관 내정자 \"환태평양 지진대가 활동해서\" 해명</td>\n",
       "      <td>사회 &gt; 사회일반</td>\n",
       "    </tr>\n",
       "    <tr>\n",
       "      <th>3354</th>\n",
       "      <td>[카드뉴스] 장관 내정자와 굿판</td>\n",
       "      <td>사회 &gt; 카드뉴스</td>\n",
       "    </tr>\n",
       "    <tr>\n",
       "      <th>3044</th>\n",
       "      <td>안전처 장관 내정자 “명상 통해 47가지 모습으로 지구 왔다”</td>\n",
       "      <td>정치 &gt; 정치BAR</td>\n",
       "    </tr>\n",
       "    <tr>\n",
       "      <th>3681</th>\n",
       "      <td>'명상 중 전봉준 장군에게 책 받았다'는 박승주 내정자</td>\n",
       "      <td>정치 &gt; 청와대</td>\n",
       "    </tr>\n",
       "    <tr>\n",
       "      <th>3130</th>\n",
       "      <td>‘전생 안전처’ 장관? 박승주 후보자, 전생 체험 고백 책도 썼다</td>\n",
       "      <td>사회 &gt; 사회일반</td>\n",
       "    </tr>\n",
       "    <tr>\n",
       "      <th>3553</th>\n",
       "      <td>[횡설수설/송평인]안전처 장관 후보자의 굿판</td>\n",
       "      <td>뉴스 &gt; 정치 &gt; 정치일반</td>\n",
       "    </tr>\n",
       "    <tr>\n",
       "      <th>654</th>\n",
       "      <td>박승주 국민안전처 장관은 누구?</td>\n",
       "      <td>정치 &gt; 청와대</td>\n",
       "    </tr>\n",
       "    <tr>\n",
       "      <th>870</th>\n",
       "      <td>‘안전’ 경력 없는 국민안전 사령탑</td>\n",
       "      <td>뉴스 &gt; 정치 &gt; 정치일반</td>\n",
       "    </tr>\n",
       "    <tr>\n",
       "      <th>3103</th>\n",
       "      <td>박승주 국민안전처 장관 내정자, 굿판 참석·47회 전생 고백 논란</td>\n",
       "      <td>사회 &gt; 전국</td>\n",
       "    </tr>\n",
       "    <tr>\n",
       "      <th>3447</th>\n",
       "      <td>광화문 한복판 굿판 참석하고 전봉준 만났다는 장관 내정자</td>\n",
       "      <td>정치 &gt; 정치일반</td>\n",
       "    </tr>\n",
       "    <tr>\n",
       "      <th>3398</th>\n",
       "      <td>“지구에 47차례 다른 모습으로 왔었다” 황당한 박승주 장관 후보</td>\n",
       "      <td>정치 &gt; 행정·자치</td>\n",
       "    </tr>\n",
       "    <tr>\n",
       "      <th>3249</th>\n",
       "      <td>박승주 국민안전처 장관 내정자 ‘광화문 굿판’ 참석 해명 들어보니</td>\n",
       "      <td>사회 &gt; 사회일반</td>\n",
       "    </tr>\n",
       "  </tbody>\n",
       "</table>\n",
       "</div>"
      ],
      "text/plain": [
       "                                           title        category\n",
       "3227  '굿판 참여' 박승주 안전처 장관 내정자 \"환태평양 지진대가 활동해서\" 해명       사회 > 사회일반\n",
       "3354                           [카드뉴스] 장관 내정자와 굿판       사회 > 카드뉴스\n",
       "3044          안전처 장관 내정자 “명상 통해 47가지 모습으로 지구 왔다”      정치 > 정치BAR\n",
       "3681              '명상 중 전봉준 장군에게 책 받았다'는 박승주 내정자        정치 > 청와대\n",
       "3130        ‘전생 안전처’ 장관? 박승주 후보자, 전생 체험 고백 책도 썼다       사회 > 사회일반\n",
       "3553                    [횡설수설/송평인]안전처 장관 후보자의 굿판  뉴스 > 정치 > 정치일반\n",
       "654                            박승주 국민안전처 장관은 누구?        정치 > 청와대\n",
       "870                          ‘안전’ 경력 없는 국민안전 사령탑  뉴스 > 정치 > 정치일반\n",
       "3103        박승주 국민안전처 장관 내정자, 굿판 참석·47회 전생 고백 논란         사회 > 전국\n",
       "3447             광화문 한복판 굿판 참석하고 전봉준 만났다는 장관 내정자       정치 > 정치일반\n",
       "3398        “지구에 47차례 다른 모습으로 왔었다” 황당한 박승주 장관 후보      정치 > 행정·자치\n",
       "3249        박승주 국민안전처 장관 내정자 ‘광화문 굿판’ 참석 해명 들어보니       사회 > 사회일반"
      ]
     },
     "metadata": {},
     "output_type": "display_data"
    },
    {
     "name": "stdout",
     "output_type": "stream",
     "text": [
      "\n",
      "\n",
      "\n",
      "Cluster 11: Size 11\n"
     ]
    },
    {
     "data": {
      "text/html": [
       "<div>\n",
       "<table border=\"1\" class=\"dataframe\">\n",
       "  <thead>\n",
       "    <tr style=\"text-align: right;\">\n",
       "      <th></th>\n",
       "      <th>title</th>\n",
       "      <th>category</th>\n",
       "    </tr>\n",
       "  </thead>\n",
       "  <tbody>\n",
       "    <tr>\n",
       "      <th>3302</th>\n",
       "      <td>[경향포토]박 대통령 하야 촉구 텐트 농성</td>\n",
       "      <td>사회 &gt; 사회일반</td>\n",
       "    </tr>\n",
       "    <tr>\n",
       "      <th>3301</th>\n",
       "      <td>[경향포토]텐트 농성 벌이는 문화예술인들</td>\n",
       "      <td>사회 &gt; 사회일반</td>\n",
       "    </tr>\n",
       "    <tr>\n",
       "      <th>1949</th>\n",
       "      <td>[경향포토]예술인들 텐트 빼앗는 경찰</td>\n",
       "      <td>사회 &gt; 사건·사고</td>\n",
       "    </tr>\n",
       "    <tr>\n",
       "      <th>1956</th>\n",
       "      <td>[경향포토]문화예술인 시국선언 농성텐트 끌어내는 경찰</td>\n",
       "      <td>사회 &gt; 사건·사고</td>\n",
       "    </tr>\n",
       "    <tr>\n",
       "      <th>3299</th>\n",
       "      <td>[경향포토]광화문 예술인 텐트농성</td>\n",
       "      <td>사회 &gt; 사회일반</td>\n",
       "    </tr>\n",
       "    <tr>\n",
       "      <th>1940</th>\n",
       "      <td>[경향포토]예술인들의 노숙농성 막는 경찰</td>\n",
       "      <td>사회 &gt; 사건·사고</td>\n",
       "    </tr>\n",
       "    <tr>\n",
       "      <th>1958</th>\n",
       "      <td>[경향포토]예술인 텐트 농성 막는 경찰</td>\n",
       "      <td>사회 &gt; 사건·사고</td>\n",
       "    </tr>\n",
       "    <tr>\n",
       "      <th>1959</th>\n",
       "      <td>[경향포토]문화예술인들의 시국선언...텐트 농성 막는 경찰</td>\n",
       "      <td>사회 &gt; 사건·사고</td>\n",
       "    </tr>\n",
       "    <tr>\n",
       "      <th>1955</th>\n",
       "      <td>[경향포토]예술인들 농성 텐트 막는 경찰</td>\n",
       "      <td>사회 &gt; 사건·사고</td>\n",
       "    </tr>\n",
       "    <tr>\n",
       "      <th>1965</th>\n",
       "      <td>[경향포토]책 읽으며 농성</td>\n",
       "      <td>사회 &gt; 사건·사고</td>\n",
       "    </tr>\n",
       "    <tr>\n",
       "      <th>1945</th>\n",
       "      <td>[경향포토]예술인들 시국선언...텐트 농성 막는 경찰</td>\n",
       "      <td>사회 &gt; 사건·사고</td>\n",
       "    </tr>\n",
       "  </tbody>\n",
       "</table>\n",
       "</div>"
      ],
      "text/plain": [
       "                                 title    category\n",
       "3302           [경향포토]박 대통령 하야 촉구 텐트 농성   사회 > 사회일반\n",
       "3301            [경향포토]텐트 농성 벌이는 문화예술인들   사회 > 사회일반\n",
       "1949              [경향포토]예술인들 텐트 빼앗는 경찰  사회 > 사건·사고\n",
       "1956     [경향포토]문화예술인 시국선언 농성텐트 끌어내는 경찰  사회 > 사건·사고\n",
       "3299                [경향포토]광화문 예술인 텐트농성   사회 > 사회일반\n",
       "1940            [경향포토]예술인들의 노숙농성 막는 경찰  사회 > 사건·사고\n",
       "1958             [경향포토]예술인 텐트 농성 막는 경찰  사회 > 사건·사고\n",
       "1959  [경향포토]문화예술인들의 시국선언...텐트 농성 막는 경찰  사회 > 사건·사고\n",
       "1955            [경향포토]예술인들 농성 텐트 막는 경찰  사회 > 사건·사고\n",
       "1965                    [경향포토]책 읽으며 농성  사회 > 사건·사고\n",
       "1945     [경향포토]예술인들 시국선언...텐트 농성 막는 경찰  사회 > 사건·사고"
      ]
     },
     "metadata": {},
     "output_type": "display_data"
    },
    {
     "name": "stdout",
     "output_type": "stream",
     "text": [
      "\n",
      "\n",
      "\n"
     ]
    }
   ],
   "source": [
    "cluster_data = []\n",
    "\n",
    "for cluster_index in range(best_k):\n",
    "    if cluster_index in best_cluster:\n",
    "        cluster_data.append(train[train['cluster'] == cluster_index])\n",
    "    \n",
    "for i, d in enumerate(cluster_data):\n",
    "    print('Cluster %d:' % (i), 'Size %d' % (len(d)))\n",
    "\n",
    "    display(d[['title', 'category']].sample(min(len(train.cluster.unique()), len(d))))\n",
    "    print('\\n\\n')"
   ]
  },
  {
   "cell_type": "markdown",
   "metadata": {},
   "source": [
    "## Save Dataframe to MongoDB"
   ]
  },
  {
   "cell_type": "code",
   "execution_count": 25,
   "metadata": {
    "collapsed": true
   },
   "outputs": [],
   "source": [
    "client = MongoClient('mongodb://localhost:27017/somanews')\n",
    "client.somanews.authenticate('ssomanews', 'ssomanews1029')\n",
    "db = client.get_database('somanews')\n",
    "articles = db.get_collection('articles')"
   ]
  },
  {
   "cell_type": "code",
   "execution_count": 26,
   "metadata": {
    "collapsed": false
   },
   "outputs": [],
   "source": [
    "articles.insert_many(train.to_dict(orient='records'))\n",
    "client.close()"
   ]
  }
 ],
 "metadata": {
  "kernelspec": {
   "display_name": "Python 3",
   "language": "python",
   "name": "python3"
  },
  "language_info": {
   "codemirror_mode": {
    "name": "ipython",
    "version": 3
   },
   "file_extension": ".py",
   "mimetype": "text/x-python",
   "name": "python",
   "nbconvert_exporter": "python",
   "pygments_lexer": "ipython3",
   "version": "3.5.2"
  }
 },
 "nbformat": 4,
 "nbformat_minor": 1
}
